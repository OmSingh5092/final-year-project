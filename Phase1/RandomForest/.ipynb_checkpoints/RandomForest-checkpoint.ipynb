{
 "cells": [
  {
   "cell_type": "code",
   "execution_count": 14,
   "id": "40d833a5",
   "metadata": {},
   "outputs": [],
   "source": [
    "import pandas as pd\n",
    "from sklearn.model_selection import train_test_split"
   ]
  },
  {
   "cell_type": "code",
   "execution_count": 17,
   "id": "5a940200",
   "metadata": {},
   "outputs": [],
   "source": [
    "dataset = pd.read_csv('../DataSets/data_set_dra_updated.csv')\n",
    "\n",
    "x = pd.DataFrame(dataset.iloc[:, 0:5].values)\n",
    "y = dataset.iloc[:, 5].values"
   ]
  },
  {
   "cell_type": "code",
   "execution_count": 18,
   "id": "3af9d39f",
   "metadata": {},
   "outputs": [],
   "source": [
    "x_train, x_test, y_train, y_test = train_test_split(x, y, test_size = 0.3, random_state = 123)"
   ]
  },
  {
   "cell_type": "code",
   "execution_count": 19,
   "id": "a868fdf0",
   "metadata": {},
   "outputs": [
    {
     "data": {
      "text/plain": [
       "RandomForestRegressor(n_estimators=10, random_state=0)"
      ]
     },
     "execution_count": 19,
     "metadata": {},
     "output_type": "execute_result"
    }
   ],
   "source": [
    "from sklearn.ensemble import RandomForestRegressor\n",
    "\n",
    "RFreg = RandomForestRegressor(n_estimators = 10, random_state = 0)\n",
    "\n",
    "RFreg.fit(x_train,y_train)"
   ]
  },
  {
   "cell_type": "code",
   "execution_count": 20,
   "id": "b14a43cd",
   "metadata": {},
   "outputs": [],
   "source": [
    "y_pred = RFreg.predict(x_test)"
   ]
  },
  {
   "cell_type": "code",
   "execution_count": null,
   "id": "a2f5d382",
   "metadata": {},
   "outputs": [],
   "source": [
    "# Prediction Metrics\n",
    "\n",
    "from sklearn.metrics import r2_score\n",
    "from sklearn.metrics import mean_squared_error as mse\n",
    "from sklearn.metrics import max_error\n",
    "from sklearn.metrics import mean_absolute_error\n",
    "\n",
    "MSE = mse(y_test, y_pred)\n",
    "R2 = r2_score(y_test, y_pred)\n",
    "MAX_ERROR = max_error(y_test, y_pred);\n",
    "MEAN_ABSOLUTE_ERROR = mean_absolute_error(y_test, y_pred)\n",
    "\n",
    "\n",
    "print(\"Mean Squared Error\", MSE)\n",
    "print(\"R-Squared: \", R2)\n",
    "print(\"Max Error\", MAX_ERROR);\n",
    "print(\"Mean Absolute Error\", MEAN_ABSOLUTE_ERROR);"
   ]
  },
  {
   "cell_type": "code",
   "execution_count": 23,
   "id": "60385317",
   "metadata": {},
   "outputs": [
    {
     "data": {
      "image/png": "[encoded data removed]",
      "text/plain": [
       "<Figure size 432x288 with 1 Axes>"
      ]
     },
     "metadata": {
      "needs_background": "light"
     },
     "output_type": "display_data"
    }
   ],
   "source": [
    "import matplotlib.pyplot as plt\n",
    "\n",
    "def generatePredictionPlot(y_pred, y_test):\n",
    "    plt.scatter(x=y_test, y=y_pred, c='navy', alpha=0.6)\n",
    "    plt.plot(y_pred, y_pred,color='cyan')\n",
    "    plt.title('Predicted vs Actual values')\n",
    "    plt.xlabel('Actual values')\n",
    "    plt.ylabel('Predicted values')\n",
    "    plt.show()\n",
    "generatePredictionPlot(y_pred, y_test)"
   ]
  },
  {
   "cell_type": "code",
   "execution_count": null,
   "id": "83eb4d30",
   "metadata": {},
   "outputs": [],
   "source": [
    "# Data Samples\n",
    "\n",
    "d1 = [14.10, 14.55, 2.25, 2.6, 2.42] #HFSS S11 = -0.37\n",
    "d2 = [13.04, 13.30, 2.3, 2.7, 1.84] # HFSS S11 = -0.43\n",
    "d3 = [13.19, 13.74, 2.7, 2.45, 1.95] # HFSS S11 = -0.44\n",
    "d4 = [14.42, 13.12, 2.4, 2.8, 2.41] # HFSS S11 = -0.51\n",
    "d5 = [13.86, 14.57, 2.8, 2.1, 2.56] #HFSS S11 = -0.77\n",
    "\n",
    "# Predictions\n",
    "preds = RFreg.predict([d1,d2,d3,d4,d5])\n",
    "\n",
    "print(\"Predictions\", preds);"
   ]
  },
  {
   "cell_type": "code",
   "execution_count": 25,
   "id": "46b0919a-3104-43e5-aa9b-82c88e64eae4",
   "metadata": {},
   "outputs": [
    {
     "name": "stdout",
     "output_type": "stream",
     "text": [
      "Predicted Values for random samples\n",
      "\n",
      "   Height  Radius    W1    W2  Frequency        S11\n",
      "0   13.46   14.02  3.05  2.50       1.30  -0.394851\n",
      "1   14.05   14.61  3.12  3.23       2.71  -1.385161\n",
      "2   13.28   14.62  2.91  2.86       2.54  -0.333841\n",
      "3   14.45   13.80  3.44  3.24       1.78  -0.429462\n",
      "4   14.62   14.43  3.22  3.03       2.70  -1.327240\n",
      "5   13.61   14.02  3.31  2.66       4.40  -3.208009\n",
      "6   14.68   14.67  3.02  3.39       4.64  -6.503746\n",
      "7   14.76   13.36  3.01  3.35       2.44  -0.501493\n",
      "8   14.20   13.32  3.29  3.43       3.36 -22.562123\n",
      "9   13.99   13.10  2.75  2.78       3.33 -23.866622\n"
     ]
    }
   ],
   "source": [
    "# Generating random data sets\n",
    "\n",
    "import numpy\n",
    "import pandas\n",
    "\n",
    "SAMPLE_SIZE = 10\n",
    "\n",
    "def randomSample(low, high, size):\n",
    "    rand_rad = numpy.random.uniform(low, high, size)\n",
    "    for i in range(0, rand_rad.size):\n",
    "        rand_rad[i] = round(rand_rad[i], 2)\n",
    "    return rand_rad\n",
    "\n",
    "rand_rad = randomSample(13, 15, SAMPLE_SIZE)\n",
    "rand_height = randomSample(13, 15, SAMPLE_SIZE)\n",
    "rand_freq = randomSample(1, 5, SAMPLE_SIZE)\n",
    "rand_w1 = randomSample(2.5, 3.5, SAMPLE_SIZE)\n",
    "rand_w2 = randomSample(2.5, 3.5, SAMPLE_SIZE)\n",
    "\n",
    "rand_x = []\n",
    "for i in range(0,SAMPLE_SIZE):\n",
    "    rand_x.append([rand_height[i], rand_rad[i], rand_w1[i], rand_w2[i], rand_freq[i]])\n",
    "\n",
    "y_pred_rand = RFreg.predict(rand_x)\n",
    "\n",
    "output = []\n",
    "for i in range(0, SAMPLE_SIZE):\n",
    "    output.append([rand_height[i], rand_rad[i], rand_w1[i], rand_w2[i], rand_freq[i], y_pred_rand[i]])\n",
    "    \n",
    "# Creating Dataframe\n",
    "output_df = pandas.DataFrame(output, columns= [\"Height\", \"Radius\", \"W1\", \"W2\", \"Frequency\", \"S11\"])\n",
    "print(\"Predicted Values for random samples\\n\")\n",
    "print(output_df)"
   ]
  },
  {
   "cell_type": "code",
   "execution_count": null,
   "id": "27619624-c65e-4658-8bfc-2a22a59c4a93",
   "metadata": {},
   "outputs": [],
   "source": []
  },
  {
   "cell_type": "code",
   "execution_count": null,
   "id": "9bb7a468-923e-417c-83af-bd88a2f80c04",
   "metadata": {},
   "outputs": [],
   "source": []
  },
  {
   "cell_type": "code",
   "execution_count": null,
   "id": "27c0d67b",
   "metadata": {},
   "outputs": [],
   "source": []
  }
 ],
 "metadata": {
  "kernelspec": {
   "display_name": "Python 3 (ipykernel)",
   "language": "python",
   "name": "python3"
  },
  "language_info": {
   "codemirror_mode": {
    "name": "ipython",
    "version": 3
   },
   "file_extension": ".py",
   "mimetype": "text/x-python",
   "name": "python",
   "nbconvert_exporter": "python",
   "pygments_lexer": "ipython3",
   "version": "3.10.2"
  }
 },
 "nbformat": 4,
 "nbformat_minor": 5
}
