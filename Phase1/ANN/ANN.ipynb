{
 "cells": [
  {
   "cell_type": "code",
   "execution_count": 12,
   "id": "2c3201c8-a735-4497-b59e-1e01831da8ba",
   "metadata": {},
   "outputs": [],
   "source": [
    "import pandas as pd\n",
    "from sklearn.model_selection import train_test_split\n",
    "\n",
    "import keras\n",
    "from keras.models import Sequential\n",
    "from keras.layers import Dense"
   ]
  },
  {
   "cell_type": "code",
   "execution_count": 13,
   "id": "ad861d9a-1472-4503-9d90-c9fe14cf93d3",
   "metadata": {},
   "outputs": [],
   "source": [
    "# Reading data from csv file\n",
    "\n",
    "dataset = pd.read_csv('../../DataSets/data_set_dra_updated.csv')\n",
    "\n",
    "x = pd.DataFrame(dataset.iloc[:, 0:5].values)\n",
    "y = dataset.iloc[:, 5].values"
   ]
  },
  {
   "cell_type": "code",
   "execution_count": 14,
   "id": "02eaa61f-a48c-46dd-9251-a93041462cf0",
   "metadata": {},
   "outputs": [],
   "source": [
    "# Generating training and test data sets\n",
    "\n",
    "x_train, x_test, y_train, y_test = train_test_split(x, y, test_size = 0.2, random_state = 123)"
   ]
  },
  {
   "cell_type": "code",
   "execution_count": 15,
   "id": "eecc7b2c-fa09-4b2f-a089-8166d1f100e8",
   "metadata": {},
   "outputs": [],
   "source": [
    "# Artificial NN\n",
    "\n",
    "classifier = Sequential()\n",
    "\n",
    "# Input Layer\n",
    "classifier.add(Dense(units = 10, activation = 'relu', input_dim = 5))\n",
    "\n",
    "# 1st Hidden Layer\n",
    "classifier.add(Dense(units = 8, activation = 'relu'))\n",
    "\n",
    "# 2nd Hidden Layer\n",
    "classifier.add(Dense(units = 3, activation = 'relu'))\n",
    "\n",
    "# Output Layer\n",
    "classifier.add(Dense(units = 1, activation = 'linear'))\n"
   ]
  },
  {
   "cell_type": "code",
   "execution_count": 16,
   "id": "2137ba00-034d-497b-9ffb-28e69e94f666",
   "metadata": {},
   "outputs": [
    {
     "name": "stdout",
     "output_type": "stream",
     "text": [
      "Epoch 1/100\n",
      "6930/6930 [==============================] - 4s 581us/step - loss: 15.5163 - accuracy: 0.0000e+00 - val_loss: 14.8496 - val_accuracy: 0.0000e+00\n",
      "Epoch 2/100\n",
      "6930/6930 [==============================] - 4s 570us/step - loss: 15.0597 - accuracy: 0.0000e+00 - val_loss: 14.8137 - val_accuracy: 0.0000e+00\n",
      "Epoch 3/100\n",
      "6930/6930 [==============================] - 4s 572us/step - loss: 15.0356 - accuracy: 0.0000e+00 - val_loss: 14.7731 - val_accuracy: 0.0000e+00\n",
      "Epoch 4/100\n",
      "6930/6930 [==============================] - 4s 586us/step - loss: 14.1104 - accuracy: 0.0000e+00 - val_loss: 12.2392 - val_accuracy: 0.0000e+00\n",
      "Epoch 5/100\n",
      "6930/6930 [==============================] - 4s 576us/step - loss: 10.7011 - accuracy: 0.0000e+00 - val_loss: 9.5804 - val_accuracy: 0.0000e+00\n",
      "Epoch 6/100\n",
      "6930/6930 [==============================] - 4s 564us/step - loss: 8.3975 - accuracy: 0.0000e+00 - val_loss: 7.6221 - val_accuracy: 0.0000e+00\n",
      "Epoch 7/100\n",
      "6930/6930 [==============================] - 4s 574us/step - loss: 7.7739 - accuracy: 0.0000e+00 - val_loss: 7.4900 - val_accuracy: 0.0000e+00\n",
      "Epoch 8/100\n",
      "6930/6930 [==============================] - 4s 564us/step - loss: 7.5252 - accuracy: 0.0000e+00 - val_loss: 7.0089 - val_accuracy: 0.0000e+00\n",
      "Epoch 9/100\n",
      "6930/6930 [==============================] - 4s 567us/step - loss: 7.3739 - accuracy: 0.0000e+00 - val_loss: 7.5449 - val_accuracy: 0.0000e+00\n",
      "Epoch 10/100\n",
      "6930/6930 [==============================] - 4s 570us/step - loss: 7.1724 - accuracy: 0.0000e+00 - val_loss: 6.8156 - val_accuracy: 0.0000e+00\n",
      "Epoch 11/100\n",
      "6930/6930 [==============================] - 4s 572us/step - loss: 7.1079 - accuracy: 0.0000e+00 - val_loss: 7.0215 - val_accuracy: 0.0000e+00\n",
      "Epoch 12/100\n",
      "6930/6930 [==============================] - 4s 572us/step - loss: 7.0367 - accuracy: 0.0000e+00 - val_loss: 6.7664 - val_accuracy: 0.0000e+00\n",
      "Epoch 13/100\n",
      "6930/6930 [==============================] - 4s 569us/step - loss: 6.8825 - accuracy: 0.0000e+00 - val_loss: 6.4568 - val_accuracy: 0.0000e+00\n",
      "Epoch 14/100\n",
      "6930/6930 [==============================] - 4s 568us/step - loss: 6.8052 - accuracy: 0.0000e+00 - val_loss: 7.2609 - val_accuracy: 0.0000e+00\n",
      "Epoch 15/100\n",
      "6930/6930 [==============================] - 4s 577us/step - loss: 6.7127 - accuracy: 0.0000e+00 - val_loss: 6.3313 - val_accuracy: 0.0000e+00\n",
      "Epoch 16/100\n",
      "6930/6930 [==============================] - 4s 566us/step - loss: 6.6730 - accuracy: 0.0000e+00 - val_loss: 7.0390 - val_accuracy: 0.0000e+00\n",
      "Epoch 17/100\n",
      "6930/6930 [==============================] - 4s 561us/step - loss: 6.5472 - accuracy: 0.0000e+00 - val_loss: 6.4534 - val_accuracy: 0.0000e+00\n",
      "Epoch 18/100\n",
      "6930/6930 [==============================] - 4s 570us/step - loss: 6.4932 - accuracy: 0.0000e+00 - val_loss: 7.0066 - val_accuracy: 0.0000e+00\n",
      "Epoch 19/100\n",
      "6930/6930 [==============================] - 4s 573us/step - loss: 6.3898 - accuracy: 0.0000e+00 - val_loss: 6.1691 - val_accuracy: 0.0000e+00\n",
      "Epoch 20/100\n",
      "6930/6930 [==============================] - 4s 567us/step - loss: 6.3256 - accuracy: 0.0000e+00 - val_loss: 6.0647 - val_accuracy: 0.0000e+00\n",
      "Epoch 21/100\n",
      "6930/6930 [==============================] - 4s 573us/step - loss: 6.2372 - accuracy: 0.0000e+00 - val_loss: 6.1575 - val_accuracy: 0.0000e+00\n",
      "Epoch 22/100\n",
      "6930/6930 [==============================] - 4s 562us/step - loss: 6.1966 - accuracy: 0.0000e+00 - val_loss: 5.8874 - val_accuracy: 0.0000e+00\n",
      "Epoch 23/100\n",
      "6930/6930 [==============================] - 4s 551us/step - loss: 6.0855 - accuracy: 0.0000e+00 - val_loss: 6.2628 - val_accuracy: 0.0000e+00\n",
      "Epoch 24/100\n",
      "6930/6930 [==============================] - 4s 567us/step - loss: 6.0144 - accuracy: 0.0000e+00 - val_loss: 6.6208 - val_accuracy: 0.0000e+00\n",
      "Epoch 25/100\n",
      "6930/6930 [==============================] - 4s 560us/step - loss: 5.8647 - accuracy: 0.0000e+00 - val_loss: 5.6096 - val_accuracy: 0.0000e+00\n",
      "Epoch 26/100\n",
      "6930/6930 [==============================] - 4s 564us/step - loss: 5.7730 - accuracy: 0.0000e+00 - val_loss: 5.4858 - val_accuracy: 0.0000e+00\n",
      "Epoch 27/100\n",
      "6930/6930 [==============================] - 4s 550us/step - loss: 5.6632 - accuracy: 0.0000e+00 - val_loss: 5.5686 - val_accuracy: 0.0000e+00\n",
      "Epoch 28/100\n",
      "6930/6930 [==============================] - 4s 572us/step - loss: 5.5487 - accuracy: 0.0000e+00 - val_loss: 5.6283 - val_accuracy: 0.0000e+00\n",
      "Epoch 29/100\n",
      "6930/6930 [==============================] - 4s 559us/step - loss: 5.4996 - accuracy: 0.0000e+00 - val_loss: 5.8822 - val_accuracy: 0.0000e+00\n",
      "Epoch 30/100\n",
      "6930/6930 [==============================] - 4s 559us/step - loss: 5.3530 - accuracy: 0.0000e+00 - val_loss: 5.0435 - val_accuracy: 0.0000e+00\n",
      "Epoch 31/100\n",
      "6930/6930 [==============================] - 4s 555us/step - loss: 5.2137 - accuracy: 0.0000e+00 - val_loss: 4.8582 - val_accuracy: 0.0000e+00\n",
      "Epoch 32/100\n",
      "6930/6930 [==============================] - 4s 547us/step - loss: 5.0911 - accuracy: 0.0000e+00 - val_loss: 6.5275 - val_accuracy: 0.0000e+00\n",
      "Epoch 33/100\n",
      "6930/6930 [==============================] - 4s 558us/step - loss: 4.9203 - accuracy: 0.0000e+00 - val_loss: 5.0644 - val_accuracy: 0.0000e+00\n",
      "Epoch 34/100\n",
      "6930/6930 [==============================] - 4s 556us/step - loss: 4.8087 - accuracy: 0.0000e+00 - val_loss: 4.6005 - val_accuracy: 0.0000e+00\n",
      "Epoch 35/100\n",
      "6930/6930 [==============================] - 4s 551us/step - loss: 4.6399 - accuracy: 0.0000e+00 - val_loss: 4.3793 - val_accuracy: 0.0000e+00\n",
      "Epoch 36/100\n",
      "6930/6930 [==============================] - 4s 551us/step - loss: 4.5147 - accuracy: 0.0000e+00 - val_loss: 4.0306 - val_accuracy: 0.0000e+00\n",
      "Epoch 37/100\n",
      "6930/6930 [==============================] - 4s 561us/step - loss: 4.3813 - accuracy: 0.0000e+00 - val_loss: 4.2207 - val_accuracy: 0.0000e+00\n",
      "Epoch 38/100\n",
      "6930/6930 [==============================] - 4s 566us/step - loss: 4.2060 - accuracy: 0.0000e+00 - val_loss: 3.7829 - val_accuracy: 0.0000e+00\n",
      "Epoch 39/100\n",
      "6930/6930 [==============================] - 4s 576us/step - loss: 4.1139 - accuracy: 0.0000e+00 - val_loss: 4.8955 - val_accuracy: 0.0000e+00\n",
      "Epoch 40/100\n",
      "6930/6930 [==============================] - 4s 567us/step - loss: 3.9155 - accuracy: 0.0000e+00 - val_loss: 3.5036 - val_accuracy: 0.0000e+00\n",
      "Epoch 41/100\n",
      "6930/6930 [==============================] - 4s 566us/step - loss: 3.7279 - accuracy: 0.0000e+00 - val_loss: 4.7311 - val_accuracy: 0.0000e+00\n",
      "Epoch 42/100\n",
      "6930/6930 [==============================] - 4s 553us/step - loss: 3.5921 - accuracy: 0.0000e+00 - val_loss: 3.0980 - val_accuracy: 0.0000e+00\n",
      "Epoch 43/100\n",
      "6930/6930 [==============================] - 4s 564us/step - loss: 3.3600 - accuracy: 0.0000e+00 - val_loss: 3.7261 - val_accuracy: 0.0000e+00\n",
      "Epoch 44/100\n",
      "6930/6930 [==============================] - 4s 561us/step - loss: 3.1884 - accuracy: 0.0000e+00 - val_loss: 2.9076 - val_accuracy: 0.0000e+00\n",
      "Epoch 45/100\n",
      "6930/6930 [==============================] - 4s 565us/step - loss: 2.9994 - accuracy: 0.0000e+00 - val_loss: 2.3242 - val_accuracy: 0.0000e+00\n",
      "Epoch 46/100\n",
      "6930/6930 [==============================] - 4s 562us/step - loss: 2.7662 - accuracy: 0.0000e+00 - val_loss: 3.1641 - val_accuracy: 0.0000e+00\n",
      "Epoch 47/100\n",
      "6930/6930 [==============================] - 4s 563us/step - loss: 2.6469 - accuracy: 0.0000e+00 - val_loss: 2.5949 - val_accuracy: 0.0000e+00\n",
      "Epoch 48/100\n",
      "6930/6930 [==============================] - 4s 569us/step - loss: 2.4413 - accuracy: 0.0000e+00 - val_loss: 2.6703 - val_accuracy: 0.0000e+00\n",
      "Epoch 49/100\n",
      "6930/6930 [==============================] - 4s 563us/step - loss: 2.2368 - accuracy: 0.0000e+00 - val_loss: 1.7205 - val_accuracy: 0.0000e+00\n",
      "Epoch 50/100\n",
      "6930/6930 [==============================] - 4s 554us/step - loss: 2.2557 - accuracy: 0.0000e+00 - val_loss: 1.4682 - val_accuracy: 0.0000e+00\n",
      "Epoch 51/100\n",
      "6930/6930 [==============================] - 4s 567us/step - loss: 2.1497 - accuracy: 0.0000e+00 - val_loss: 1.3853 - val_accuracy: 0.0000e+00\n",
      "Epoch 52/100\n",
      "6930/6930 [==============================] - 4s 562us/step - loss: 2.5562 - accuracy: 0.0000e+00 - val_loss: 1.7066 - val_accuracy: 0.0000e+00\n",
      "Epoch 53/100\n"
     ]
    },
    {
     "name": "stdout",
     "output_type": "stream",
     "text": [
      "6930/6930 [==============================] - 4s 555us/step - loss: 2.0933 - accuracy: 0.0000e+00 - val_loss: 2.1211 - val_accuracy: 0.0000e+00\n",
      "Epoch 54/100\n",
      "6930/6930 [==============================] - 4s 554us/step - loss: 2.0441 - accuracy: 0.0000e+00 - val_loss: 1.3059 - val_accuracy: 0.0000e+00\n",
      "Epoch 55/100\n",
      "6930/6930 [==============================] - 4s 563us/step - loss: 1.9816 - accuracy: 0.0000e+00 - val_loss: 1.3183 - val_accuracy: 0.0000e+00\n",
      "Epoch 56/100\n",
      "6930/6930 [==============================] - 4s 565us/step - loss: 2.0372 - accuracy: 0.0000e+00 - val_loss: 5.9867 - val_accuracy: 0.0000e+00\n",
      "Epoch 57/100\n",
      "6930/6930 [==============================] - 4s 563us/step - loss: 1.9214 - accuracy: 0.0000e+00 - val_loss: 2.1480 - val_accuracy: 0.0000e+00\n",
      "Epoch 58/100\n",
      "6930/6930 [==============================] - 4s 563us/step - loss: 2.0034 - accuracy: 0.0000e+00 - val_loss: 1.6200 - val_accuracy: 0.0000e+00\n",
      "Epoch 59/100\n",
      "6930/6930 [==============================] - 4s 562us/step - loss: 1.7743 - accuracy: 0.0000e+00 - val_loss: 1.1909 - val_accuracy: 0.0000e+00\n",
      "Epoch 60/100\n",
      "6930/6930 [==============================] - 4s 562us/step - loss: 2.0880 - accuracy: 0.0000e+00 - val_loss: 2.1141 - val_accuracy: 0.0000e+00\n",
      "Epoch 61/100\n",
      "6930/6930 [==============================] - 4s 558us/step - loss: 1.9487 - accuracy: 0.0000e+00 - val_loss: 1.1004 - val_accuracy: 0.0000e+00\n",
      "Epoch 62/100\n",
      "6930/6930 [==============================] - 4s 562us/step - loss: 1.7901 - accuracy: 0.0000e+00 - val_loss: 3.7626 - val_accuracy: 0.0000e+00\n",
      "Epoch 63/100\n",
      "6930/6930 [==============================] - 4s 559us/step - loss: 2.0069 - accuracy: 0.0000e+00 - val_loss: 5.9484 - val_accuracy: 0.0000e+00\n",
      "Epoch 64/100\n",
      "6930/6930 [==============================] - 4s 557us/step - loss: 1.9302 - accuracy: 0.0000e+00 - val_loss: 1.3869 - val_accuracy: 0.0000e+00\n",
      "Epoch 65/100\n",
      "6930/6930 [==============================] - 4s 560us/step - loss: 2.4287 - accuracy: 0.0000e+00 - val_loss: 1.1908 - val_accuracy: 0.0000e+00\n",
      "Epoch 66/100\n",
      "6930/6930 [==============================] - 4s 556us/step - loss: 2.0024 - accuracy: 0.0000e+00 - val_loss: 1.1340 - val_accuracy: 0.0000e+00\n",
      "Epoch 67/100\n",
      "6930/6930 [==============================] - 4s 557us/step - loss: 1.7340 - accuracy: 0.0000e+00 - val_loss: 1.8314 - val_accuracy: 0.0000e+00\n",
      "Epoch 68/100\n",
      "6930/6930 [==============================] - 4s 547us/step - loss: 1.9561 - accuracy: 0.0000e+00 - val_loss: 1.0946 - val_accuracy: 0.0000e+00\n",
      "Epoch 69/100\n",
      "6930/6930 [==============================] - 4s 554us/step - loss: 1.8559 - accuracy: 0.0000e+00 - val_loss: 1.3184 - val_accuracy: 0.0000e+00\n",
      "Epoch 70/100\n",
      "6930/6930 [==============================] - 4s 555us/step - loss: 1.6969 - accuracy: 0.0000e+00 - val_loss: 0.9609 - val_accuracy: 0.0000e+00\n",
      "Epoch 71/100\n",
      "6930/6930 [==============================] - 4s 585us/step - loss: 1.8334 - accuracy: 0.0000e+00 - val_loss: 1.1850 - val_accuracy: 0.0000e+00\n",
      "Epoch 72/100\n",
      "6930/6930 [==============================] - 4s 566us/step - loss: 1.8800 - accuracy: 0.0000e+00 - val_loss: 1.1097 - val_accuracy: 0.0000e+00\n",
      "Epoch 73/100\n",
      "6930/6930 [==============================] - 4s 569us/step - loss: 1.6848 - accuracy: 0.0000e+00 - val_loss: 1.0795 - val_accuracy: 0.0000e+00\n",
      "Epoch 74/100\n",
      "6930/6930 [==============================] - 4s 562us/step - loss: 1.7473 - accuracy: 0.0000e+00 - val_loss: 1.2152 - val_accuracy: 0.0000e+00\n",
      "Epoch 75/100\n",
      "6930/6930 [==============================] - 4s 563us/step - loss: 1.8414 - accuracy: 0.0000e+00 - val_loss: 1.4363 - val_accuracy: 0.0000e+00\n",
      "Epoch 76/100\n",
      "6930/6930 [==============================] - 4s 560us/step - loss: 1.8255 - accuracy: 0.0000e+00 - val_loss: 2.1677 - val_accuracy: 0.0000e+00\n",
      "Epoch 77/100\n",
      "6930/6930 [==============================] - 4s 555us/step - loss: 1.9107 - accuracy: 0.0000e+00 - val_loss: 0.9558 - val_accuracy: 0.0000e+00\n",
      "Epoch 78/100\n",
      "6930/6930 [==============================] - 4s 557us/step - loss: 1.8399 - accuracy: 0.0000e+00 - val_loss: 2.2494 - val_accuracy: 0.0000e+00\n",
      "Epoch 79/100\n",
      "6930/6930 [==============================] - 4s 554us/step - loss: 2.1591 - accuracy: 0.0000e+00 - val_loss: 1.1268 - val_accuracy: 0.0000e+00\n",
      "Epoch 80/100\n",
      "6930/6930 [==============================] - 4s 557us/step - loss: 1.7182 - accuracy: 0.0000e+00 - val_loss: 13.3728 - val_accuracy: 0.0000e+00\n",
      "Epoch 81/100\n",
      "6930/6930 [==============================] - 4s 561us/step - loss: 1.8097 - accuracy: 0.0000e+00 - val_loss: 1.0001 - val_accuracy: 0.0000e+00\n",
      "Epoch 82/100\n",
      "6930/6930 [==============================] - 4s 551us/step - loss: 1.7614 - accuracy: 0.0000e+00 - val_loss: 1.2663 - val_accuracy: 0.0000e+00\n",
      "Epoch 83/100\n",
      "6930/6930 [==============================] - 4s 551us/step - loss: 1.6271 - accuracy: 0.0000e+00 - val_loss: 2.0428 - val_accuracy: 0.0000e+00\n",
      "Epoch 84/100\n",
      "6930/6930 [==============================] - 4s 560us/step - loss: 1.9017 - accuracy: 0.0000e+00 - val_loss: 3.6711 - val_accuracy: 0.0000e+00\n",
      "Epoch 85/100\n",
      "6930/6930 [==============================] - 4s 549us/step - loss: 1.9289 - accuracy: 0.0000e+00 - val_loss: 1.5776 - val_accuracy: 0.0000e+00\n",
      "Epoch 86/100\n",
      "6930/6930 [==============================] - 4s 555us/step - loss: 1.8339 - accuracy: 0.0000e+00 - val_loss: 0.9998 - val_accuracy: 0.0000e+00\n",
      "Epoch 87/100\n",
      "6930/6930 [==============================] - 4s 555us/step - loss: 1.6001 - accuracy: 0.0000e+00 - val_loss: 2.2434 - val_accuracy: 0.0000e+00\n",
      "Epoch 88/100\n",
      "6930/6930 [==============================] - 4s 553us/step - loss: 1.6741 - accuracy: 0.0000e+00 - val_loss: 2.2778 - val_accuracy: 0.0000e+00\n",
      "Epoch 89/100\n",
      "6930/6930 [==============================] - 4s 553us/step - loss: 1.7792 - accuracy: 0.0000e+00 - val_loss: 1.0098 - val_accuracy: 0.0000e+00\n",
      "Epoch 90/100\n",
      "6930/6930 [==============================] - 4s 558us/step - loss: 1.6804 - accuracy: 0.0000e+00 - val_loss: 1.8144 - val_accuracy: 0.0000e+00\n",
      "Epoch 91/100\n",
      "6930/6930 [==============================] - 4s 559us/step - loss: 1.7774 - accuracy: 0.0000e+00 - val_loss: 0.9849 - val_accuracy: 0.0000e+00\n",
      "Epoch 92/100\n",
      "6930/6930 [==============================] - 4s 565us/step - loss: 1.6163 - accuracy: 0.0000e+00 - val_loss: 0.9186 - val_accuracy: 0.0000e+00\n",
      "Epoch 93/100\n",
      "6930/6930 [==============================] - 4s 565us/step - loss: 1.8528 - accuracy: 0.0000e+00 - val_loss: 1.6637 - val_accuracy: 0.0000e+00\n",
      "Epoch 94/100\n",
      "6930/6930 [==============================] - 4s 556us/step - loss: 1.7048 - accuracy: 0.0000e+00 - val_loss: 1.2045 - val_accuracy: 0.0000e+00\n",
      "Epoch 95/100\n",
      "6930/6930 [==============================] - 4s 558us/step - loss: 1.7061 - accuracy: 0.0000e+00 - val_loss: 3.3860 - val_accuracy: 0.0000e+00\n",
      "Epoch 96/100\n",
      "6930/6930 [==============================] - 4s 560us/step - loss: 1.5386 - accuracy: 0.0000e+00 - val_loss: 0.9802 - val_accuracy: 0.0000e+00\n",
      "Epoch 97/100\n",
      "6930/6930 [==============================] - 4s 555us/step - loss: 1.7746 - accuracy: 0.0000e+00 - val_loss: 1.9017 - val_accuracy: 0.0000e+00\n",
      "Epoch 98/100\n",
      "6930/6930 [==============================] - 4s 558us/step - loss: 1.7475 - accuracy: 0.0000e+00 - val_loss: 0.9643 - val_accuracy: 0.0000e+00\n",
      "Epoch 99/100\n",
      "6930/6930 [==============================] - 4s 555us/step - loss: 1.5361 - accuracy: 0.0000e+00 - val_loss: 0.9102 - val_accuracy: 0.0000e+00\n",
      "Epoch 100/100\n",
      "6930/6930 [==============================] - 4s 562us/step - loss: 1.7095 - accuracy: 0.0000e+00 - val_loss: 1.0232 - val_accuracy: 0.0000e+00\n"
     ]
    }
   ],
   "source": [
    "# Training\n",
    "\n",
    "classifier.compile(optimizer = 'adam', loss = 'mean_squared_error', metrics = ['accuracy'])\n",
    "\n",
    "history=classifier.fit(x_train, y_train, batch_size = 10, epochs = 100, validation_data=(x_test,y_test))"
   ]
  },
  {
   "cell_type": "code",
   "execution_count": 17,
   "id": "858f1d1f-6d17-45c9-9ddb-76a2318922e9",
   "metadata": {},
   "outputs": [],
   "source": [
    "# Prediction\n",
    "\n",
    "y_pred = classifier.predict(x_test)"
   ]
  },
  {
   "cell_type": "code",
   "execution_count": 18,
   "id": "fd8961f0",
   "metadata": {},
   "outputs": [
    {
     "name": "stdout",
     "output_type": "stream",
     "text": [
      "Mean Squared Error 1.0231616081918746\n",
      "R-Squared:  0.947157439722561\n",
      "Max Error 35.3483241896339\n",
      "Mean Absolute Error 0.4181461145347057\n"
     ]
    }
   ],
   "source": [
    "# Prediction Metrics\n",
    "\n",
    "from sklearn.metrics import r2_score\n",
    "from sklearn.metrics import mean_squared_error as mse\n",
    "from sklearn.metrics import max_error\n",
    "from sklearn.metrics import mean_absolute_error\n",
    "\n",
    "MSE = mse(y_test, y_pred)\n",
    "R2 = r2_score(y_test, y_pred)\n",
    "MAX_ERROR = max_error(y_test, y_pred);\n",
    "MEAN_ABSOLUTE_ERROR = mean_absolute_error(y_test, y_pred)\n",
    "\n",
    "\n",
    "print(\"Mean Squared Error\", MSE)\n",
    "print(\"R-Squared: \", R2)\n",
    "print(\"Max Error\", MAX_ERROR);\n",
    "print(\"Mean Absolute Error\", MEAN_ABSOLUTE_ERROR);"
   ]
  },
  {
   "cell_type": "code",
   "execution_count": 19,
   "id": "d30825f7-27a1-4ef4-a3b7-4115a94d5461",
   "metadata": {},
   "outputs": [
    {
     "data": {
      "image/png": "[encoded data removed]",
      "text/plain": [
       "<Figure size 432x288 with 1 Axes>"
      ]
     },
     "metadata": {
      "needs_background": "light"
     },
     "output_type": "display_data"
    },
    {
     "data": {
      "image/png": "[encoded data removed]",
      "text/plain": [
       "<Figure size 432x288 with 1 Axes>"
      ]
     },
     "metadata": {
      "needs_background": "light"
     },
     "output_type": "display_data"
    }
   ],
   "source": [
    "# Training Analysis\n",
    "\n",
    "import matplotlib.pyplot as plt\n",
    "\n",
    "plt.plot(history.history['loss'])\n",
    "plt.title('Model Loss')\n",
    "plt.ylabel('LOSS')\n",
    "plt.xlabel('EPOCH')\n",
    "plt.legend(['train'], loc='upper left')\n",
    "plt.show()\n",
    "\n",
    "plt.plot(history.history['val_loss'])\n",
    "plt.title('Model Validation Loss')\n",
    "plt.ylabel('VAL LOSS')\n",
    "plt.xlabel('EPOCH')\n",
    "plt.legend(['train'], loc='upper left')\n",
    "plt.show()"
   ]
  },
  {
   "cell_type": "code",
   "execution_count": 20,
   "id": "eff72629",
   "metadata": {},
   "outputs": [
    {
     "data": {
      "image/png": "[encoded data removed]",
      "text/plain": [
       "<Figure size 432x288 with 1 Axes>"
      ]
     },
     "metadata": {
      "needs_background": "light"
     },
     "output_type": "display_data"
    }
   ],
   "source": [
    "# Accuracy Plot\n",
    "\n",
    "def generatePredictionPlot(y_pred, y_test):\n",
    "    plt.scatter(x=y_test, y=y_pred, c='navy', alpha=0.6)\n",
    "    plt.plot(y_test, y_test,color='cyan')\n",
    "    plt.title('Predicted vs Actual values')\n",
    "    plt.xlabel('Actual values')\n",
    "    plt.ylabel('Predicted values')\n",
    "    plt.show()\n",
    "    \n",
    "generatePredictionPlot(y_pred, y_test)"
   ]
  },
  {
   "cell_type": "code",
   "execution_count": 23,
   "id": "9576e582",
   "metadata": {},
   "outputs": [
    {
     "name": "stdout",
     "output_type": "stream",
     "text": [
      "Predictions [[-0.4736854 ]\n",
      " [-0.4736854 ]\n",
      " [-0.4736854 ]\n",
      " [-0.4736854 ]\n",
      " [-0.87850493]]\n"
     ]
    }
   ],
   "source": [
    "# Data Samples\n",
    "\n",
    "d1 = [14.10, 14.55, 2.25, 2.6, 2.42] #HFSS S11 = -0.37\n",
    "d2 = [13.04, 13.30, 2.3, 2.7, 1.84] # HFSS S11 = -0.43\n",
    "d3 = [13.19, 13.74, 2.7, 2.45, 1.95] # HFSS S11 = -0.44\n",
    "d4 = [14.42, 13.12, 2.4, 2.8, 2.41] # HFSS S11 = -0.51\n",
    "d5 = [13.86, 14.57, 2.8, 2.1, 2.56] #HFSS S11 = -0.77\n",
    "\n",
    "# Predictions\n",
    "preds = classifier.predict([d1,d2,d3,d4,d5])\n",
    "\n",
    "print(\"Predictions\", preds);"
   ]
  },
  {
   "cell_type": "code",
   "execution_count": 22,
   "id": "ee6da811-8565-4477-a568-dec96c8e608d",
   "metadata": {},
   "outputs": [
    {
     "name": "stdout",
     "output_type": "stream",
     "text": [
      "Predicted Values for random samples\n",
      "\n",
      "   Height  Radius    W1    W2  Frequency           S11\n",
      "0   13.75   12.92  3.19  3.47       4.20  [-1.7886374]\n",
      "1   13.40   12.65  2.68  2.60       5.36  [-14.041438]\n",
      "2   13.94   12.91  3.07  2.84       2.97  [-2.1950214]\n",
      "3   13.72   13.60  3.49  3.11       3.49  [-7.4182887]\n",
      "4   13.45   13.78  3.38  3.08       5.37   [-19.79478]\n",
      "5   13.78   13.03  2.93  3.28       4.79   [-4.403237]\n",
      "6   13.35   13.09  3.00  3.37       3.65   [-5.629153]\n",
      "7   13.25   13.52  2.54  3.46       3.53   [-5.367274]\n",
      "8   13.25   13.06  3.26  3.07       5.38  [-14.860829]\n",
      "9   13.79   13.50  3.19  2.63       4.87  [-7.8803244]\n"
     ]
    }
   ],
   "source": [
    "# Generating random data sets\n",
    "\n",
    "import numpy\n",
    "import pandas\n",
    "\n",
    "SAMPLE_SIZE = 10\n",
    "\n",
    "def randomSample(low, high, size):\n",
    "    rand_rad = numpy.random.uniform(low, high, size)\n",
    "    for i in range(0, rand_rad.size):\n",
    "        rand_rad[i] = round(rand_rad[i], 2)\n",
    "    return rand_rad\n",
    "\n",
    "rand_rad = randomSample(12, 14, SAMPLE_SIZE)\n",
    "rand_height = randomSample(13, 14, SAMPLE_SIZE)\n",
    "rand_freq = randomSample(2, 6, SAMPLE_SIZE)\n",
    "rand_w1 = randomSample(2.5, 3.5, SAMPLE_SIZE)\n",
    "rand_w2 = randomSample(2.5, 3.5, SAMPLE_SIZE)\n",
    "\n",
    "rand_x = []\n",
    "for i in range(0,SAMPLE_SIZE):\n",
    "    rand_x.append([rand_height[i], rand_rad[i], rand_w1[i], rand_w2[i], rand_freq[i],])\n",
    "\n",
    "y_pred_rand = classifier.predict(rand_x)\n",
    "\n",
    "output = []\n",
    "for i in range(0, SAMPLE_SIZE):\n",
    "    output.append([rand_height[i], rand_rad[i], rand_w1[i], rand_w2[i], rand_freq[i], y_pred_rand[i]])\n",
    "    \n",
    "# Creating Dataframe\n",
    "output_df = pandas.DataFrame(output, columns= [\"Height\", \"Radius\", \"W1\", \"W2\", \"Frequency\", \"S11\"])\n",
    "print(\"Predicted Values for random samples\\n\")\n",
    "print(output_df)"
   ]
  },
  {
   "cell_type": "code",
   "execution_count": null,
   "id": "f5714996",
   "metadata": {},
   "outputs": [],
   "source": []
  }
 ],
 "metadata": {
  "kernelspec": {
   "display_name": "Python 3 (ipykernel)",
   "language": "python",
   "name": "python3"
  },
  "language_info": {
   "codemirror_mode": {
    "name": "ipython",
    "version": 3
   },
   "file_extension": ".py",
   "mimetype": "text/x-python",
   "name": "python",
   "nbconvert_exporter": "python",
   "pygments_lexer": "ipython3",
   "version": "3.10.2"
  }
 },
 "nbformat": 4,
 "nbformat_minor": 5
}
