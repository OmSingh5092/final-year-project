{
 "cells": [
  {
   "cell_type": "code",
   "execution_count": 6,
   "id": "2c3201c8-a735-4497-b59e-1e01831da8ba",
   "metadata": {},
   "outputs": [],
   "source": [
    "import pandas as pd\n",
    "from sklearn.model_selection import train_test_split\n",
    "\n",
    "import keras\n",
    "from keras.models import Sequential\n",
    "from keras.layers import Dense"
   ]
  },
  {
   "cell_type": "code",
   "execution_count": 7,
   "id": "ad861d9a-1472-4503-9d90-c9fe14cf93d3",
   "metadata": {},
   "outputs": [],
   "source": [
    "# Reading data from csv file\n",
    "\n",
    "dataset = pd.read_csv('../../DataSets/data_set_dra_updated.csv')\n",
    "\n",
    "x = pd.DataFrame(dataset.iloc[:, 0:6].values)\n",
    "y = dataset.iloc[:, 6].values"
   ]
  },
  {
   "cell_type": "code",
   "execution_count": 8,
   "id": "02eaa61f-a48c-46dd-9251-a93041462cf0",
   "metadata": {},
   "outputs": [],
   "source": [
    "# Generating training and test data sets\n",
    "\n",
    "x_train, x_test, y_train, y_test = train_test_split(x, y, test_size = 0.2, random_state = 123)"
   ]
  },
  {
   "cell_type": "code",
   "execution_count": 9,
   "id": "eecc7b2c-fa09-4b2f-a089-8166d1f100e8",
   "metadata": {},
   "outputs": [],
   "source": [
    "# Artificial NN\n",
    "\n",
    "classifier = Sequential()\n",
    "\n",
    "# Input Layer\n",
    "classifier.add(Dense(units = 10, activation = 'relu', input_dim = 6))\n",
    "\n",
    "# 1st Hidden Layer\n",
    "classifier.add(Dense(units = 8, activation = 'relu'))\n",
    "\n",
    "# 2nd Hidden Layer\n",
    "classifier.add(Dense(units = 3, activation = 'relu'))\n",
    "\n",
    "# Output Layer\n",
    "classifier.add(Dense(units = 1, activation = 'linear'))\n"
   ]
  },
  {
   "cell_type": "code",
   "execution_count": null,
   "id": "2137ba00-034d-497b-9ffb-28e69e94f666",
   "metadata": {},
   "outputs": [
    {
     "name": "stdout",
     "output_type": "stream",
     "text": [
      "Epoch 1/100\n",
      "13848/13848 [==============================] - 8s 540us/step - loss: 61.1571 - accuracy: 0.0000e+00 - val_loss: 33.6931 - val_accuracy: 0.0000e+00\n",
      "Epoch 2/100\n",
      "13848/13848 [==============================] - 8s 558us/step - loss: 32.9922 - accuracy: 0.0000e+00 - val_loss: 33.4959 - val_accuracy: 0.0000e+00\n",
      "Epoch 3/100\n",
      "13848/13848 [==============================] - 8s 560us/step - loss: 32.9829 - accuracy: 0.0000e+00 - val_loss: 33.4952 - val_accuracy: 0.0000e+00\n",
      "Epoch 4/100\n",
      "13848/13848 [==============================] - 8s 562us/step - loss: 32.9819 - accuracy: 0.0000e+00 - val_loss: 33.5023 - val_accuracy: 0.0000e+00\n",
      "Epoch 5/100\n",
      "13848/13848 [==============================] - 8s 563us/step - loss: 32.9831 - accuracy: 0.0000e+00 - val_loss: 33.4966 - val_accuracy: 0.0000e+00\n",
      "Epoch 6/100\n",
      "13848/13848 [==============================] - 8s 568us/step - loss: 32.9822 - accuracy: 0.0000e+00 - val_loss: 33.4943 - val_accuracy: 0.0000e+00\n",
      "Epoch 7/100\n",
      "13848/13848 [==============================] - 8s 555us/step - loss: 32.9819 - accuracy: 0.0000e+00 - val_loss: 33.5013 - val_accuracy: 0.0000e+00\n",
      "Epoch 8/100\n",
      "13848/13848 [==============================] - 8s 545us/step - loss: 32.9828 - accuracy: 0.0000e+00 - val_loss: 33.4946 - val_accuracy: 0.0000e+00\n",
      "Epoch 9/100\n",
      "13848/13848 [==============================] - 9s 675us/step - loss: 32.9828 - accuracy: 0.0000e+00 - val_loss: 33.4952 - val_accuracy: 0.0000e+00\n",
      "Epoch 10/100\n",
      "13848/13848 [==============================] - 16s 1ms/step - loss: 32.9822 - accuracy: 0.0000e+00 - val_loss: 33.4942 - val_accuracy: 0.0000e+00\n",
      "Epoch 11/100\n",
      "13848/13848 [==============================] - 19s 1ms/step - loss: 32.9824 - accuracy: 0.0000e+00 - val_loss: 33.4942 - val_accuracy: 0.0000e+00\n",
      "Epoch 12/100\n",
      "13848/13848 [==============================] - 20s 1ms/step - loss: 32.9827 - accuracy: 0.0000e+00 - val_loss: 33.4999 - val_accuracy: 0.0000e+00\n",
      "Epoch 13/100\n",
      "13848/13848 [==============================] - 24s 2ms/step - loss: 32.9827 - accuracy: 0.0000e+00 - val_loss: 33.4985 - val_accuracy: 0.0000e+00\n",
      "Epoch 14/100\n",
      "13848/13848 [==============================] - 20s 1ms/step - loss: 32.9830 - accuracy: 0.0000e+00 - val_loss: 33.4967 - val_accuracy: 0.0000e+00\n",
      "Epoch 15/100\n",
      "13848/13848 [==============================] - 23s 2ms/step - loss: 32.9828 - accuracy: 0.0000e+00 - val_loss: 33.4945 - val_accuracy: 0.0000e+00\n",
      "Epoch 16/100\n",
      "13848/13848 [==============================] - 12s 843us/step - loss: 32.9826 - accuracy: 0.0000e+00 - val_loss: 33.4952 - val_accuracy: 0.0000e+00\n",
      "Epoch 17/100\n",
      " 8158/13848 [================>.............] - ETA: 10s - loss: 33.0069 - accuracy: 0.0000e+00"
     ]
    }
   ],
   "source": [
    "# Training\n",
    "\n",
    "classifier.compile(optimizer = 'adam', loss = 'mean_squared_error', metrics = ['accuracy'])\n",
    "\n",
    "history=classifier.fit(x_train, y_train, batch_size = 10, epochs = 100, validation_data=(x_test,y_test))"
   ]
  },
  {
   "cell_type": "code",
   "execution_count": null,
   "id": "858f1d1f-6d17-45c9-9ddb-76a2318922e9",
   "metadata": {},
   "outputs": [],
   "source": [
    "# Prediction\n",
    "\n",
    "y_pred = classifier.predict(x_test)"
   ]
  },
  {
   "cell_type": "code",
   "execution_count": null,
   "id": "fd8961f0",
   "metadata": {},
   "outputs": [],
   "source": [
    "# Prediction Metrics\n",
    "\n",
    "from sklearn.metrics import r2_score\n",
    "from sklearn.metrics import mean_squared_error as mse\n",
    "from sklearn.metrics import max_error\n",
    "from sklearn.metrics import mean_absolute_error\n",
    "\n",
    "MSE = mse(y_test, y_pred)\n",
    "R2 = r2_score(y_test, y_pred)\n",
    "MAX_ERROR = max_error(y_test, y_pred);\n",
    "MEAN_ABSOLUTE_ERROR = mean_absolute_error(y_test, y_pred)\n",
    "\n",
    "\n",
    "print(\"Mean Squared Error\", MSE)\n",
    "print(\"R-Squared: \", R2)\n",
    "print(\"Max Error\", MAX_ERROR);\n",
    "print(\"Mean Absolute Error\", MEAN_ABSOLUTE_ERROR);"
   ]
  },
  {
   "cell_type": "code",
   "execution_count": null,
   "id": "d30825f7-27a1-4ef4-a3b7-4115a94d5461",
   "metadata": {},
   "outputs": [],
   "source": [
    "# Training Analysis\n",
    "\n",
    "import matplotlib.pyplot as plt\n",
    "\n",
    "plt.plot(history.history['loss'])\n",
    "plt.title('Model Loss')\n",
    "plt.ylabel('LOSS')\n",
    "plt.xlabel('EPOCH')\n",
    "plt.legend(['train'], loc='upper left')\n",
    "plt.show()\n",
    "\n",
    "plt.plot(history.history['val_loss'])\n",
    "plt.title('Model Validation Loss')\n",
    "plt.ylabel('VAL LOSS')\n",
    "plt.xlabel('EPOCH')\n",
    "plt.legend(['train'], loc='upper left')\n",
    "plt.show()"
   ]
  },
  {
   "cell_type": "code",
   "execution_count": null,
   "id": "eff72629",
   "metadata": {},
   "outputs": [],
   "source": [
    "# Accuracy Plot\n",
    "\n",
    "def generatePredictionPlot(y_pred, y_test):\n",
    "    plt.scatter(x=y_test, y=y_pred, c='navy', alpha=0.6)\n",
    "    plt.plot(y_test, y_test,color='cyan')\n",
    "    plt.title('Predicted vs Actual values')\n",
    "    plt.xlabel('Actual values')\n",
    "    plt.ylabel('Predicted values')\n",
    "    plt.show()\n",
    "    \n",
    "generatePredictionPlot(y_pred, y_test)"
   ]
  },
  {
   "cell_type": "code",
   "execution_count": null,
   "id": "9576e582",
   "metadata": {},
   "outputs": [],
   "source": [
    "# Data Samples\n",
    "\n",
    "d1 = [14.10, 14.55, 2.25, 2.6, 2.42] #HFSS S11 = -0.37\n",
    "d2 = [13.04, 13.30, 2.3, 2.7, 1.84] # HFSS S11 = -0.43\n",
    "d3 = [13.19, 13.74, 2.7, 2.45, 1.95] # HFSS S11 = -0.44\n",
    "d4 = [14.42, 13.12, 2.4, 2.8, 2.41] # HFSS S11 = -0.51\n",
    "d5 = [13.86, 14.57, 2.8, 2.1, 2.56] #HFSS S11 = -0.77\n",
    "\n",
    "# Predictions\n",
    "preds = classifier.predict([d1,d2,d3,d4,d5])\n",
    "\n",
    "print(\"Predictions\", preds);"
   ]
  },
  {
   "cell_type": "code",
   "execution_count": null,
   "id": "ee6da811-8565-4477-a568-dec96c8e608d",
   "metadata": {},
   "outputs": [],
   "source": [
    "# Generating random data sets\n",
    "\n",
    "import numpy\n",
    "import pandas\n",
    "\n",
    "SAMPLE_SIZE = 10\n",
    "\n",
    "def randomSample(low, high, size):\n",
    "    rand_rad = numpy.random.uniform(low, high, size)\n",
    "    for i in range(0, rand_rad.size):\n",
    "        rand_rad[i] = round(rand_rad[i], 2)\n",
    "    return rand_rad\n",
    "\n",
    "rand_rad = randomSample(12, 14, SAMPLE_SIZE)\n",
    "rand_height = randomSample(13, 14, SAMPLE_SIZE)\n",
    "rand_freq = randomSample(2, 6, SAMPLE_SIZE)\n",
    "rand_w1 = randomSample(2.5, 3.5, SAMPLE_SIZE)\n",
    "rand_w2 = randomSample(2.5, 3.5, SAMPLE_SIZE)\n",
    "\n",
    "rand_x = []\n",
    "for i in range(0,SAMPLE_SIZE):\n",
    "    rand_x.append([rand_height[i], rand_rad[i], rand_w1[i], rand_w2[i], rand_freq[i],])\n",
    "\n",
    "y_pred_rand = classifier.predict(rand_x)\n",
    "\n",
    "output = []\n",
    "for i in range(0, SAMPLE_SIZE):\n",
    "    output.append([rand_height[i], rand_rad[i], rand_w1[i], rand_w2[i], rand_freq[i], y_pred_rand[i]])\n",
    "    \n",
    "# Creating Dataframe\n",
    "output_df = pandas.DataFrame(output, columns= [\"Height\", \"Radius\", \"W1\", \"W2\", \"Frequency\", \"S11\"])\n",
    "print(\"Predicted Values for random samples\\n\")\n",
    "print(output_df)"
   ]
  },
  {
   "cell_type": "code",
   "execution_count": null,
   "id": "f5714996",
   "metadata": {},
   "outputs": [],
   "source": []
  },
  {
   "cell_type": "code",
   "execution_count": null,
   "id": "b9aabbff",
   "metadata": {},
   "outputs": [],
   "source": []
  }
 ],
 "metadata": {
  "kernelspec": {
   "display_name": "Python 3 (ipykernel)",
   "language": "python",
   "name": "python3"
  },
  "language_info": {
   "codemirror_mode": {
    "name": "ipython",
    "version": 3
   },
   "file_extension": ".py",
   "mimetype": "text/x-python",
   "name": "python",
   "nbconvert_exporter": "python",
   "pygments_lexer": "ipython3",
   "version": "3.10.2"
  }
 },
 "nbformat": 4,
 "nbformat_minor": 5
}
