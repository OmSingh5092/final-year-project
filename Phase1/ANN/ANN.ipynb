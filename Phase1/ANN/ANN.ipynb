{
 "cells": [
  {
   "cell_type": "code",
   "execution_count": 13,
   "id": "2c3201c8-a735-4497-b59e-1e01831da8ba",
   "metadata": {},
   "outputs": [],
   "source": [
    "import pandas as pd\n",
    "from sklearn.model_selection import train_test_split\n",
    "\n",
    "import keras\n",
    "from keras.models import Sequential\n",
    "from keras.layers import Dense"
   ]
  },
  {
   "cell_type": "code",
   "execution_count": 14,
   "id": "ad861d9a-1472-4503-9d90-c9fe14cf93d3",
   "metadata": {},
   "outputs": [],
   "source": [
    "# Reading data from csv file\n",
    "\n",
    "dataset = pd.read_csv('../../DataSets/data_set_dra_updated.csv')\n",
    "\n",
    "x = pd.DataFrame(dataset.iloc[:, 0:5].values)\n",
    "y = dataset.iloc[:, 5].values"
   ]
  },
  {
   "cell_type": "code",
   "execution_count": 3,
   "id": "02eaa61f-a48c-46dd-9251-a93041462cf0",
   "metadata": {},
   "outputs": [],
   "source": [
    "# Generating training and test data sets\n",
    "\n",
    "x_train, x_test, y_train, y_test = train_test_split(x, y, test_size = 0.2, random_state = 123)"
   ]
  },
  {
   "cell_type": "code",
   "execution_count": 4,
   "id": "eecc7b2c-fa09-4b2f-a089-8166d1f100e8",
   "metadata": {},
   "outputs": [],
   "source": [
    "# Artificial NN\n",
    "\n",
    "classifier = Sequential()\n",
    "\n",
    "# Input Layer\n",
    "classifier.add(Dense(units = 10, activation = 'relu', input_dim = 5))\n",
    "\n",
    "# 1st Hidden Layer\n",
    "classifier.add(Dense(units = 8, activation = 'relu'))\n",
    "\n",
    "# 2nd Hidden Layer\n",
    "classifier.add(Dense(units = 3, activation = 'relu'))\n",
    "\n",
    "# Output Layer\n",
    "classifier.add(Dense(units = 1, activation = 'linear'))\n"
   ]
  },
  {
   "cell_type": "code",
   "execution_count": 5,
   "id": "2137ba00-034d-497b-9ffb-28e69e94f666",
   "metadata": {},
   "outputs": [
    {
     "name": "stdout",
     "output_type": "stream",
     "text": [
      "Epoch 1/100\n",
      "6930/6930 [==============================] - 4s 565us/step - loss: 16.1814 - accuracy: 0.0000e+00 - val_loss: 14.8383 - val_accuracy: 0.0000e+00\n",
      "Epoch 2/100\n",
      "6930/6930 [==============================] - 4s 536us/step - loss: 15.0588 - accuracy: 0.0000e+00 - val_loss: 15.0272 - val_accuracy: 0.0000e+00\n",
      "Epoch 3/100\n",
      "6930/6930 [==============================] - 4s 577us/step - loss: 14.5269 - accuracy: 0.0000e+00 - val_loss: 13.6198 - val_accuracy: 0.0000e+00\n",
      "Epoch 4/100\n",
      "6930/6930 [==============================] - 4s 588us/step - loss: 13.4844 - accuracy: 0.0000e+00 - val_loss: 13.3749 - val_accuracy: 0.0000e+00\n",
      "Epoch 5/100\n",
      "6930/6930 [==============================] - 4s 567us/step - loss: 13.1096 - accuracy: 0.0000e+00 - val_loss: 12.7790 - val_accuracy: 0.0000e+00\n",
      "Epoch 6/100\n",
      "6930/6930 [==============================] - 4s 580us/step - loss: 12.9839 - accuracy: 0.0000e+00 - val_loss: 12.7303 - val_accuracy: 0.0000e+00\n",
      "Epoch 7/100\n",
      "6930/6930 [==============================] - 4s 547us/step - loss: 12.9375 - accuracy: 0.0000e+00 - val_loss: 13.2168 - val_accuracy: 0.0000e+00\n",
      "Epoch 8/100\n",
      "6930/6930 [==============================] - 4s 558us/step - loss: 12.6083 - accuracy: 0.0000e+00 - val_loss: 11.2165 - val_accuracy: 0.0000e+00\n",
      "Epoch 9/100\n",
      "6930/6930 [==============================] - 4s 587us/step - loss: 9.9606 - accuracy: 0.0000e+00 - val_loss: 8.8921 - val_accuracy: 0.0000e+00\n",
      "Epoch 10/100\n",
      "6930/6930 [==============================] - 4s 571us/step - loss: 8.3603 - accuracy: 0.0000e+00 - val_loss: 8.3220 - val_accuracy: 0.0000e+00\n",
      "Epoch 11/100\n",
      "6930/6930 [==============================] - 4s 570us/step - loss: 7.9276 - accuracy: 0.0000e+00 - val_loss: 7.7254 - val_accuracy: 0.0000e+00\n",
      "Epoch 12/100\n",
      "6930/6930 [==============================] - 4s 563us/step - loss: 7.5508 - accuracy: 0.0000e+00 - val_loss: 7.7160 - val_accuracy: 0.0000e+00\n",
      "Epoch 13/100\n",
      "6930/6930 [==============================] - 4s 555us/step - loss: 7.4330 - accuracy: 0.0000e+00 - val_loss: 7.4364 - val_accuracy: 0.0000e+00\n",
      "Epoch 14/100\n",
      "6930/6930 [==============================] - 4s 581us/step - loss: 7.3096 - accuracy: 0.0000e+00 - val_loss: 6.6731 - val_accuracy: 0.0000e+00\n",
      "Epoch 15/100\n",
      "6930/6930 [==============================] - 4s 569us/step - loss: 7.1379 - accuracy: 0.0000e+00 - val_loss: 6.7470 - val_accuracy: 0.0000e+00\n",
      "Epoch 16/100\n",
      "6930/6930 [==============================] - 4s 580us/step - loss: 7.1185 - accuracy: 0.0000e+00 - val_loss: 6.8525 - val_accuracy: 0.0000e+00\n",
      "Epoch 17/100\n",
      "6930/6930 [==============================] - 4s 598us/step - loss: 6.9724 - accuracy: 0.0000e+00 - val_loss: 7.7775 - val_accuracy: 0.0000e+00\n",
      "Epoch 18/100\n",
      "6930/6930 [==============================] - 4s 594us/step - loss: 6.9092 - accuracy: 0.0000e+00 - val_loss: 6.6432 - val_accuracy: 0.0000e+00\n",
      "Epoch 19/100\n",
      "6930/6930 [==============================] - 4s 591us/step - loss: 6.8545 - accuracy: 0.0000e+00 - val_loss: 6.2760 - val_accuracy: 0.0000e+00\n",
      "Epoch 20/100\n",
      "6930/6930 [==============================] - 4s 592us/step - loss: 6.7411 - accuracy: 0.0000e+00 - val_loss: 6.4297 - val_accuracy: 0.0000e+00\n",
      "Epoch 21/100\n",
      "6930/6930 [==============================] - 4s 600us/step - loss: 6.7138 - accuracy: 0.0000e+00 - val_loss: 6.2410 - val_accuracy: 0.0000e+00\n",
      "Epoch 22/100\n",
      "6930/6930 [==============================] - 4s 625us/step - loss: 6.7157 - accuracy: 0.0000e+00 - val_loss: 6.1368 - val_accuracy: 0.0000e+00\n",
      "Epoch 23/100\n",
      "6930/6930 [==============================] - 4s 607us/step - loss: 6.5885 - accuracy: 0.0000e+00 - val_loss: 6.4256 - val_accuracy: 0.0000e+00\n",
      "Epoch 24/100\n",
      "6930/6930 [==============================] - 4s 604us/step - loss: 6.5193 - accuracy: 0.0000e+00 - val_loss: 5.9666 - val_accuracy: 0.0000e+00\n",
      "Epoch 25/100\n",
      "6930/6930 [==============================] - 4s 559us/step - loss: 6.5258 - accuracy: 0.0000e+00 - val_loss: 6.2723 - val_accuracy: 0.0000e+00\n",
      "Epoch 26/100\n",
      "6930/6930 [==============================] - 4s 592us/step - loss: 6.4170 - accuracy: 0.0000e+00 - val_loss: 5.9120 - val_accuracy: 0.0000e+00\n",
      "Epoch 27/100\n",
      "6930/6930 [==============================] - 4s 600us/step - loss: 6.3192 - accuracy: 0.0000e+00 - val_loss: 5.8621 - val_accuracy: 0.0000e+00\n",
      "Epoch 28/100\n",
      "6930/6930 [==============================] - 4s 599us/step - loss: 6.2908 - accuracy: 0.0000e+00 - val_loss: 5.5857 - val_accuracy: 0.0000e+00\n",
      "Epoch 29/100\n",
      "6930/6930 [==============================] - 4s 560us/step - loss: 6.2417 - accuracy: 0.0000e+00 - val_loss: 6.0347 - val_accuracy: 0.0000e+00\n",
      "Epoch 30/100\n",
      "6930/6930 [==============================] - 4s 553us/step - loss: 6.1855 - accuracy: 0.0000e+00 - val_loss: 5.6653 - val_accuracy: 0.0000e+00\n",
      "Epoch 31/100\n",
      "6930/6930 [==============================] - 4s 549us/step - loss: 6.0566 - accuracy: 0.0000e+00 - val_loss: 5.7360 - val_accuracy: 0.0000e+00\n",
      "Epoch 32/100\n",
      "6930/6930 [==============================] - 4s 610us/step - loss: 6.0700 - accuracy: 0.0000e+00 - val_loss: 7.2364 - val_accuracy: 0.0000e+00\n",
      "Epoch 33/100\n",
      "6930/6930 [==============================] - 5s 696us/step - loss: 5.9152 - accuracy: 0.0000e+00 - val_loss: 6.2004 - val_accuracy: 0.0000e+00\n",
      "Epoch 34/100\n",
      "6930/6930 [==============================] - 6s 808us/step - loss: 5.7608 - accuracy: 0.0000e+00 - val_loss: 5.4468 - val_accuracy: 0.0000e+00\n",
      "Epoch 35/100\n",
      "6930/6930 [==============================] - 5s 708us/step - loss: 5.6550 - accuracy: 0.0000e+00 - val_loss: 7.9480 - val_accuracy: 0.0000e+00\n",
      "Epoch 36/100\n",
      "6930/6930 [==============================] - 5s 678us/step - loss: 5.5732 - accuracy: 0.0000e+00 - val_loss: 6.4932 - val_accuracy: 0.0000e+00\n",
      "Epoch 37/100\n",
      "6930/6930 [==============================] - 4s 585us/step - loss: 5.4897 - accuracy: 0.0000e+00 - val_loss: 5.3508 - val_accuracy: 0.0000e+00\n",
      "Epoch 38/100\n",
      "6930/6930 [==============================] - 4s 604us/step - loss: 5.4094 - accuracy: 0.0000e+00 - val_loss: 4.7014 - val_accuracy: 0.0000e+00\n",
      "Epoch 39/100\n",
      "6930/6930 [==============================] - 4s 605us/step - loss: 5.2652 - accuracy: 0.0000e+00 - val_loss: 5.6039 - val_accuracy: 0.0000e+00\n",
      "Epoch 40/100\n",
      "6930/6930 [==============================] - 4s 640us/step - loss: 5.1697 - accuracy: 0.0000e+00 - val_loss: 4.5493 - val_accuracy: 0.0000e+00\n",
      "Epoch 41/100\n",
      "6930/6930 [==============================] - 4s 583us/step - loss: 5.1166 - accuracy: 0.0000e+00 - val_loss: 5.4468 - val_accuracy: 0.0000e+00\n",
      "Epoch 42/100\n",
      "6930/6930 [==============================] - 4s 618us/step - loss: 5.0286 - accuracy: 0.0000e+00 - val_loss: 5.4274 - val_accuracy: 0.0000e+00\n",
      "Epoch 43/100\n",
      "6930/6930 [==============================] - 5s 650us/step - loss: 4.8973 - accuracy: 0.0000e+00 - val_loss: 4.7570 - val_accuracy: 0.0000e+00\n",
      "Epoch 44/100\n",
      "6930/6930 [==============================] - 4s 582us/step - loss: 4.8884 - accuracy: 0.0000e+00 - val_loss: 4.4501 - val_accuracy: 0.0000e+00\n",
      "Epoch 45/100\n",
      "6930/6930 [==============================] - 4s 597us/step - loss: 4.6894 - accuracy: 0.0000e+00 - val_loss: 4.7670 - val_accuracy: 0.0000e+00\n",
      "Epoch 46/100\n",
      "6930/6930 [==============================] - 4s 612us/step - loss: 4.6712 - accuracy: 0.0000e+00 - val_loss: 4.7992 - val_accuracy: 0.0000e+00\n",
      "Epoch 47/100\n",
      "6930/6930 [==============================] - 4s 608us/step - loss: 4.5995 - accuracy: 0.0000e+00 - val_loss: 4.0281 - val_accuracy: 0.0000e+00\n",
      "Epoch 48/100\n",
      "6930/6930 [==============================] - 5s 715us/step - loss: 4.5382 - accuracy: 0.0000e+00 - val_loss: 3.8159 - val_accuracy: 0.0000e+00\n",
      "Epoch 49/100\n",
      "6930/6930 [==============================] - 5s 696us/step - loss: 4.4381 - accuracy: 0.0000e+00 - val_loss: 4.1876 - val_accuracy: 0.0000e+00\n",
      "Epoch 50/100\n",
      "6930/6930 [==============================] - 5s 651us/step - loss: 4.3571 - accuracy: 0.0000e+00 - val_loss: 3.7869 - val_accuracy: 0.0000e+00\n",
      "Epoch 51/100\n",
      "6930/6930 [==============================] - 5s 687us/step - loss: 4.3595 - accuracy: 0.0000e+00 - val_loss: 4.1572 - val_accuracy: 0.0000e+00\n",
      "Epoch 52/100\n",
      "6930/6930 [==============================] - 5s 663us/step - loss: 4.1515 - accuracy: 0.0000e+00 - val_loss: 7.4782 - val_accuracy: 0.0000e+00\n",
      "Epoch 53/100\n",
      "6930/6930 [==============================] - 5s 659us/step - loss: 4.1114 - accuracy: 0.0000e+00 - val_loss: 3.9372 - val_accuracy: 0.0000e+00\n",
      "Epoch 54/100\n",
      "6930/6930 [==============================] - 4s 608us/step - loss: 4.0904 - accuracy: 0.0000e+00 - val_loss: 4.1980 - val_accuracy: 0.0000e+00\n",
      "Epoch 55/100\n",
      "6930/6930 [==============================] - 4s 631us/step - loss: 4.1119 - accuracy: 0.0000e+00 - val_loss: 3.7759 - val_accuracy: 0.0000e+00\n",
      "Epoch 56/100\n",
      "6930/6930 [==============================] - 4s 601us/step - loss: 3.9627 - accuracy: 0.0000e+00 - val_loss: 3.4580 - val_accuracy: 0.0000e+00\n",
      "Epoch 57/100\n",
      "6930/6930 [==============================] - 4s 633us/step - loss: 3.8025 - accuracy: 0.0000e+00 - val_loss: 3.2690 - val_accuracy: 0.0000e+00\n",
      "Epoch 58/100\n",
      "6930/6930 [==============================] - 5s 684us/step - loss: 3.8711 - accuracy: 0.0000e+00 - val_loss: 3.7495 - val_accuracy: 0.0000e+00\n",
      "Epoch 59/100\n",
      "6930/6930 [==============================] - 5s 655us/step - loss: 3.6239 - accuracy: 0.0000e+00 - val_loss: 3.4751 - val_accuracy: 0.0000e+00\n",
      "Epoch 60/100\n",
      "6930/6930 [==============================] - 5s 666us/step - loss: 3.6160 - accuracy: 0.0000e+00 - val_loss: 4.1587 - val_accuracy: 0.0000e+00\n",
      "Epoch 61/100\n",
      "6930/6930 [==============================] - 4s 596us/step - loss: 3.4804 - accuracy: 0.0000e+00 - val_loss: 3.2950 - val_accuracy: 0.0000e+00\n",
      "Epoch 62/100\n",
      "6930/6930 [==============================] - 4s 622us/step - loss: 3.3583 - accuracy: 0.0000e+00 - val_loss: 2.7395 - val_accuracy: 0.0000e+00\n",
      "Epoch 63/100\n",
      "6930/6930 [==============================] - 4s 602us/step - loss: 3.4885 - accuracy: 0.0000e+00 - val_loss: 2.8543 - val_accuracy: 0.0000e+00\n",
      "Epoch 64/100\n",
      "6930/6930 [==============================] - 4s 601us/step - loss: 3.3970 - accuracy: 0.0000e+00 - val_loss: 2.5288 - val_accuracy: 0.0000e+00\n",
      "Epoch 65/100\n",
      "6930/6930 [==============================] - 4s 577us/step - loss: 3.3405 - accuracy: 0.0000e+00 - val_loss: 3.0645 - val_accuracy: 0.0000e+00\n",
      "Epoch 66/100\n",
      "6930/6930 [==============================] - 4s 604us/step - loss: 3.3107 - accuracy: 0.0000e+00 - val_loss: 2.5885 - val_accuracy: 0.0000e+00\n",
      "Epoch 67/100\n",
      "6930/6930 [==============================] - 4s 598us/step - loss: 3.1231 - accuracy: 0.0000e+00 - val_loss: 3.0173 - val_accuracy: 0.0000e+00\n",
      "Epoch 68/100\n",
      "6930/6930 [==============================] - 4s 578us/step - loss: 3.3843 - accuracy: 0.0000e+00 - val_loss: 2.7188 - val_accuracy: 0.0000e+00\n",
      "Epoch 69/100\n",
      "6930/6930 [==============================] - 4s 589us/step - loss: 3.3277 - accuracy: 0.0000e+00 - val_loss: 3.0874 - val_accuracy: 0.0000e+00\n",
      "Epoch 70/100\n",
      "6930/6930 [==============================] - 4s 587us/step - loss: 3.1422 - accuracy: 0.0000e+00 - val_loss: 6.5152 - val_accuracy: 0.0000e+00\n",
      "Epoch 71/100\n",
      "6930/6930 [==============================] - 4s 594us/step - loss: 3.2398 - accuracy: 0.0000e+00 - val_loss: 2.4952 - val_accuracy: 0.0000e+00\n",
      "Epoch 72/100\n",
      "6930/6930 [==============================] - 4s 593us/step - loss: 3.1976 - accuracy: 0.0000e+00 - val_loss: 2.9916 - val_accuracy: 0.0000e+00\n",
      "Epoch 73/100\n",
      "6930/6930 [==============================] - 4s 576us/step - loss: 2.9972 - accuracy: 0.0000e+00 - val_loss: 2.0607 - val_accuracy: 0.0000e+00\n",
      "Epoch 74/100\n",
      "6930/6930 [==============================] - 4s 561us/step - loss: 3.1584 - accuracy: 0.0000e+00 - val_loss: 2.2134 - val_accuracy: 0.0000e+00\n",
      "Epoch 75/100\n",
      "6930/6930 [==============================] - 4s 559us/step - loss: 3.1691 - accuracy: 0.0000e+00 - val_loss: 2.0043 - val_accuracy: 0.0000e+00\n",
      "Epoch 76/100\n",
      "6930/6930 [==============================] - 4s 561us/step - loss: 3.0664 - accuracy: 0.0000e+00 - val_loss: 2.4103 - val_accuracy: 0.0000e+00\n",
      "Epoch 77/100\n",
      "6930/6930 [==============================] - 4s 558us/step - loss: 3.2720 - accuracy: 0.0000e+00 - val_loss: 2.9687 - val_accuracy: 0.0000e+00\n",
      "Epoch 78/100\n",
      "6930/6930 [==============================] - 4s 563us/step - loss: 3.3820 - accuracy: 0.0000e+00 - val_loss: 1.8556 - val_accuracy: 0.0000e+00\n",
      "Epoch 79/100\n",
      "6930/6930 [==============================] - 4s 557us/step - loss: 3.1049 - accuracy: 0.0000e+00 - val_loss: 2.2316 - val_accuracy: 0.0000e+00\n",
      "Epoch 80/100\n",
      "6930/6930 [==============================] - 4s 567us/step - loss: 3.1326 - accuracy: 0.0000e+00 - val_loss: 2.1816 - val_accuracy: 0.0000e+00\n",
      "Epoch 81/100\n",
      "6930/6930 [==============================] - 4s 556us/step - loss: 2.8768 - accuracy: 0.0000e+00 - val_loss: 3.5334 - val_accuracy: 0.0000e+00\n",
      "Epoch 82/100\n",
      "6930/6930 [==============================] - 4s 558us/step - loss: 3.0516 - accuracy: 0.0000e+00 - val_loss: 2.2906 - val_accuracy: 0.0000e+00\n",
      "Epoch 83/100\n",
      "6930/6930 [==============================] - 4s 583us/step - loss: 2.9842 - accuracy: 0.0000e+00 - val_loss: 3.2114 - val_accuracy: 0.0000e+00\n",
      "Epoch 84/100\n",
      "6930/6930 [==============================] - 4s 565us/step - loss: 2.8136 - accuracy: 0.0000e+00 - val_loss: 3.4506 - val_accuracy: 0.0000e+00\n",
      "Epoch 85/100\n",
      "6930/6930 [==============================] - 4s 556us/step - loss: 3.1788 - accuracy: 0.0000e+00 - val_loss: 2.2781 - val_accuracy: 0.0000e+00\n",
      "Epoch 86/100\n",
      "6930/6930 [==============================] - 4s 590us/step - loss: 3.1997 - accuracy: 0.0000e+00 - val_loss: 3.9657 - val_accuracy: 0.0000e+00\n",
      "Epoch 87/100\n",
      "6930/6930 [==============================] - 4s 554us/step - loss: 2.9073 - accuracy: 0.0000e+00 - val_loss: 1.9195 - val_accuracy: 0.0000e+00\n",
      "Epoch 88/100\n",
      "6930/6930 [==============================] - 4s 582us/step - loss: 3.3103 - accuracy: 0.0000e+00 - val_loss: 2.6960 - val_accuracy: 0.0000e+00\n",
      "Epoch 89/100\n",
      "6930/6930 [==============================] - 4s 576us/step - loss: 3.1136 - accuracy: 0.0000e+00 - val_loss: 2.3083 - val_accuracy: 0.0000e+00\n",
      "Epoch 90/100\n",
      "6930/6930 [==============================] - 4s 589us/step - loss: 3.0686 - accuracy: 0.0000e+00 - val_loss: 2.8750 - val_accuracy: 0.0000e+00\n",
      "Epoch 91/100\n",
      "6930/6930 [==============================] - 4s 589us/step - loss: 2.9918 - accuracy: 0.0000e+00 - val_loss: 9.1645 - val_accuracy: 0.0000e+00\n",
      "Epoch 92/100\n",
      "6930/6930 [==============================] - 4s 580us/step - loss: 2.9745 - accuracy: 0.0000e+00 - val_loss: 4.8729 - val_accuracy: 0.0000e+00\n",
      "Epoch 93/100\n",
      "6930/6930 [==============================] - 4s 588us/step - loss: 3.1170 - accuracy: 0.0000e+00 - val_loss: 3.1749 - val_accuracy: 0.0000e+00\n",
      "Epoch 94/100\n",
      "6930/6930 [==============================] - 4s 577us/step - loss: 2.9447 - accuracy: 0.0000e+00 - val_loss: 1.9971 - val_accuracy: 0.0000e+00\n",
      "Epoch 95/100\n",
      "6930/6930 [==============================] - 4s 550us/step - loss: 3.5773 - accuracy: 0.0000e+00 - val_loss: 1.6857 - val_accuracy: 0.0000e+00\n",
      "Epoch 96/100\n",
      "6930/6930 [==============================] - 4s 562us/step - loss: 2.8786 - accuracy: 0.0000e+00 - val_loss: 6.5949 - val_accuracy: 0.0000e+00\n",
      "Epoch 97/100\n",
      "6930/6930 [==============================] - 4s 549us/step - loss: 3.0704 - accuracy: 0.0000e+00 - val_loss: 1.5514 - val_accuracy: 0.0000e+00\n",
      "Epoch 98/100\n",
      "6930/6930 [==============================] - 4s 557us/step - loss: 2.6797 - accuracy: 0.0000e+00 - val_loss: 3.7213 - val_accuracy: 0.0000e+00\n",
      "Epoch 99/100\n",
      "6930/6930 [==============================] - 4s 579us/step - loss: 2.6199 - accuracy: 0.0000e+00 - val_loss: 3.1611 - val_accuracy: 0.0000e+00\n",
      "Epoch 100/100\n",
      "6930/6930 [==============================] - 4s 586us/step - loss: 2.5936 - accuracy: 0.0000e+00 - val_loss: 1.6802 - val_accuracy: 0.0000e+00\n"
     ]
    }
   ],
   "source": [
    "# Training\n",
    "\n",
    "classifier.compile(optimizer = 'adam', loss = 'mean_squared_error', metrics = ['accuracy'])\n",
    "\n",
    "history=classifier.fit(x_train, y_train, batch_size = 10, epochs = 100, validation_data=(x_test,y_test))"
   ]
  },
  {
   "cell_type": "code",
   "execution_count": 6,
   "id": "858f1d1f-6d17-45c9-9ddb-76a2318922e9",
   "metadata": {},
   "outputs": [],
   "source": [
    "# Prediction\n",
    "\n",
    "y_pred = classifier.predict(x_test)"
   ]
  },
  {
   "cell_type": "code",
   "execution_count": 7,
   "id": "fd8961f0",
   "metadata": {},
   "outputs": [
    {
     "name": "stdout",
     "output_type": "stream",
     "text": [
      "Mean Squared Error 1.6802352800046958\n",
      "R-Squared:  0.913221984334583\n",
      "Max Error 40.84270704791027\n",
      "Mean Absolute Error 0.547643954302789\n"
     ]
    }
   ],
   "source": [
    "# Prediction Metrics\n",
    "\n",
    "from sklearn.metrics import r2_score\n",
    "from sklearn.metrics import mean_squared_error as mse\n",
    "from sklearn.metrics import max_error\n",
    "from sklearn.metrics import mean_absolute_error\n",
    "\n",
    "MSE = mse(y_test, y_pred)\n",
    "R2 = r2_score(y_test, y_pred)\n",
    "MAX_ERROR = max_error(y_test, y_pred);\n",
    "MEAN_ABSOLUTE_ERROR = mean_absolute_error(y_test, y_pred)\n",
    "\n",
    "\n",
    "print(\"Mean Squared Error\", MSE)\n",
    "print(\"R-Squared: \", R2)\n",
    "print(\"Max Error\", MAX_ERROR);\n",
    "print(\"Mean Absolute Error\", MEAN_ABSOLUTE_ERROR);"
   ]
  },
  {
   "cell_type": "code",
   "execution_count": 8,
   "id": "d30825f7-27a1-4ef4-a3b7-4115a94d5461",
   "metadata": {},
   "outputs": [
    {
     "data": {
      "image/png": "[encoded data removed]",
      "text/plain": [
       "<Figure size 432x288 with 1 Axes>"
      ]
     },
     "metadata": {
      "needs_background": "light"
     },
     "output_type": "display_data"
    },
    {
     "data": {
      "image/png": "[encoded data removed]",
      "text/plain": [
       "<Figure size 432x288 with 1 Axes>"
      ]
     },
     "metadata": {
      "needs_background": "light"
     },
     "output_type": "display_data"
    }
   ],
   "source": [
    "# Training Analysis\n",
    "\n",
    "import matplotlib.pyplot as plt\n",
    "\n",
    "plt.plot(history.history['loss'])\n",
    "plt.title('Model Loss')\n",
    "plt.ylabel('LOSS')\n",
    "plt.xlabel('EPOCH')\n",
    "plt.legend(['train'], loc='upper left')\n",
    "plt.show()\n",
    "\n",
    "plt.plot(history.history['val_loss'])\n",
    "plt.title('Model Validation Loss')\n",
    "plt.ylabel('VAL LOSS')\n",
    "plt.xlabel('EPOCH')\n",
    "plt.legend(['train'], loc='upper left')\n",
    "plt.show()"
   ]
  },
  {
   "cell_type": "code",
   "execution_count": 9,
   "id": "eff72629",
   "metadata": {},
   "outputs": [
    {
     "data": {
      "image/png": "[encoded data removed]",
      "text/plain": [
       "<Figure size 432x288 with 1 Axes>"
      ]
     },
     "metadata": {
      "needs_background": "light"
     },
     "output_type": "display_data"
    }
   ],
   "source": [
    "# Accuracy Plot\n",
    "\n",
    "def generatePredictionPlot(y_pred, y_test):\n",
    "    plt.scatter(x=y_test, y=y_pred, c='navy', alpha=0.6)\n",
    "    plt.plot(y_test, y_test,color='cyan')\n",
    "    plt.title('Predicted vs Actual values')\n",
    "    plt.xlabel('Actual values')\n",
    "    plt.ylabel('Predicted values')\n",
    "    plt.show()\n",
    "    \n",
    "generatePredictionPlot(y_pred, y_test)"
   ]
  },
  {
   "cell_type": "code",
   "execution_count": 10,
   "id": "9576e582",
   "metadata": {},
   "outputs": [
    {
     "ename": "NameError",
     "evalue": "name 'DTReg' is not defined",
     "output_type": "error",
     "traceback": [
      "\u001b[1;31m---------------------------------------------------------------------------\u001b[0m",
      "\u001b[1;31mNameError\u001b[0m                                 Traceback (most recent call last)",
      "Input \u001b[1;32mIn [10]\u001b[0m, in \u001b[0;36m<module>\u001b[1;34m\u001b[0m\n\u001b[0;32m      7\u001b[0m d5 \u001b[38;5;241m=\u001b[39m [\u001b[38;5;241m13.86\u001b[39m, \u001b[38;5;241m14.57\u001b[39m, \u001b[38;5;241m2.8\u001b[39m, \u001b[38;5;241m2.1\u001b[39m, \u001b[38;5;241m2.56\u001b[39m] \u001b[38;5;66;03m#HFSS S11 = -0.77\u001b[39;00m\n\u001b[0;32m      9\u001b[0m \u001b[38;5;66;03m# Predictions\u001b[39;00m\n\u001b[1;32m---> 10\u001b[0m preds \u001b[38;5;241m=\u001b[39m \u001b[43mDTReg\u001b[49m\u001b[38;5;241m.\u001b[39mpredict([d1,d2,d3,d4,d5])\n\u001b[0;32m     12\u001b[0m \u001b[38;5;28mprint\u001b[39m(\u001b[38;5;124m\"\u001b[39m\u001b[38;5;124mPredictions\u001b[39m\u001b[38;5;124m\"\u001b[39m, preds)\n",
      "\u001b[1;31mNameError\u001b[0m: name 'DTReg' is not defined"
     ]
    }
   ],
   "source": [
    "# Data Samples\n",
    "\n",
    "d1 = [14.10, 14.55, 2.25, 2.6, 2.42] #HFSS S11 = -0.37\n",
    "d2 = [13.04, 13.30, 2.3, 2.7, 1.84] # HFSS S11 = -0.43\n",
    "d3 = [13.19, 13.74, 2.7, 2.45, 1.95] # HFSS S11 = -0.44\n",
    "d4 = [14.42, 13.12, 2.4, 2.8, 2.41] # HFSS S11 = -0.51\n",
    "d5 = [13.86, 14.57, 2.8, 2.1, 2.56] #HFSS S11 = -0.77\n",
    "\n",
    "# Predictions\n",
    "preds = classifier.predict([d1,d2,d3,d4,d5])\n",
    "\n",
    "print(\"Predictions\", preds);"
   ]
  },
  {
   "cell_type": "code",
   "execution_count": 39,
   "id": "ee6da811-8565-4477-a568-dec96c8e608d",
   "metadata": {},
   "outputs": [
    {
     "name": "stdout",
     "output_type": "stream",
     "text": [
      "Predicted Values for random samples\n",
      "\n",
      "   Height  Radius    W1    W2  Frequency            S11\n",
      "0   13.34   13.94  3.09  3.27       5.17   [-15.984023]\n",
      "1   13.47   12.64  2.73  2.73       5.31   [-14.165053]\n",
      "2   13.75   13.71  3.07  3.15       4.31   [-3.4032967]\n",
      "3   13.04   13.42  3.46  3.49       5.19   [-13.741744]\n",
      "4   13.74   12.48  2.71  2.51       5.14    [-9.601951]\n",
      "5   13.47   12.87  2.93  3.00       5.33   [-15.643836]\n",
      "6   13.45   13.34  2.96  2.99       5.37     [-18.7669]\n",
      "7   13.33   13.45  2.74  3.23       2.53  [-0.53899306]\n",
      "8   13.84   12.65  3.40  3.41       4.63   [-2.5867608]\n",
      "9   13.50   13.40  3.07  2.95       3.21    [-12.71974]\n"
     ]
    }
   ],
   "source": [
    "# Generating random data sets\n",
    "\n",
    "import numpy\n",
    "import pandas\n",
    "\n",
    "SAMPLE_SIZE = 10\n",
    "\n",
    "def randomSample(low, high, size):\n",
    "    rand_rad = numpy.random.uniform(low, high, size)\n",
    "    for i in range(0, rand_rad.size):\n",
    "        rand_rad[i] = round(rand_rad[i], 2)\n",
    "    return rand_rad\n",
    "\n",
    "rand_rad = randomSample(12, 14, SAMPLE_SIZE)\n",
    "rand_height = randomSample(13, 14, SAMPLE_SIZE)\n",
    "rand_freq = randomSample(2, 6, SAMPLE_SIZE)\n",
    "rand_w1 = randomSample(2.5, 3.5, SAMPLE_SIZE)\n",
    "rand_w2 = randomSample(2.5, 3.5, SAMPLE_SIZE)\n",
    "\n",
    "rand_x = []\n",
    "for i in range(0,SAMPLE_SIZE):\n",
    "    rand_x.append([rand_height[i], rand_rad[i], rand_w1[i], rand_w2[i], rand_freq[i],])\n",
    "\n",
    "y_pred_rand = classifier.predict(rand_x)\n",
    "\n",
    "output = []\n",
    "for i in range(0, SAMPLE_SIZE):\n",
    "    output.append([rand_height[i], rand_rad[i], rand_w1[i], rand_w2[i], rand_freq[i], y_pred_rand[i]])\n",
    "    \n",
    "# Creating Dataframe\n",
    "output_df = pandas.DataFrame(output, columns= [\"Height\", \"Radius\", \"W1\", \"W2\", \"Frequency\", \"S11\"])\n",
    "print(\"Predicted Values for random samples\\n\")\n",
    "print(output_df)"
   ]
  },
  {
   "cell_type": "code",
   "execution_count": null,
   "id": "f5714996",
   "metadata": {},
   "outputs": [],
   "source": []
  }
 ],
 "metadata": {
  "kernelspec": {
   "display_name": "Python 3 (ipykernel)",
   "language": "python",
   "name": "python3"
  },
  "language_info": {
   "codemirror_mode": {
    "name": "ipython",
    "version": 3
   },
   "file_extension": ".py",
   "mimetype": "text/x-python",
   "name": "python",
   "nbconvert_exporter": "python",
   "pygments_lexer": "ipython3",
   "version": "3.10.2"
  }
 },
 "nbformat": 4,
 "nbformat_minor": 5
}
