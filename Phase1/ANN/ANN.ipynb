{
 "cells": [
  {
   "cell_type": "code",
   "execution_count": 1,
   "id": "2c3201c8-a735-4497-b59e-1e01831da8ba",
   "metadata": {},
   "outputs": [],
   "source": [
    "import pandas as pd\n",
    "from sklearn.model_selection import train_test_split\n",
    "\n",
    "import keras\n",
    "from keras.models import Sequential\n",
    "from keras.layers import Dense"
   ]
  },
  {
   "cell_type": "code",
   "execution_count": 2,
   "id": "ad861d9a-1472-4503-9d90-c9fe14cf93d3",
   "metadata": {},
   "outputs": [],
   "source": [
    "# Reading data from csv file\n",
    "\n",
    "dataset = pd.read_csv('../DataSets/data_set.csv')\n",
    "\n",
    "x = pd.DataFrame(dataset.iloc[:, 0:3].values)\n",
    "y = dataset.iloc[:, 3].values"
   ]
  },
  {
   "cell_type": "code",
   "execution_count": 3,
   "id": "02eaa61f-a48c-46dd-9251-a93041462cf0",
   "metadata": {},
   "outputs": [],
   "source": [
    "# Generating training and test data sets\n",
    "\n",
    "x_train, x_test, y_train, y_test = train_test_split(x, y, test_size = 0.2, random_state = 123)"
   ]
  },
  {
   "cell_type": "code",
   "execution_count": 4,
   "id": "eecc7b2c-fa09-4b2f-a089-8166d1f100e8",
   "metadata": {},
   "outputs": [],
   "source": [
    "# Artificial NN\n",
    "\n",
    "classifier = Sequential()\n",
    "\n",
    "# Input Layer\n",
    "classifier.add(Dense(units = 6, activation = 'relu', input_dim = 3))\n",
    "\n",
    "# 1st Hidden Layer\n",
    "classifier.add(Dense(units = 8, activation = 'relu'))\n",
    "\n",
    "# 2nd Hidden Layer\n",
    "classifier.add(Dense(units = 3, activation = 'relu'))\n",
    "\n",
    "# Output Layer\n",
    "classifier.add(Dense(units = 1, activation = 'linear'))\n"
   ]
  },
  {
   "cell_type": "code",
   "execution_count": 5,
   "id": "2137ba00-034d-497b-9ffb-28e69e94f666",
   "metadata": {},
   "outputs": [
    {
     "name": "stdout",
     "output_type": "stream",
     "text": [
      "Epoch 1/100\n",
      "4139/4139 [==============================] - 3s 572us/step - loss: 17.2590 - accuracy: 0.0000e+00 - val_loss: 14.9931 - val_accuracy: 0.0000e+00\n",
      "Epoch 2/100\n",
      "4139/4139 [==============================] - 2s 547us/step - loss: 15.0738 - accuracy: 0.0000e+00 - val_loss: 14.8863 - val_accuracy: 0.0000e+00\n",
      "Epoch 3/100\n",
      "4139/4139 [==============================] - 2s 573us/step - loss: 15.0720 - accuracy: 0.0000e+00 - val_loss: 15.2135 - val_accuracy: 0.0000e+00\n",
      "Epoch 4/100\n",
      "4139/4139 [==============================] - 3s 630us/step - loss: 15.0734 - accuracy: 0.0000e+00 - val_loss: 14.8781 - val_accuracy: 0.0000e+00\n",
      "Epoch 5/100\n",
      "4139/4139 [==============================] - 2s 563us/step - loss: 15.0382 - accuracy: 0.0000e+00 - val_loss: 14.9108 - val_accuracy: 0.0000e+00\n",
      "Epoch 6/100\n",
      "4139/4139 [==============================] - 2s 571us/step - loss: 15.0388 - accuracy: 0.0000e+00 - val_loss: 14.9467 - val_accuracy: 0.0000e+00\n",
      "Epoch 7/100\n",
      "4139/4139 [==============================] - 2s 569us/step - loss: 15.0335 - accuracy: 0.0000e+00 - val_loss: 14.8638 - val_accuracy: 0.0000e+00\n",
      "Epoch 8/100\n",
      "4139/4139 [==============================] - 2s 560us/step - loss: 15.0534 - accuracy: 0.0000e+00 - val_loss: 14.9174 - val_accuracy: 0.0000e+00\n",
      "Epoch 9/100\n",
      "4139/4139 [==============================] - 2s 549us/step - loss: 15.0211 - accuracy: 0.0000e+00 - val_loss: 14.8889 - val_accuracy: 0.0000e+00\n",
      "Epoch 10/100\n",
      "4139/4139 [==============================] - 2s 572us/step - loss: 15.0240 - accuracy: 0.0000e+00 - val_loss: 14.8573 - val_accuracy: 0.0000e+00\n",
      "Epoch 11/100\n",
      "4139/4139 [==============================] - 3s 717us/step - loss: 15.0248 - accuracy: 0.0000e+00 - val_loss: 14.8541 - val_accuracy: 0.0000e+00\n",
      "Epoch 12/100\n",
      "4139/4139 [==============================] - 3s 623us/step - loss: 15.0097 - accuracy: 0.0000e+00 - val_loss: 14.8835 - val_accuracy: 0.0000e+00\n",
      "Epoch 13/100\n",
      "4139/4139 [==============================] - 3s 618us/step - loss: 14.9972 - accuracy: 0.0000e+00 - val_loss: 14.8646 - val_accuracy: 0.0000e+00\n",
      "Epoch 14/100\n",
      "4139/4139 [==============================] - 2s 567us/step - loss: 14.1627 - accuracy: 0.0000e+00 - val_loss: 13.3399 - val_accuracy: 0.0000e+00\n",
      "Epoch 15/100\n",
      "4139/4139 [==============================] - 3s 608us/step - loss: 13.1029 - accuracy: 0.0000e+00 - val_loss: 12.8164 - val_accuracy: 0.0000e+00\n",
      "Epoch 16/100\n",
      "4139/4139 [==============================] - 3s 686us/step - loss: 12.4146 - accuracy: 0.0000e+00 - val_loss: 12.3232 - val_accuracy: 0.0000e+00\n",
      "Epoch 17/100\n",
      "4139/4139 [==============================] - 3s 657us/step - loss: 11.8018 - accuracy: 0.0000e+00 - val_loss: 11.4350 - val_accuracy: 0.0000e+00\n",
      "Epoch 18/100\n",
      "4139/4139 [==============================] - 4s 868us/step - loss: 11.2691 - accuracy: 0.0000e+00 - val_loss: 11.1746 - val_accuracy: 0.0000e+00\n",
      "Epoch 19/100\n",
      "4139/4139 [==============================] - 3s 674us/step - loss: 10.6449 - accuracy: 0.0000e+00 - val_loss: 10.5400 - val_accuracy: 0.0000e+00\n",
      "Epoch 20/100\n",
      "4139/4139 [==============================] - 3s 724us/step - loss: 10.0109 - accuracy: 0.0000e+00 - val_loss: 9.4362 - val_accuracy: 0.0000e+00\n",
      "Epoch 21/100\n",
      "4139/4139 [==============================] - 3s 609us/step - loss: 9.3760 - accuracy: 0.0000e+00 - val_loss: 8.8726 - val_accuracy: 0.0000e+00\n",
      "Epoch 22/100\n",
      "4139/4139 [==============================] - 3s 620us/step - loss: 8.9303 - accuracy: 0.0000e+00 - val_loss: 9.3137 - val_accuracy: 0.0000e+00\n",
      "Epoch 23/100\n",
      "4139/4139 [==============================] - 2s 585us/step - loss: 8.6806 - accuracy: 0.0000e+00 - val_loss: 8.3242 - val_accuracy: 0.0000e+00\n",
      "Epoch 24/100\n",
      "4139/4139 [==============================] - 2s 603us/step - loss: 8.4877 - accuracy: 0.0000e+00 - val_loss: 9.2379 - val_accuracy: 0.0000e+00\n",
      "Epoch 25/100\n",
      "4139/4139 [==============================] - 3s 605us/step - loss: 8.2864 - accuracy: 0.0000e+00 - val_loss: 8.1310 - val_accuracy: 0.0000e+00\n",
      "Epoch 26/100\n",
      "4139/4139 [==============================] - 3s 614us/step - loss: 8.1064 - accuracy: 0.0000e+00 - val_loss: 7.7681 - val_accuracy: 0.0000e+00\n",
      "Epoch 27/100\n",
      "4139/4139 [==============================] - 3s 633us/step - loss: 7.8924 - accuracy: 0.0000e+00 - val_loss: 7.7642 - val_accuracy: 0.0000e+00\n",
      "Epoch 28/100\n",
      "4139/4139 [==============================] - 3s 631us/step - loss: 7.6610 - accuracy: 0.0000e+00 - val_loss: 7.2874 - val_accuracy: 0.0000e+00\n",
      "Epoch 29/100\n",
      "4139/4139 [==============================] - 3s 609us/step - loss: 7.4781 - accuracy: 0.0000e+00 - val_loss: 7.1798 - val_accuracy: 0.0000e+00\n",
      "Epoch 30/100\n",
      "4139/4139 [==============================] - 3s 650us/step - loss: 7.1678 - accuracy: 0.0000e+00 - val_loss: 7.7721 - val_accuracy: 0.0000e+00\n",
      "Epoch 31/100\n",
      "4139/4139 [==============================] - 3s 664us/step - loss: 6.9895 - accuracy: 0.0000e+00 - val_loss: 6.5331 - val_accuracy: 0.0000e+00\n",
      "Epoch 32/100\n",
      "4139/4139 [==============================] - 2s 575us/step - loss: 6.6860 - accuracy: 0.0000e+00 - val_loss: 6.2675 - val_accuracy: 0.0000e+00\n",
      "Epoch 33/100\n",
      "4139/4139 [==============================] - 2s 576us/step - loss: 6.3388 - accuracy: 0.0000e+00 - val_loss: 5.9261 - val_accuracy: 0.0000e+00\n",
      "Epoch 34/100\n",
      "4139/4139 [==============================] - 2s 591us/step - loss: 6.0809 - accuracy: 0.0000e+00 - val_loss: 8.6551 - val_accuracy: 0.0000e+00\n",
      "Epoch 35/100\n",
      "4139/4139 [==============================] - 2s 591us/step - loss: 5.7979 - accuracy: 0.0000e+00 - val_loss: 6.2266 - val_accuracy: 0.0000e+00\n",
      "Epoch 36/100\n",
      "4139/4139 [==============================] - 2s 584us/step - loss: 5.4240 - accuracy: 0.0000e+00 - val_loss: 4.9033 - val_accuracy: 0.0000e+00\n",
      "Epoch 37/100\n",
      "4139/4139 [==============================] - 2s 582us/step - loss: 5.1587 - accuracy: 0.0000e+00 - val_loss: 4.7094 - val_accuracy: 0.0000e+00\n",
      "Epoch 38/100\n",
      "4139/4139 [==============================] - 2s 564us/step - loss: 4.7738 - accuracy: 0.0000e+00 - val_loss: 4.5603 - val_accuracy: 0.0000e+00\n",
      "Epoch 39/100\n",
      "4139/4139 [==============================] - 3s 665us/step - loss: 4.4409 - accuracy: 0.0000e+00 - val_loss: 4.0283 - val_accuracy: 0.0000e+00\n",
      "Epoch 40/100\n",
      "4139/4139 [==============================] - 2s 546us/step - loss: 4.0854 - accuracy: 0.0000e+00 - val_loss: 3.7514 - val_accuracy: 0.0000e+00\n",
      "Epoch 41/100\n",
      "4139/4139 [==============================] - 2s 588us/step - loss: 3.9069 - accuracy: 0.0000e+00 - val_loss: 3.6487 - val_accuracy: 0.0000e+00\n",
      "Epoch 42/100\n",
      "4139/4139 [==============================] - 2s 562us/step - loss: 3.6629 - accuracy: 0.0000e+00 - val_loss: 3.5814 - val_accuracy: 0.0000e+00\n",
      "Epoch 43/100\n",
      "4139/4139 [==============================] - 3s 615us/step - loss: 3.5302 - accuracy: 0.0000e+00 - val_loss: 2.9689 - val_accuracy: 0.0000e+00\n",
      "Epoch 44/100\n",
      "4139/4139 [==============================] - 2s 562us/step - loss: 3.3741 - accuracy: 0.0000e+00 - val_loss: 3.9025 - val_accuracy: 0.0000e+00\n",
      "Epoch 45/100\n",
      "4139/4139 [==============================] - 3s 622us/step - loss: 3.2446 - accuracy: 0.0000e+00 - val_loss: 3.9252 - val_accuracy: 0.0000e+00\n",
      "Epoch 46/100\n",
      "4139/4139 [==============================] - 2s 575us/step - loss: 3.0656 - accuracy: 0.0000e+00 - val_loss: 3.8738 - val_accuracy: 0.0000e+00\n",
      "Epoch 47/100\n",
      "4139/4139 [==============================] - 2s 599us/step - loss: 3.0407 - accuracy: 0.0000e+00 - val_loss: 2.9055 - val_accuracy: 0.0000e+00\n",
      "Epoch 48/100\n",
      "4139/4139 [==============================] - 2s 564us/step - loss: 3.0386 - accuracy: 0.0000e+00 - val_loss: 6.0445 - val_accuracy: 0.0000e+00\n",
      "Epoch 49/100\n",
      "4139/4139 [==============================] - 2s 569us/step - loss: 3.0389 - accuracy: 0.0000e+00 - val_loss: 2.4408 - val_accuracy: 0.0000e+00\n",
      "Epoch 50/100\n",
      "4139/4139 [==============================] - 2s 585us/step - loss: 2.9063 - accuracy: 0.0000e+00 - val_loss: 3.2433 - val_accuracy: 0.0000e+00\n",
      "Epoch 51/100\n",
      "4139/4139 [==============================] - 3s 667us/step - loss: 2.9962 - accuracy: 0.0000e+00 - val_loss: 2.5192 - val_accuracy: 0.0000e+00\n",
      "Epoch 52/100\n",
      "4139/4139 [==============================] - 3s 646us/step - loss: 2.8347 - accuracy: 0.0000e+00 - val_loss: 2.4246 - val_accuracy: 0.0000e+00\n",
      "Epoch 53/100\n"
     ]
    },
    {
     "name": "stdout",
     "output_type": "stream",
     "text": [
      "4139/4139 [==============================] - 3s 611us/step - loss: 2.8218 - accuracy: 0.0000e+00 - val_loss: 2.8803 - val_accuracy: 0.0000e+00\n",
      "Epoch 54/100\n",
      "4139/4139 [==============================] - 2s 576us/step - loss: 2.7884 - accuracy: 0.0000e+00 - val_loss: 3.3421 - val_accuracy: 0.0000e+00\n",
      "Epoch 55/100\n",
      "4139/4139 [==============================] - 2s 586us/step - loss: 2.8579 - accuracy: 0.0000e+00 - val_loss: 2.4075 - val_accuracy: 0.0000e+00\n",
      "Epoch 56/100\n",
      "4139/4139 [==============================] - 3s 707us/step - loss: 2.8321 - accuracy: 0.0000e+00 - val_loss: 2.6198 - val_accuracy: 0.0000e+00\n",
      "Epoch 57/100\n",
      "4139/4139 [==============================] - 3s 726us/step - loss: 2.7219 - accuracy: 0.0000e+00 - val_loss: 2.3885 - val_accuracy: 0.0000e+00\n",
      "Epoch 58/100\n",
      "4139/4139 [==============================] - 3s 735us/step - loss: 2.7378 - accuracy: 0.0000e+00 - val_loss: 2.2849 - val_accuracy: 0.0000e+00\n",
      "Epoch 59/100\n",
      "4139/4139 [==============================] - 3s 728us/step - loss: 2.6610 - accuracy: 0.0000e+00 - val_loss: 2.2935 - val_accuracy: 0.0000e+00\n",
      "Epoch 60/100\n",
      "4139/4139 [==============================] - 3s 663us/step - loss: 2.6670 - accuracy: 0.0000e+00 - val_loss: 2.1082 - val_accuracy: 0.0000e+00\n",
      "Epoch 61/100\n",
      "4139/4139 [==============================] - 3s 665us/step - loss: 2.6416 - accuracy: 0.0000e+00 - val_loss: 2.6854 - val_accuracy: 0.0000e+00\n",
      "Epoch 62/100\n",
      "4139/4139 [==============================] - 3s 660us/step - loss: 2.7157 - accuracy: 0.0000e+00 - val_loss: 2.0618 - val_accuracy: 0.0000e+00\n",
      "Epoch 63/100\n",
      "4139/4139 [==============================] - 3s 739us/step - loss: 3.8263 - accuracy: 0.0000e+00 - val_loss: 7.3435 - val_accuracy: 0.0000e+00\n",
      "Epoch 64/100\n",
      "4139/4139 [==============================] - 3s 675us/step - loss: 5.6554 - accuracy: 0.0000e+00 - val_loss: 4.4712 - val_accuracy: 0.0000e+00\n",
      "Epoch 65/100\n",
      "4139/4139 [==============================] - 3s 767us/step - loss: 4.3853 - accuracy: 0.0000e+00 - val_loss: 3.9292 - val_accuracy: 0.0000e+00\n",
      "Epoch 66/100\n",
      "4139/4139 [==============================] - 3s 783us/step - loss: 3.8776 - accuracy: 0.0000e+00 - val_loss: 4.2374 - val_accuracy: 0.0000e+00\n",
      "Epoch 67/100\n",
      "4139/4139 [==============================] - 3s 698us/step - loss: 3.5868 - accuracy: 0.0000e+00 - val_loss: 3.3143 - val_accuracy: 0.0000e+00\n",
      "Epoch 68/100\n",
      "4139/4139 [==============================] - 3s 813us/step - loss: 3.2605 - accuracy: 0.0000e+00 - val_loss: 3.4588 - val_accuracy: 0.0000e+00\n",
      "Epoch 69/100\n",
      "4139/4139 [==============================] - 3s 696us/step - loss: 3.1425 - accuracy: 0.0000e+00 - val_loss: 3.4040 - val_accuracy: 0.0000e+00\n",
      "Epoch 70/100\n",
      "4139/4139 [==============================] - 3s 707us/step - loss: 2.9920 - accuracy: 0.0000e+00 - val_loss: 2.5983 - val_accuracy: 0.0000e+00\n",
      "Epoch 71/100\n",
      "4139/4139 [==============================] - 3s 733us/step - loss: 2.9453 - accuracy: 0.0000e+00 - val_loss: 2.5174 - val_accuracy: 0.0000e+00\n",
      "Epoch 72/100\n",
      "4139/4139 [==============================] - 3s 668us/step - loss: 2.7622 - accuracy: 0.0000e+00 - val_loss: 2.8234 - val_accuracy: 0.0000e+00\n",
      "Epoch 73/100\n",
      "4139/4139 [==============================] - 3s 622us/step - loss: 2.8690 - accuracy: 0.0000e+00 - val_loss: 3.9929 - val_accuracy: 0.0000e+00\n",
      "Epoch 74/100\n",
      "4139/4139 [==============================] - 3s 625us/step - loss: 2.6228 - accuracy: 0.0000e+00 - val_loss: 2.3090 - val_accuracy: 0.0000e+00\n",
      "Epoch 75/100\n",
      "4139/4139 [==============================] - 3s 649us/step - loss: 2.6966 - accuracy: 0.0000e+00 - val_loss: 2.2230 - val_accuracy: 0.0000e+00\n",
      "Epoch 76/100\n",
      "4139/4139 [==============================] - 3s 674us/step - loss: 2.6372 - accuracy: 0.0000e+00 - val_loss: 2.2445 - val_accuracy: 0.0000e+00\n",
      "Epoch 77/100\n",
      "4139/4139 [==============================] - 3s 624us/step - loss: 2.5682 - accuracy: 0.0000e+00 - val_loss: 4.7801 - val_accuracy: 0.0000e+00\n",
      "Epoch 78/100\n",
      "4139/4139 [==============================] - 3s 663us/step - loss: 2.5599 - accuracy: 0.0000e+00 - val_loss: 2.3674 - val_accuracy: 0.0000e+00\n",
      "Epoch 79/100\n",
      "4139/4139 [==============================] - 2s 584us/step - loss: 2.7059 - accuracy: 0.0000e+00 - val_loss: 2.3126 - val_accuracy: 0.0000e+00\n",
      "Epoch 80/100\n",
      "4139/4139 [==============================] - 3s 670us/step - loss: 2.4749 - accuracy: 0.0000e+00 - val_loss: 2.1632 - val_accuracy: 0.0000e+00\n",
      "Epoch 81/100\n",
      "4139/4139 [==============================] - 2s 567us/step - loss: 2.4424 - accuracy: 0.0000e+00 - val_loss: 3.0169 - val_accuracy: 0.0000e+00\n",
      "Epoch 82/100\n",
      "4139/4139 [==============================] - 2s 591us/step - loss: 2.4505 - accuracy: 0.0000e+00 - val_loss: 3.7967 - val_accuracy: 0.0000e+00\n",
      "Epoch 83/100\n",
      "4139/4139 [==============================] - 2s 563us/step - loss: 2.3953 - accuracy: 0.0000e+00 - val_loss: 2.0370 - val_accuracy: 0.0000e+00\n",
      "Epoch 84/100\n",
      "4139/4139 [==============================] - 2s 603us/step - loss: 2.3738 - accuracy: 0.0000e+00 - val_loss: 2.8835 - val_accuracy: 0.0000e+00\n",
      "Epoch 85/100\n",
      "4139/4139 [==============================] - 3s 641us/step - loss: 2.3438 - accuracy: 0.0000e+00 - val_loss: 1.9767 - val_accuracy: 0.0000e+00\n",
      "Epoch 86/100\n",
      "4139/4139 [==============================] - 3s 665us/step - loss: 2.2945 - accuracy: 0.0000e+00 - val_loss: 2.1554 - val_accuracy: 0.0000e+00\n",
      "Epoch 87/100\n",
      "4139/4139 [==============================] - 2s 591us/step - loss: 2.2905 - accuracy: 0.0000e+00 - val_loss: 2.1045 - val_accuracy: 0.0000e+00\n",
      "Epoch 88/100\n",
      "4139/4139 [==============================] - 2s 599us/step - loss: 2.5460 - accuracy: 0.0000e+00 - val_loss: 1.8355 - val_accuracy: 0.0000e+00\n",
      "Epoch 89/100\n",
      "4139/4139 [==============================] - 2s 591us/step - loss: 2.5527 - accuracy: 0.0000e+00 - val_loss: 2.1429 - val_accuracy: 0.0000e+00\n",
      "Epoch 90/100\n",
      "4139/4139 [==============================] - 3s 606us/step - loss: 2.2148 - accuracy: 0.0000e+00 - val_loss: 2.2809 - val_accuracy: 0.0000e+00\n",
      "Epoch 91/100\n",
      "4139/4139 [==============================] - 3s 665us/step - loss: 2.1946 - accuracy: 0.0000e+00 - val_loss: 1.8938 - val_accuracy: 0.0000e+00\n",
      "Epoch 92/100\n",
      "4139/4139 [==============================] - 3s 638us/step - loss: 2.2642 - accuracy: 0.0000e+00 - val_loss: 3.7363 - val_accuracy: 0.0000e+00\n",
      "Epoch 93/100\n",
      "4139/4139 [==============================] - 3s 638us/step - loss: 2.2769 - accuracy: 0.0000e+00 - val_loss: 3.0950 - val_accuracy: 0.0000e+00\n",
      "Epoch 94/100\n",
      "4139/4139 [==============================] - 3s 610us/step - loss: 2.3698 - accuracy: 0.0000e+00 - val_loss: 1.8955 - val_accuracy: 0.0000e+00\n",
      "Epoch 95/100\n",
      "4139/4139 [==============================] - 3s 626us/step - loss: 2.4155 - accuracy: 0.0000e+00 - val_loss: 2.2778 - val_accuracy: 0.0000e+00\n",
      "Epoch 96/100\n",
      "4139/4139 [==============================] - 3s 623us/step - loss: 2.3012 - accuracy: 0.0000e+00 - val_loss: 1.9084 - val_accuracy: 0.0000e+00\n",
      "Epoch 97/100\n",
      "4139/4139 [==============================] - 3s 628us/step - loss: 2.2064 - accuracy: 0.0000e+00 - val_loss: 1.8396 - val_accuracy: 0.0000e+00\n",
      "Epoch 98/100\n",
      "4139/4139 [==============================] - 2s 603us/step - loss: 2.1701 - accuracy: 0.0000e+00 - val_loss: 2.1130 - val_accuracy: 0.0000e+00\n",
      "Epoch 99/100\n",
      "4139/4139 [==============================] - 3s 624us/step - loss: 2.1784 - accuracy: 0.0000e+00 - val_loss: 1.8411 - val_accuracy: 0.0000e+00\n",
      "Epoch 100/100\n",
      "4139/4139 [==============================] - 2s 596us/step - loss: 2.3749 - accuracy: 0.0000e+00 - val_loss: 1.7532 - val_accuracy: 0.0000e+00\n"
     ]
    }
   ],
   "source": [
    "# Training\n",
    "\n",
    "classifier.compile(optimizer = 'adam', loss = 'mean_squared_error', metrics = ['accuracy'])\n",
    "\n",
    "history=classifier.fit(x_train, y_train, batch_size = 10, epochs = 100, validation_data=(x_test,y_test))"
   ]
  },
  {
   "cell_type": "code",
   "execution_count": 8,
   "id": "858f1d1f-6d17-45c9-9ddb-76a2318922e9",
   "metadata": {},
   "outputs": [],
   "source": [
    "# Prediction\n",
    "\n",
    "y_pred = classifier.predict(x_test)"
   ]
  },
  {
   "cell_type": "code",
   "execution_count": 9,
   "id": "7be6b65f-1e8b-4700-91af-5886212f6770",
   "metadata": {},
   "outputs": [
    {
     "data": {
      "text/plain": [
       "1.753248713185576"
      ]
     },
     "execution_count": 9,
     "metadata": {},
     "output_type": "execute_result"
    }
   ],
   "source": [
    "# Mean squared error\n",
    "\n",
    "from sklearn.metrics import mean_squared_error\n",
    "\n",
    "mean_squared_error(y_test,y_pred)"
   ]
  },
  {
   "cell_type": "code",
   "execution_count": 10,
   "id": "98101f22-2a70-494f-9520-1993a1fe95d5",
   "metadata": {},
   "outputs": [
    {
     "data": {
      "text/plain": [
       "0.9120575486915421"
      ]
     },
     "execution_count": 10,
     "metadata": {},
     "output_type": "execute_result"
    }
   ],
   "source": [
    "# R2 Score\n",
    "\n",
    "from sklearn.metrics import r2_score\n",
    "\n",
    "r2_score(y_test, y_pred)"
   ]
  },
  {
   "cell_type": "code",
   "execution_count": 11,
   "id": "d30825f7-27a1-4ef4-a3b7-4115a94d5461",
   "metadata": {},
   "outputs": [
    {
     "data": {
      "image/png": "[encoded data removed]",
      "text/plain": [
       "<Figure size 432x288 with 1 Axes>"
      ]
     },
     "metadata": {
      "needs_background": "light"
     },
     "output_type": "display_data"
    }
   ],
   "source": [
    "import matplotlib.pyplot as plt\n",
    "\n",
    "plt.plot(history.history['loss'])\n",
    "plt.title('Model Loss')\n",
    "plt.ylabel('LOSS')\n",
    "plt.xlabel('EPOCH')\n",
    "plt.legend(['train'], loc='upper left')\n",
    "plt.show()"
   ]
  },
  {
   "cell_type": "code",
   "execution_count": 12,
   "id": "3b2db7cc",
   "metadata": {},
   "outputs": [
    {
     "data": {
      "image/png": "[encoded data removed]",
      "text/plain": [
       "<Figure size 432x288 with 1 Axes>"
      ]
     },
     "metadata": {
      "needs_background": "light"
     },
     "output_type": "display_data"
    }
   ],
   "source": [
    "plt.plot(history.history['val_loss'])\n",
    "plt.title('Model Validation Loss')\n",
    "plt.ylabel('VAL LOSS')\n",
    "plt.xlabel('EPOCH')\n",
    "plt.legend(['train'], loc='upper left')\n",
    "plt.show()"
   ]
  },
  {
   "cell_type": "code",
   "execution_count": 13,
   "id": "eff72629",
   "metadata": {},
   "outputs": [
    {
     "data": {
      "image/png": "[encoded data removed]",
      "text/plain": [
       "<Figure size 432x288 with 1 Axes>"
      ]
     },
     "metadata": {
      "needs_background": "light"
     },
     "output_type": "display_data"
    }
   ],
   "source": [
    "def generatePredictionPlot(y_pred, y_test):\n",
    "    plt.scatter(x=y_test, y=y_pred, c='navy', alpha=0.6)\n",
    "    plt.plot(y_test, y_test,color='cyan')\n",
    "    plt.title('Predicted vs Actual values')\n",
    "    plt.xlabel('Actual values')\n",
    "    plt.ylabel('Predicted values')\n",
    "    plt.show()\n",
    "    \n",
    "generatePredictionPlot(y_pred, y_test)"
   ]
  },
  {
   "cell_type": "code",
   "execution_count": 14,
   "id": "54f523a2",
   "metadata": {},
   "outputs": [
    {
     "data": {
      "image/png": "[encoded data removed]",
      "text/plain": [
       "<Figure size 432x288 with 1 Axes>"
      ]
     },
     "metadata": {
      "needs_background": "light"
     },
     "output_type": "display_data"
    }
   ],
   "source": [
    "# Generating random set\n",
    "\n",
    "df = pd.DataFrame(dataset);\n",
    "rand_frame = df.sample(n = 300)\n",
    "\n",
    "rand_x = rand_frame.iloc[:, 0:3].values\n",
    "rand_y = rand_frame.iloc[:, 3].values\n",
    "\n",
    "y_pred_rand = classifier.predict(rand_x)\n",
    "\n",
    "generatePredictionPlot(y_pred_rand, rand_y)"
   ]
  },
  {
   "cell_type": "code",
   "execution_count": 15,
   "id": "ee6da811-8565-4477-a568-dec96c8e608d",
   "metadata": {},
   "outputs": [
    {
     "name": "stdout",
     "output_type": "stream",
     "text": [
      "Predicted Values for random samples\n",
      "\n",
      "   Height  Radius  Frequency            S11\n",
      "0   14.52   14.82       2.73    [-4.270272]\n",
      "1   13.18   14.36       2.92    [-5.590428]\n",
      "2   14.81   14.61       4.87  [-11.3569355]\n",
      "3   14.50   14.33       4.25    [-2.975984]\n",
      "4   14.35   13.33       4.35   [-2.3161755]\n",
      "5   14.96   13.27       1.50  [-0.47138643]\n",
      "6   13.28   14.46       2.63  [-0.80377245]\n",
      "7   13.64   13.31       4.13   [-2.5689702]\n",
      "8   14.60   13.06       2.10  [-0.52903414]\n",
      "9   13.40   13.47       3.49   [-7.7211957]\n"
     ]
    }
   ],
   "source": [
    "# Generating random data sets\n",
    "\n",
    "import numpy\n",
    "import pandas\n",
    "\n",
    "SAMPLE_SIZE = 10\n",
    "\n",
    "def randomSample(low, high, size):\n",
    "    rand_rad = numpy.random.uniform(low, high, size)\n",
    "    for i in range(0, rand_rad.size):\n",
    "        rand_rad[i] = round(rand_rad[i], 2)\n",
    "    return rand_rad\n",
    "\n",
    "rand_rad = randomSample(13, 15, SAMPLE_SIZE)\n",
    "rand_height = randomSample(13, 15, SAMPLE_SIZE)\n",
    "rand_freq = randomSample(1, 5, SAMPLE_SIZE)\n",
    "\n",
    "rand_x = []\n",
    "for i in range(0,SAMPLE_SIZE):\n",
    "    rand_x.append([rand_height[i], rand_rad[i], rand_freq[i]])\n",
    "\n",
    "y_pred_rand = classifier.predict(rand_x)\n",
    "\n",
    "output = []\n",
    "for i in range(0, SAMPLE_SIZE):\n",
    "    output.append([rand_height[i], rand_rad[i], rand_freq[i], y_pred_rand[i]])\n",
    "    \n",
    "# Creating Dataframe\n",
    "output_df = pandas.DataFrame(output, columns= [\"Height\", \"Radius\", \"Frequency\", \"S11\"])\n",
    "print(\"Predicted Values for random samples\\n\")\n",
    "print(output_df)"
   ]
  },
  {
   "cell_type": "code",
   "execution_count": null,
   "id": "f5714996",
   "metadata": {},
   "outputs": [],
   "source": []
  }
 ],
 "metadata": {
  "kernelspec": {
   "display_name": "Python 3 (ipykernel)",
   "language": "python",
   "name": "python3"
  },
  "language_info": {
   "codemirror_mode": {
    "name": "ipython",
    "version": 3
   },
   "file_extension": ".py",
   "mimetype": "text/x-python",
   "name": "python",
   "nbconvert_exporter": "python",
   "pygments_lexer": "ipython3",
   "version": "3.10.2"
  }
 },
 "nbformat": 4,
 "nbformat_minor": 5
}
