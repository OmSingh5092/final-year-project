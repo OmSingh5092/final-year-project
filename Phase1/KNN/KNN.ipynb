{
 "cells": [
  {
   "cell_type": "code",
   "execution_count": 1,
   "id": "acc35c1f-526c-4edc-8147-70915bd5c37a",
   "metadata": {},
   "outputs": [],
   "source": [
    "import pandas as pd\n",
    "from sklearn.model_selection import train_test_split\n"
   ]
  },
  {
   "cell_type": "code",
   "execution_count": 2,
   "id": "aac04ab8-3229-4f5e-a623-5ad85fe11dd1",
   "metadata": {},
   "outputs": [],
   "source": [
    "# Reading data from csv file\n",
    "\n",
    "dataset = pd.read_csv('../DataSets/data_set.csv')\n",
    "\n",
    "x = pd.DataFrame(dataset.iloc[:, 0:3].values)\n",
    "y = dataset.iloc[:, 3].values"
   ]
  },
  {
   "cell_type": "code",
   "execution_count": 3,
   "id": "3214258a-4f3f-4b48-9677-1f9bb2a6041f",
   "metadata": {},
   "outputs": [],
   "source": [
    "# Generating training and test data sets\n",
    "\n",
    "x_train, x_test, y_train, y_test = train_test_split(x, y, test_size = 0.2, random_state = 123)"
   ]
  },
  {
   "cell_type": "code",
   "execution_count": 4,
   "id": "15d591e8-d990-45c8-a411-77b4c95b8b9d",
   "metadata": {},
   "outputs": [
    {
     "data": {
      "text/plain": [
       "KNeighborsRegressor()"
      ]
     },
     "execution_count": 4,
     "metadata": {},
     "output_type": "execute_result"
    }
   ],
   "source": [
    "# KNN\n",
    "\n",
    "from sklearn.neighbors import KNeighborsRegressor\n",
    "\n",
    "knn = KNeighborsRegressor(n_neighbors=5)\n",
    " \n",
    "knn.fit(x_train, y_train)"
   ]
  },
  {
   "cell_type": "code",
   "execution_count": 5,
   "id": "202d8809-c320-4fc3-91ba-2d5a04256654",
   "metadata": {},
   "outputs": [],
   "source": [
    "# Prediction\n",
    "\n",
    "y_pred = knn.predict(x_test)"
   ]
  },
  {
   "cell_type": "code",
   "execution_count": 6,
   "id": "cf4fb397-7099-461f-9f52-65118eba0b29",
   "metadata": {},
   "outputs": [
    {
     "data": {
      "text/plain": [
       "0.3349529390503197"
      ]
     },
     "execution_count": 6,
     "metadata": {},
     "output_type": "execute_result"
    }
   ],
   "source": [
    "# Mean squared error\n",
    "\n",
    "from sklearn.metrics import mean_squared_error\n",
    "\n",
    "mean_squared_error(y_test,y_pred)"
   ]
  },
  {
   "cell_type": "code",
   "execution_count": 7,
   "id": "bca47b65-0402-4de8-87a2-53ae41dd00ff",
   "metadata": {},
   "outputs": [
    {
     "data": {
      "text/plain": [
       "0.9831988568926218"
      ]
     },
     "execution_count": 7,
     "metadata": {},
     "output_type": "execute_result"
    }
   ],
   "source": [
    "# R2 Score\n",
    "\n",
    "from sklearn.metrics import r2_score\n",
    "\n",
    "r2_score(y_test, y_pred)"
   ]
  },
  {
   "cell_type": "code",
   "execution_count": 8,
   "id": "72514507-ccb3-4505-af9f-f31cf7d948bf",
   "metadata": {
    "tags": []
   },
   "outputs": [
    {
     "data": {
      "image/png": "[encoded data removed]",
      "text/plain": [
       "<Figure size 432x288 with 1 Axes>"
      ]
     },
     "metadata": {
      "needs_background": "light"
     },
     "output_type": "display_data"
    }
   ],
   "source": [
    "import matplotlib.pyplot as plt\n",
    "\n",
    "def generatePredictionPlot(y_test, y_pred):\n",
    "    plt.scatter(x=y_test, y=y_pred, c='navy', alpha=0.6)\n",
    "    plt.plot(y_pred, y_pred,color='cyan')\n",
    "    plt.title('Predicted vs Actual values')\n",
    "    plt.xlabel('Actual values')\n",
    "    plt.ylabel('Predicted values')\n",
    "    plt.show()\n",
    "    \n",
    "generatePredictionPlot(y_test, y_pred)"
   ]
  },
  {
   "cell_type": "code",
   "execution_count": 11,
   "id": "453041e7-2d87-4f8a-ad9b-ef822dd2d4aa",
   "metadata": {},
   "outputs": [
    {
     "name": "stdout",
     "output_type": "stream",
     "text": [
      "Predicted Values for random samples\n",
      "\n",
      "   Height  Radius  Frequency        S11\n",
      "0   13.32   13.01       1.20  -0.429351\n",
      "1   14.41   14.57       2.91  -6.973702\n",
      "2   14.51   13.12       4.00  -2.203381\n",
      "3   14.95   13.92       3.29  -7.959194\n",
      "4   13.59   13.06       2.46  -0.721569\n",
      "5   14.95   13.39       4.82  -7.356748\n",
      "6   13.55   14.54       3.78  -2.588942\n",
      "7   13.10   13.76       3.40 -10.292606\n",
      "8   13.89   14.66       1.10  -0.440828\n",
      "9   14.71   14.60       2.17  -0.675240\n"
     ]
    }
   ],
   "source": [
    "# Generating random data sets\n",
    "\n",
    "import numpy\n",
    "import pandas\n",
    "\n",
    "SAMPLE_SIZE = 10\n",
    "\n",
    "def randomSample(low, high, size):\n",
    "    rand_rad = numpy.random.uniform(low, high, size)\n",
    "    for i in range(0, rand_rad.size):\n",
    "        rand_rad[i] = round(rand_rad[i], 2)\n",
    "    return rand_rad\n",
    "\n",
    "rand_rad = randomSample(13, 15, SAMPLE_SIZE)\n",
    "rand_height = randomSample(13, 15, SAMPLE_SIZE)\n",
    "rand_freq = randomSample(1, 5, SAMPLE_SIZE)\n",
    "\n",
    "rand_x = []\n",
    "for i in range(0,SAMPLE_SIZE):\n",
    "    rand_x.append([rand_height[i], rand_rad[i], rand_freq[i]])\n",
    "\n",
    "y_pred_rand = knn.predict(rand_x)\n",
    "\n",
    "output = []\n",
    "for i in range(0, SAMPLE_SIZE):\n",
    "    output.append([rand_height[i], rand_rad[i], rand_freq[i], y_pred_rand[i]])\n",
    "    \n",
    "# Creating Dataframe\n",
    "output_df = pandas.DataFrame(output, columns= [\"Height\", \"Radius\", \"Frequency\", \"S11\"])\n",
    "print(\"Predicted Values for random samples\\n\")\n",
    "print(output_df)"
   ]
  },
  {
   "cell_type": "code",
   "execution_count": null,
   "id": "5c4071a0-04ca-4a7e-aa03-bdb1a9b74ee1",
   "metadata": {},
   "outputs": [],
   "source": []
  }
 ],
 "metadata": {
  "kernelspec": {
   "display_name": "Python 3 (ipykernel)",
   "language": "python",
   "name": "python3"
  },
  "language_info": {
   "codemirror_mode": {
    "name": "ipython",
    "version": 3
   },
   "file_extension": ".py",
   "mimetype": "text/x-python",
   "name": "python",
   "nbconvert_exporter": "python",
   "pygments_lexer": "ipython3",
   "version": "3.10.2"
  }
 },
 "nbformat": 4,
 "nbformat_minor": 5
}
