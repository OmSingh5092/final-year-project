{
 "cells": [
  {
   "cell_type": "code",
   "execution_count": 1,
   "id": "acc35c1f-526c-4edc-8147-70915bd5c37a",
   "metadata": {},
   "outputs": [],
   "source": [
    "import pandas as pd\n",
    "from sklearn.model_selection import train_test_split"
   ]
  },
  {
   "cell_type": "code",
   "execution_count": 12,
   "id": "aac04ab8-3229-4f5e-a623-5ad85fe11dd1",
   "metadata": {},
   "outputs": [
    {
     "name": "stdout",
     "output_type": "stream",
     "text": [
      "Dataset        height [mm]  rad [mm]  w1 [mm]  w2 [mm]  Freq [GHz]  dB(S(1,1)) []\n",
      "0             13.0      13.0      2.0      2.0        1.00      -0.527535\n",
      "1             13.0      13.0      2.0      2.0        1.01      -0.524462\n",
      "2             13.0      13.0      2.0      2.0        1.02      -0.521384\n",
      "3             13.0      13.0      2.0      2.0        1.03      -0.518305\n",
      "4             13.0      13.0      2.0      2.0        1.04      -0.515225\n",
      "...            ...       ...      ...      ...         ...            ...\n",
      "86611         14.2      14.0      3.0      3.0        4.96     -16.221981\n",
      "86612         14.2      14.0      3.0      3.0        4.97     -15.480723\n",
      "86613         14.2      14.0      3.0      3.0        4.98     -14.659721\n",
      "86614         14.2      14.0      3.0      3.0        4.99     -13.812575\n",
      "86615         14.2      14.0      3.0      3.0        5.00     -12.974424\n",
      "\n",
      "[86616 rows x 6 columns]\n"
     ]
    }
   ],
   "source": [
    "# Reading data from csv file\n",
    "\n",
    "dataset = pd.read_csv('../DataSets/data_set_dra_updated.csv')\n",
    "\n",
    "print(\"Dataset\", dataset);\n",
    "\n",
    "x = pd.DataFrame(dataset.iloc[:, 0:5].values)\n",
    "y = dataset.iloc[:, 5].values"
   ]
  },
  {
   "cell_type": "code",
   "execution_count": 3,
   "id": "3214258a-4f3f-4b48-9677-1f9bb2a6041f",
   "metadata": {},
   "outputs": [],
   "source": [
    "# Generating training and test data sets\n",
    "\n",
    "x_train, x_test, y_train, y_test = train_test_split(x, y, test_size = 0.2, random_state = 123)"
   ]
  },
  {
   "cell_type": "code",
   "execution_count": 4,
   "id": "15d591e8-d990-45c8-a411-77b4c95b8b9d",
   "metadata": {},
   "outputs": [
    {
     "data": {
      "text/plain": [
       "KNeighborsRegressor()"
      ]
     },
     "execution_count": 4,
     "metadata": {},
     "output_type": "execute_result"
    }
   ],
   "source": [
    "# KNN\n",
    "\n",
    "from sklearn.neighbors import KNeighborsRegressor\n",
    "\n",
    "knn = KNeighborsRegressor(n_neighbors=5)\n",
    " \n",
    "knn.fit(x_train, y_train)"
   ]
  },
  {
   "cell_type": "code",
   "execution_count": 9,
   "id": "202d8809-c320-4fc3-91ba-2d5a04256654",
   "metadata": {},
   "outputs": [
    {
     "name": "stdout",
     "output_type": "stream",
     "text": [
      "Mean Squared Error 0.3138785868040164\n",
      "R-Squared:  0.9837893173373662\n",
      "Max Error 30.510261673939738\n",
      "Mean Absolute Error 0.11681526696237775\n"
     ]
    }
   ],
   "source": [
    "# Prediction Metrics\n",
    "\n",
    "from sklearn.metrics import r2_score\n",
    "from sklearn.metrics import mean_squared_error as mse\n",
    "from sklearn.metrics import max_error\n",
    "from sklearn.metrics import mean_absolute_error\n",
    "\n",
    "MSE = mse(y_test, y_pred)\n",
    "R2 = r2_score(y_test, y_pred)\n",
    "MAX_ERROR = max_error(y_test, y_pred);\n",
    "MEAN_ABSOLUTE_ERROR = mean_absolute_error(y_test, y_pred)\n",
    "\n",
    "\n",
    "print(\"Mean Squared Error\", MSE)\n",
    "print(\"R-Squared: \", R2)\n",
    "print(\"Max Error\", MAX_ERROR);\n",
    "print(\"Mean Absolute Error\", MEAN_ABSOLUTE_ERROR);"
   ]
  },
  {
   "cell_type": "code",
   "execution_count": 10,
   "id": "72514507-ccb3-4505-af9f-f31cf7d948bf",
   "metadata": {
    "tags": []
   },
   "outputs": [
    {
     "data": {
      "image/png": "[encoded data removed]",
      "text/plain": [
       "<Figure size 432x288 with 1 Axes>"
      ]
     },
     "metadata": {
      "needs_background": "light"
     },
     "output_type": "display_data"
    }
   ],
   "source": [
    "import matplotlib.pyplot as plt\n",
    "\n",
    "def generatePredictionPlot(y_test, y_pred):\n",
    "    plt.scatter(x=y_test, y=y_pred, c='navy', alpha=0.6)\n",
    "    plt.plot(y_pred, y_pred,color='cyan')\n",
    "    plt.title('Predicted vs Actual values')\n",
    "    plt.xlabel('Actual values')\n",
    "    plt.ylabel('Predicted values')\n",
    "    plt.show()\n",
    "    \n",
    "generatePredictionPlot(y_test, y_pred)"
   ]
  },
  {
   "cell_type": "code",
   "execution_count": 13,
   "id": "4253ec8d",
   "metadata": {},
   "outputs": [
    {
     "name": "stdout",
     "output_type": "stream",
     "text": [
      "Predictions [-0.31046684 -0.40640925 -0.42608377 -0.64672144 -0.4743419 ]\n"
     ]
    }
   ],
   "source": [
    "# Data Samples\n",
    "\n",
    "d1 = [14.10, 14.55, 2.25, 2.6, 2.42] #HFSS S11 = -0.37\n",
    "d2 = [13.04, 13.30, 2.3, 2.7, 1.84] # HFSS S11 = -0.43\n",
    "d3 = [13.19, 13.74, 2.7, 2.45, 1.95] # HFSS S11 = -0.44\n",
    "d4 = [14.42, 13.12, 2.4, 2.8, 2.41] # HFSS S11 = -0.51\n",
    "d5 = [13.86, 14.57, 2.8, 2.1, 2.56] #HFSS S11 = -0.77\n",
    "\n",
    "# Predictions\n",
    "preds = knn.predict([d1,d2,d3,d4,d5])\n",
    "\n",
    "print(\"Predictions\", preds);"
   ]
  },
  {
   "cell_type": "code",
   "execution_count": 14,
   "id": "453041e7-2d87-4f8a-ad9b-ef822dd2d4aa",
   "metadata": {},
   "outputs": [
    {
     "name": "stdout",
     "output_type": "stream",
     "text": [
      "Predicted Values for random samples\n",
      "\n",
      "   Height  Radius    W1    W2  Frequency        S11\n",
      "0   13.92   14.26  4.14  3.43       3.42  -2.678779\n",
      "1   14.71   13.78  1.21  3.01       3.36  -0.431912\n",
      "2   13.99   14.70  2.26  3.40       2.93  -0.664142\n",
      "3   14.99   14.86  4.14  2.90       2.94  -2.610883\n",
      "4   14.30   14.98  4.42  2.61       3.12  -4.583861\n",
      "5   13.93   14.60  1.03  3.45       3.16  -0.480022\n",
      "6   13.28   13.01  3.35  3.19       2.84 -16.084658\n",
      "7   13.27   13.05  3.25  3.25       3.39  -7.775108\n",
      "8   14.12   13.41  2.11  3.36       3.26  -0.655939\n",
      "9   14.04   13.77  3.79  2.55       2.61  -2.049935\n"
     ]
    }
   ],
   "source": [
    "# Generating random data sets\n",
    "\n",
    "import numpy\n",
    "import pandas\n",
    "\n",
    "SAMPLE_SIZE = 10\n",
    "\n",
    "def randomSample(low, high, size):\n",
    "    rand_rad = numpy.random.uniform(low, high, size)\n",
    "    for i in range(0, rand_rad.size):\n",
    "        rand_rad[i] = round(rand_rad[i], 2)\n",
    "    return rand_rad\n",
    "\n",
    "rand_rad = randomSample(13, 15, SAMPLE_SIZE)\n",
    "rand_height = randomSample(13, 15, SAMPLE_SIZE)\n",
    "rand_freq = randomSample(1, 5, SAMPLE_SIZE)\n",
    "rand_w1 = randomSample(2.5, 3.5, SAMPLE_SIZE)\n",
    "rand_w2 = randomSample(2.5, 3.5, SAMPLE_SIZE)\n",
    "\n",
    "rand_x = []\n",
    "for i in range(0,SAMPLE_SIZE):\n",
    "    rand_x.append([rand_height[i], rand_rad[i], rand_w1[i], rand_w2[i], rand_freq[i]])\n",
    "\n",
    "y_pred_rand = knn.predict(rand_x)\n",
    "\n",
    "output = []\n",
    "for i in range(0, SAMPLE_SIZE):\n",
    "    output.append([rand_height[i], rand_rad[i], rand_freq[i], rand_w1[i], rand_w2[i], y_pred_rand[i]])\n",
    "    \n",
    "# Creating Dataframe\n",
    "output_df = pandas.DataFrame(output, columns= [\"Height\", \"Radius\", \"W1\", \"W2\", \"Frequency\", \"S11\"])\n",
    "print(\"Predicted Values for random samples\\n\")\n",
    "print(output_df)"
   ]
  }
 ],
 "metadata": {
  "kernelspec": {
   "display_name": "Python 3 (ipykernel)",
   "language": "python",
   "name": "python3"
  },
  "language_info": {
   "codemirror_mode": {
    "name": "ipython",
    "version": 3
   },
   "file_extension": ".py",
   "mimetype": "text/x-python",
   "name": "python",
   "nbconvert_exporter": "python",
   "pygments_lexer": "ipython3",
   "version": "3.10.2"
  }
 },
 "nbformat": 4,
 "nbformat_minor": 5
}
