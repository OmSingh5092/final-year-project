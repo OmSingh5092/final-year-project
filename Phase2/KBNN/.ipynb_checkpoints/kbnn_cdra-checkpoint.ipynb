{
 "cells": [
  {
   "cell_type": "code",
   "execution_count": 1,
   "id": "4b05c8b8",
   "metadata": {},
   "outputs": [],
   "source": [
    "import pandas as pd\n",
    "from sklearn.model_selection import train_test_split\n",
    "import numpy"
   ]
  },
  {
   "cell_type": "code",
   "execution_count": 2,
   "id": "64011305",
   "metadata": {},
   "outputs": [],
   "source": [
    "dataset = pd.read_csv('../../Phase1/DataSets/data_set.csv')\n",
    "\n",
    "x = pd.DataFrame(dataset.iloc[:, 0:3].values)\n",
    "y = dataset.iloc[:, 3].values\n",
    "\n",
    "x_train, x_test, y_train, y_test = train_test_split(x, y, test_size = 0.2, random_state = 123)\n",
    "\n",
    "x_inp = [];\n",
    "y_inp = [];\n",
    "\n",
    "\n",
    "x_inp.extend(numpy.array(x_train))\n",
    "\n",
    "y_inp.extend(numpy.array(y_train))\n",
    "\n",
    "DATA_SIZE = 500000;\n",
    "\n",
    "decision_tree_w = 10;\n",
    "random_forest_w = 10;\n",
    "knn_w = 10;\n",
    "xg_boost_w = 10;\n",
    "\n",
    "total_w = decision_tree_w + random_forest_w + knn_w + xg_boost_w;\n",
    "\n",
    "def randomSample(low, high, size):\n",
    "    rand_rad = numpy.random.uniform(low, high, size)\n",
    "    for i in range(0, rand_rad.size):\n",
    "        rand_rad[i] = round(rand_rad[i], 2)\n",
    "    return rand_rad\n",
    "\n",
    "def genDataSet (size):\n",
    "    s = int(size);\n",
    "    rand_rad = randomSample(8, 10, s)\n",
    "    rand_height = randomSample(13, 15, s)\n",
    "    rand_freq = randomSample(3, 6, s)\n",
    "\n",
    "    rand_x = []\n",
    "    for i in range(0, s):\n",
    "        rand_x.append([rand_height[i], rand_rad[i], rand_freq[i]])\n",
    "    return rand_x\n",
    "    \n",
    "    \n"
   ]
  },
  {
   "cell_type": "code",
   "execution_count": 3,
   "id": "741e1126",
   "metadata": {},
   "outputs": [
    {
     "data": {
      "text/plain": [
       "41383"
      ]
     },
     "execution_count": 3,
     "metadata": {},
     "output_type": "execute_result"
    }
   ],
   "source": [
    "len(x_inp)"
   ]
  },
  {
   "cell_type": "code",
   "execution_count": 4,
   "id": "b3db4ccc",
   "metadata": {},
   "outputs": [],
   "source": [
    "# Decision Tree\n",
    "\n",
    "from sklearn.tree import DecisionTreeRegressor\n",
    "DTReg = DecisionTreeRegressor()\n",
    "DTReg.fit(x_train,y_train)\n",
    "\n",
    "x_gen = genDataSet(DATA_SIZE * (decision_tree_w/total_w))\n",
    "\n",
    "x_inp.extend(numpy.array(x_gen))\n",
    "y_inp.extend(numpy.array(DTReg.predict(x_gen)))"
   ]
  },
  {
   "cell_type": "code",
   "execution_count": 5,
   "id": "a5f549d0",
   "metadata": {},
   "outputs": [
    {
     "data": {
      "text/plain": [
       "166383"
      ]
     },
     "execution_count": 5,
     "metadata": {},
     "output_type": "execute_result"
    }
   ],
   "source": [
    "len(x_inp)"
   ]
  },
  {
   "cell_type": "code",
   "execution_count": 6,
   "id": "0db15aa1",
   "metadata": {},
   "outputs": [],
   "source": [
    "# KNN\n",
    "\n",
    "from sklearn.neighbors import KNeighborsRegressor\n",
    "\n",
    "knn = KNeighborsRegressor(n_neighbors=5)\n",
    " \n",
    "knn.fit(x_train, y_train)\n",
    "\n",
    "x_gen = genDataSet(DATA_SIZE * (knn_w/total_w))\n",
    "\n",
    "x_inp.extend(numpy.array(x_gen))\n",
    "y_inp.extend(numpy.array(knn.predict(x_gen)))\n"
   ]
  },
  {
   "cell_type": "code",
   "execution_count": 7,
   "id": "74e068e4",
   "metadata": {},
   "outputs": [
    {
     "data": {
      "text/plain": [
       "291383"
      ]
     },
     "execution_count": 7,
     "metadata": {},
     "output_type": "execute_result"
    }
   ],
   "source": [
    "len(x_inp)"
   ]
  },
  {
   "cell_type": "code",
   "execution_count": 8,
   "id": "75dc2c38",
   "metadata": {},
   "outputs": [],
   "source": [
    "# Random Forest\n",
    "\n",
    "\n",
    "from sklearn.ensemble import RandomForestRegressor\n",
    "\n",
    "RFreg = RandomForestRegressor(n_estimators = 10, random_state = 0)\n",
    "\n",
    "RFreg.fit(x_train,y_train)\n",
    "\n",
    "x_gen = genDataSet(DATA_SIZE * (random_forest_w/total_w))\n",
    "\n",
    "x_inp.extend(numpy.array(x_gen))\n",
    "y_inp.extend(numpy.array(RFreg.predict(x_gen)))\n"
   ]
  },
  {
   "cell_type": "code",
   "execution_count": 9,
   "id": "5a8b20e7",
   "metadata": {},
   "outputs": [
    {
     "data": {
      "text/plain": [
       "416383"
      ]
     },
     "execution_count": 9,
     "metadata": {},
     "output_type": "execute_result"
    }
   ],
   "source": [
    "len(x_inp)"
   ]
  },
  {
   "cell_type": "code",
   "execution_count": 10,
   "id": "5515c89f",
   "metadata": {},
   "outputs": [
    {
     "name": "stderr",
     "output_type": "stream",
     "text": [
      "C:\\Users\\omsin\\AppData\\Local\\Programs\\Python\\Python310\\lib\\site-packages\\xgboost\\compat.py:36: FutureWarning: pandas.Int64Index is deprecated and will be removed from pandas in a future version. Use pandas.Index with the appropriate dtype instead.\n",
      "  from pandas import MultiIndex, Int64Index\n",
      "C:\\Users\\omsin\\AppData\\Local\\Programs\\Python\\Python310\\lib\\site-packages\\xgboost\\data.py:262: FutureWarning: pandas.Int64Index is deprecated and will be removed from pandas in a future version. Use pandas.Index with the appropriate dtype instead.\n",
      "  elif isinstance(data.columns, (pd.Int64Index, pd.RangeIndex)):\n"
     ]
    },
    {
     "name": "stdout",
     "output_type": "stream",
     "text": [
      "[17:07:03] WARNING: C:/Users/Administrator/workspace/xgboost-win64_release_1.5.1/src/objective/regression_obj.cu:188: reg:linear is now deprecated in favor of reg:squarederror.\n"
     ]
    }
   ],
   "source": [
    "# XG Boost\n",
    "\n",
    "\n",
    "import xgboost as xgb\n",
    "\n",
    "xgb_reg = xgb.XGBRegressor(n_estimators=100, objective='reg:linear', seed = 123)\n",
    "\n",
    "# Train the model with train data sets\n",
    "xgb_reg.fit(x_train, y_train)\n",
    "\n",
    "x_gen = genDataSet(DATA_SIZE * (xg_boost_w/total_w))\n",
    "\n",
    "x_inp.extend(numpy.array(x_gen))\n",
    "y_inp.extend(numpy.array(xgb_reg.predict(numpy.array(x_gen))))\n"
   ]
  },
  {
   "cell_type": "code",
   "execution_count": 11,
   "id": "78abd514",
   "metadata": {},
   "outputs": [
    {
     "data": {
      "text/plain": [
       "541383"
      ]
     },
     "execution_count": 11,
     "metadata": {},
     "output_type": "execute_result"
    }
   ],
   "source": [
    "len(x_inp)"
   ]
  },
  {
   "cell_type": "code",
   "execution_count": 12,
   "id": "030787e8",
   "metadata": {},
   "outputs": [],
   "source": [
    "# KBNN\n",
    "\n",
    "import keras\n",
    "from keras.models import Sequential\n",
    "from keras.layers import Dense\n",
    "\n",
    "# Artificial NN\n",
    "\n",
    "classifier = Sequential()\n",
    "\n",
    "# Input Layer\n",
    "classifier.add(Dense(units = 6, activation = 'relu', input_dim = 3))\n",
    "\n",
    "# 1st Hidden Layer\n",
    "classifier.add(Dense(units = 8, activation = 'relu'))\n",
    "\n",
    "# 2nd Hidden Layer\n",
    "classifier.add(Dense(units = 3, activation = 'relu'))\n",
    "\n",
    "# Output Layer\n",
    "classifier.add(Dense(units = 1, activation = 'linear'))"
   ]
  },
  {
   "cell_type": "code",
   "execution_count": null,
   "id": "cdbdf7b0",
   "metadata": {
    "scrolled": true
   },
   "outputs": [
    {
     "name": "stdout",
     "output_type": "stream",
     "text": [
      "Epoch 1/100\n",
      "54139/54139 [==============================] - 29s 528us/step - loss: 15.6841 - accuracy: 0.0000e+00 - val_loss: 13.1433 - val_accuracy: 0.0000e+00\n",
      "Epoch 2/100\n",
      "54139/54139 [==============================] - 29s 530us/step - loss: 7.6184 - accuracy: 0.0000e+00 - val_loss: 11.3625 - val_accuracy: 0.0000e+00\n",
      "Epoch 3/100\n",
      "54139/54139 [==============================] - 29s 542us/step - loss: 3.5330 - accuracy: 0.0000e+00 - val_loss: 15.9954 - val_accuracy: 0.0000e+00\n",
      "Epoch 4/100\n",
      "26625/54139 [=============>................] - ETA: 13s - loss: 2.5314 - accuracy: 0.0000e+00"
     ]
    }
   ],
   "source": [
    "x_inp = numpy.asarray(x_inp).astype(numpy.float32)\n",
    "y_inp = numpy.asarray(y_inp).astype(numpy.float32)\n",
    "\n",
    "# Training\n",
    "\n",
    "classifier.compile(optimizer = 'adam', loss = 'mean_squared_error', metrics = ['accuracy'])\n",
    "\n",
    "history=classifier.fit(x_inp, y_inp, batch_size = 10, epochs = 100, validation_data=(x_test,y_test))"
   ]
  },
  {
   "cell_type": "code",
   "execution_count": 20,
   "id": "f96fcb20",
   "metadata": {},
   "outputs": [
    {
     "data": {
      "text/plain": [
       "array([-0.9589167, -7.9456983, -2.705334 , ..., -3.5660548, -2.5923953,\n",
       "       -2.2690964], dtype=float32)"
      ]
     },
     "execution_count": 20,
     "metadata": {},
     "output_type": "execute_result"
    }
   ],
   "source": [
    "y_inp"
   ]
  },
  {
   "cell_type": "code",
   "execution_count": 21,
   "id": "1f1cab50",
   "metadata": {},
   "outputs": [
    {
     "data": {
      "image/png": "[encoded data removed]",
      "text/plain": [
       "<Figure size 432x288 with 1 Axes>"
      ]
     },
     "metadata": {
      "needs_background": "light"
     },
     "output_type": "display_data"
    },
    {
     "data": {
      "image/png": "[encoded data removed]",
      "text/plain": [
       "<Figure size 432x288 with 1 Axes>"
      ]
     },
     "metadata": {
      "needs_background": "light"
     },
     "output_type": "display_data"
    },
    {
     "data": {
      "image/png": "[encoded data removed]",
      "text/plain": [
       "<Figure size 432x288 with 1 Axes>"
      ]
     },
     "metadata": {
      "needs_background": "light"
     },
     "output_type": "display_data"
    }
   ],
   "source": [
    "# Prediction\n",
    "\n",
    "from sklearn.metrics import mean_squared_error\n",
    "from sklearn.metrics import r2_score\n",
    "import matplotlib.pyplot as plt\n",
    "\n",
    "y_pred = classifier.predict(x_test)\n",
    "mean_squared_error(y_test,y_pred)\n",
    "r2_score(y_test, y_pred)\n",
    "\n",
    "plt.plot(history.history['loss'])\n",
    "plt.title('Model Loss')\n",
    "plt.ylabel('LOSS')\n",
    "plt.xlabel('EPOCH')\n",
    "plt.legend(['train'], loc='upper left')\n",
    "plt.show()\n",
    "\n",
    "plt.plot(history.history['val_loss'])\n",
    "plt.title('Model Validation Loss')\n",
    "plt.ylabel('VAL LOSS')\n",
    "plt.xlabel('EPOCH')\n",
    "plt.legend(['train'], loc='upper left')\n",
    "plt.show()\n",
    "\n",
    "def generatePredictionPlot(y_pred, y_test):\n",
    "    plt.scatter(x=y_test, y=y_pred, c='navy', alpha=0.6)\n",
    "    plt.plot(y_test, y_test,color='cyan')\n",
    "    plt.title('Predicted vs Actual values')\n",
    "    plt.xlabel('Actual values')\n",
    "    plt.ylabel('Predicted values')\n",
    "    plt.show()\n",
    "    \n",
    "generatePredictionPlot(y_pred, y_test)"
   ]
  },
  {
   "cell_type": "code",
   "execution_count": 22,
   "id": "8089312b",
   "metadata": {},
   "outputs": [
    {
     "data": {
      "text/plain": [
       "9.542658277464893"
      ]
     },
     "execution_count": 22,
     "metadata": {},
     "output_type": "execute_result"
    }
   ],
   "source": [
    "mean_squared_error(y_test,y_pred)"
   ]
  },
  {
   "cell_type": "code",
   "execution_count": 23,
   "id": "1c950c4f",
   "metadata": {},
   "outputs": [
    {
     "data": {
      "text/plain": [
       "0.5213430047842952"
      ]
     },
     "execution_count": 23,
     "metadata": {},
     "output_type": "execute_result"
    }
   ],
   "source": [
    "r2_score(y_test, y_pred)"
   ]
  },
  {
   "cell_type": "code",
   "execution_count": null,
   "id": "8c6c3a52",
   "metadata": {},
   "outputs": [],
   "source": []
  }
 ],
 "metadata": {
  "kernelspec": {
   "display_name": "Python 3 (ipykernel)",
   "language": "python",
   "name": "python3"
  },
  "language_info": {
   "codemirror_mode": {
    "name": "ipython",
    "version": 3
   },
   "file_extension": ".py",
   "mimetype": "text/x-python",
   "name": "python",
   "nbconvert_exporter": "python",
   "pygments_lexer": "ipython3",
   "version": "3.10.2"
  }
 },
 "nbformat": 4,
 "nbformat_minor": 5
}
