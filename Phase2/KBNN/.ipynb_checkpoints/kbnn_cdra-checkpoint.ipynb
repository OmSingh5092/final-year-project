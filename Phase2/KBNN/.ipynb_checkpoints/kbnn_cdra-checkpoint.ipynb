{
 "cells": [
  {
   "cell_type": "code",
   "execution_count": 4,
   "id": "4b05c8b8",
   "metadata": {},
   "outputs": [],
   "source": [
    "import pandas as pd\n",
    "from sklearn.model_selection import train_test_split\n",
    "import numpy\n",
    "from sklearn.metrics import mean_squared_error\n",
    "from sklearn.metrics import r2_score"
   ]
  },
  {
   "cell_type": "code",
   "execution_count": 5,
   "id": "64011305",
   "metadata": {},
   "outputs": [],
   "source": [
    "dataset = pd.read_csv('../../DataSets/data_set_dra_updated.csv')\n",
    "\n",
    "x = pd.DataFrame(dataset.iloc[:, 0:6].values)\n",
    "y = dataset.iloc[:, 6].values\n",
    "\n",
    "x_train, x_test, y_train, y_test = train_test_split(x, y, test_size = 0.2, random_state = 123)\n",
    "\n",
    "x_inp = [];\n",
    "y_inp = [];\n",
    "\n",
    "\n",
    "x_inp.extend(numpy.array(x_train))\n",
    "\n",
    "y_inp.extend(numpy.array(y_train))\n",
    "\n",
    "DATA_SIZE = 400000;\n",
    "\n",
    "decision_tree_w = 10;\n",
    "random_forest_w = 10;\n",
    "knn_w = 10;\n",
    "xg_boost_w = 10;\n",
    "\n",
    "total_w = decision_tree_w + random_forest_w + knn_w + xg_boost_w;\n",
    "\n",
    "def randomSample(low, high, size):\n",
    "    rand_rad = numpy.random.uniform(low, high, size)\n",
    "    for i in range(0, rand_rad.size):\n",
    "        rand_rad[i] = round(rand_rad[i], 2)\n",
    "    return rand_rad\n",
    "\n",
    "def genDataSet (size):\n",
    "    s = int(size);\n",
    "    rand_rad = randomSample(8, 10, s)\n",
    "    rand_height = randomSample(13, 15, s)\n",
    "    rand_freq = randomSample(3, 6, s)\n",
    "    rand_a = randomSample(6.3, 6.6, s)\n",
    "    rand_b = randomSample(5.3, 5.6, s)\n",
    "    rand_d = randomSample(2.9, 3.1, s)\n",
    "\n",
    "    rand_x = []\n",
    "    for i in range(0, s):\n",
    "        rand_x.append([rand_freq[i], rand_a[i], rand_b[i], rand_d[i], rand_height[i], rand_rad[i]])\n",
    "    return rand_x\n",
    "    \n",
    "    \n"
   ]
  },
  {
   "cell_type": "code",
   "execution_count": 6,
   "id": "b3db4ccc",
   "metadata": {},
   "outputs": [
    {
     "data": {
      "text/plain": [
       "0.4263142138706829"
      ]
     },
     "execution_count": 6,
     "metadata": {},
     "output_type": "execute_result"
    }
   ],
   "source": [
    "# Decision Tree\n",
    "\n",
    "from sklearn.tree import DecisionTreeRegressor\n",
    "DTReg = DecisionTreeRegressor()\n",
    "DTReg.fit(x_train,y_train)\n",
    "\n",
    "x_gen = genDataSet(DATA_SIZE * (decision_tree_w/total_w))\n",
    "\n",
    "x_inp.extend(numpy.array(x_gen))\n",
    "y_inp.extend(numpy.array(DTReg.predict(x_gen)))\n",
    "\n",
    "mean_squared_error(y_test, DTReg.predict(x_test))"
   ]
  },
  {
   "cell_type": "code",
   "execution_count": 7,
   "id": "0db15aa1",
   "metadata": {},
   "outputs": [
    {
     "data": {
      "text/plain": [
       "0.25909422727251274"
      ]
     },
     "execution_count": 7,
     "metadata": {},
     "output_type": "execute_result"
    }
   ],
   "source": [
    "# KNN\n",
    "\n",
    "from sklearn.neighbors import KNeighborsRegressor\n",
    "\n",
    "knn = KNeighborsRegressor(n_neighbors=5)\n",
    " \n",
    "knn.fit(x_train, y_train)\n",
    "\n",
    "x_gen = genDataSet(DATA_SIZE * (knn_w/total_w))\n",
    "\n",
    "x_inp.extend(numpy.array(x_gen))\n",
    "y_inp.extend(numpy.array(knn.predict(x_gen)))\n",
    "\n",
    "mean_squared_error(y_test, knn.predict(x_test))\n"
   ]
  },
  {
   "cell_type": "code",
   "execution_count": 8,
   "id": "75dc2c38",
   "metadata": {},
   "outputs": [
    {
     "data": {
      "text/plain": [
       "0.3177233240735776"
      ]
     },
     "execution_count": 8,
     "metadata": {},
     "output_type": "execute_result"
    }
   ],
   "source": [
    "# Random Forest\n",
    "\n",
    "\n",
    "from sklearn.ensemble import RandomForestRegressor\n",
    "\n",
    "RFreg = RandomForestRegressor(n_estimators = 10, random_state = 0)\n",
    "\n",
    "RFreg.fit(x_train,y_train)\n",
    "\n",
    "x_gen = genDataSet(DATA_SIZE * (random_forest_w/total_w))\n",
    "\n",
    "x_inp.extend(numpy.array(x_gen))\n",
    "y_inp.extend(numpy.array(RFreg.predict(x_gen)))\n",
    "\n",
    "mean_squared_error(y_test, RFreg.predict(x_test))\n"
   ]
  },
  {
   "cell_type": "code",
   "execution_count": 11,
   "id": "5515c89f",
   "metadata": {},
   "outputs": [
    {
     "name": "stdout",
     "output_type": "stream",
     "text": [
      "[11:00:18] WARNING: C:/Users/Administrator/workspace/xgboost-win64_release_1.6.0/src/objective/regression_obj.cu:203: reg:linear is now deprecated in favor of reg:squarederror.\n"
     ]
    },
    {
     "data": {
      "text/plain": [
       "2.493732596997495"
      ]
     },
     "execution_count": 11,
     "metadata": {},
     "output_type": "execute_result"
    }
   ],
   "source": [
    "# XG Boost\n",
    "\n",
    "\n",
    "import xgboost as xgb\n",
    "\n",
    "xgb_reg = xgb.XGBRegressor(n_estimators=100, objective='reg:linear', seed = 123)\n",
    "\n",
    "# Train the model with train data sets\n",
    "xgb_reg.fit(x_train, y_train)\n",
    "\n",
    "x_gen = genDataSet(DATA_SIZE * (xg_boost_w/total_w))\n",
    "\n",
    "x_inp.extend(numpy.array(x_gen))\n",
    "y_inp.extend(numpy.array(xgb_reg.predict(numpy.array(x_gen))))\n",
    "\n",
    "mean_squared_error(y_test, xgb_reg.predict(x_test))\n"
   ]
  },
  {
   "cell_type": "code",
   "execution_count": 13,
   "id": "030787e8",
   "metadata": {},
   "outputs": [],
   "source": [
    "# KBNN\n",
    "\n",
    "import keras\n",
    "from keras.models import Sequential\n",
    "from keras.layers import Dense\n",
    "\n",
    "# Artificial NN\n",
    "\n",
    "classifier = Sequential()\n",
    "\n",
    "# Input Layer\n",
    "classifier.add(Dense(units = 8, activation = 'relu', input_dim = 6))\n",
    "\n",
    "# 1st Hidden Layer\n",
    "classifier.add(Dense(units = 12, activation = 'sigmoid'))\n",
    "\n",
    "# 2nd Hidden Layer\n",
    "classifier.add(Dense(units = 10, activation = 'sigmoid'))\n",
    "\n",
    "# 3rd Hidden Layer\n",
    "classifier.add(Dense(units = 8, activation = 'sigmoid'))\n",
    "\n",
    "# Output Layer\n",
    "classifier.add(Dense(units = 1, activation = 'linear'))"
   ]
  },
  {
   "cell_type": "code",
   "execution_count": 14,
   "id": "cdbdf7b0",
   "metadata": {
    "scrolled": true
   },
   "outputs": [
    {
     "name": "stdout",
     "output_type": "stream",
     "text": [
      "Epoch 1/100\n",
      "53848/53848 [==============================] - 28s 511us/step - loss: 11.1568 - accuracy: 0.0000e+00 - val_loss: 32.1420 - val_accuracy: 0.0000e+00\n",
      "Epoch 2/100\n",
      "53848/53848 [==============================] - 27s 501us/step - loss: 8.6867 - accuracy: 0.0000e+00 - val_loss: 31.6162 - val_accuracy: 0.0000e+00\n",
      "Epoch 3/100\n",
      "53848/53848 [==============================] - 27s 500us/step - loss: 8.3506 - accuracy: 0.0000e+00 - val_loss: 32.2914 - val_accuracy: 0.0000e+00\n",
      "Epoch 4/100\n",
      "53848/53848 [==============================] - 29s 546us/step - loss: 8.2656 - accuracy: 0.0000e+00 - val_loss: 31.0937 - val_accuracy: 0.0000e+00\n",
      "Epoch 5/100\n",
      "53848/53848 [==============================] - 28s 517us/step - loss: 8.2103 - accuracy: 0.0000e+00 - val_loss: 30.5077 - val_accuracy: 0.0000e+00\n",
      "Epoch 6/100\n",
      "53848/53848 [==============================] - 28s 515us/step - loss: 8.0939 - accuracy: 0.0000e+00 - val_loss: 31.8207 - val_accuracy: 0.0000e+00\n",
      "Epoch 7/100\n",
      "53848/53848 [==============================] - 27s 502us/step - loss: 7.9289 - accuracy: 0.0000e+00 - val_loss: 29.8927 - val_accuracy: 0.0000e+00\n",
      "Epoch 8/100\n",
      "53848/53848 [==============================] - 27s 507us/step - loss: 7.7131 - accuracy: 0.0000e+00 - val_loss: 28.3466 - val_accuracy: 0.0000e+00\n",
      "Epoch 9/100\n",
      "53848/53848 [==============================] - 26s 489us/step - loss: 7.1444 - accuracy: 0.0000e+00 - val_loss: 24.4645 - val_accuracy: 0.0000e+00\n",
      "Epoch 10/100\n",
      "53848/53848 [==============================] - 27s 507us/step - loss: 6.6276 - accuracy: 0.0000e+00 - val_loss: 23.1563 - val_accuracy: 0.0000e+00\n",
      "Epoch 11/100\n",
      "53848/53848 [==============================] - 28s 525us/step - loss: 6.3497 - accuracy: 0.0000e+00 - val_loss: 22.1604 - val_accuracy: 0.0000e+00\n",
      "Epoch 12/100\n",
      "53848/53848 [==============================] - 28s 523us/step - loss: 6.1962 - accuracy: 0.0000e+00 - val_loss: 21.3534 - val_accuracy: 0.0000e+00\n",
      "Epoch 13/100\n",
      "53848/53848 [==============================] - 28s 512us/step - loss: 6.0856 - accuracy: 0.0000e+00 - val_loss: 22.8067 - val_accuracy: 0.0000e+00\n",
      "Epoch 14/100\n",
      "53848/53848 [==============================] - 27s 511us/step - loss: 5.9423 - accuracy: 0.0000e+00 - val_loss: 23.1399 - val_accuracy: 0.0000e+00\n",
      "Epoch 15/100\n",
      "53848/53848 [==============================] - 27s 497us/step - loss: 5.8084 - accuracy: 0.0000e+00 - val_loss: 21.5322 - val_accuracy: 0.0000e+00\n",
      "Epoch 16/100\n",
      "53848/53848 [==============================] - 27s 502us/step - loss: 5.7085 - accuracy: 0.0000e+00 - val_loss: 19.9017 - val_accuracy: 0.0000e+00\n",
      "Epoch 17/100\n",
      "53848/53848 [==============================] - 34s 630us/step - loss: 5.6181 - accuracy: 0.0000e+00 - val_loss: 22.8124 - val_accuracy: 0.0000e+00\n",
      "Epoch 18/100\n",
      "53848/53848 [==============================] - 32s 587us/step - loss: 5.5324 - accuracy: 0.0000e+00 - val_loss: 19.7844 - val_accuracy: 0.0000e+00\n",
      "Epoch 19/100\n",
      "53848/53848 [==============================] - 28s 525us/step - loss: 5.4141 - accuracy: 0.0000e+00 - val_loss: 21.9591 - val_accuracy: 0.0000e+00\n",
      "Epoch 20/100\n",
      "53848/53848 [==============================] - 30s 548us/step - loss: 5.3395 - accuracy: 0.0000e+00 - val_loss: 27.1864 - val_accuracy: 0.0000e+00\n",
      "Epoch 21/100\n",
      "53848/53848 [==============================] - 27s 509us/step - loss: 5.1940 - accuracy: 0.0000e+00 - val_loss: 18.2831 - val_accuracy: 0.0000e+00\n",
      "Epoch 22/100\n",
      "53848/53848 [==============================] - 28s 527us/step - loss: 5.1177 - accuracy: 0.0000e+00 - val_loss: 17.8937 - val_accuracy: 0.0000e+00\n",
      "Epoch 23/100\n",
      "53848/53848 [==============================] - 27s 499us/step - loss: 5.0425 - accuracy: 0.0000e+00 - val_loss: 19.3249 - val_accuracy: 0.0000e+00\n",
      "Epoch 24/100\n",
      "53848/53848 [==============================] - 26s 491us/step - loss: 5.9901 - accuracy: 0.0000e+00 - val_loss: 26.9354 - val_accuracy: 0.0000e+00\n",
      "Epoch 25/100\n",
      "53848/53848 [==============================] - 27s 498us/step - loss: 6.3594 - accuracy: 0.0000e+00 - val_loss: 19.5565 - val_accuracy: 0.0000e+00\n",
      "Epoch 26/100\n",
      "53848/53848 [==============================] - 27s 499us/step - loss: 6.4000 - accuracy: 0.0000e+00 - val_loss: 23.1846 - val_accuracy: 0.0000e+00\n",
      "Epoch 27/100\n",
      "53848/53848 [==============================] - 27s 494us/step - loss: 5.5740 - accuracy: 0.0000e+00 - val_loss: 20.4058 - val_accuracy: 0.0000e+00\n",
      "Epoch 28/100\n",
      "53848/53848 [==============================] - 26s 492us/step - loss: 5.2001 - accuracy: 0.0000e+00 - val_loss: 17.8460 - val_accuracy: 0.0000e+00\n",
      "Epoch 29/100\n",
      "53848/53848 [==============================] - 27s 493us/step - loss: 5.0606 - accuracy: 0.0000e+00 - val_loss: 17.9697 - val_accuracy: 0.0000e+00\n",
      "Epoch 30/100\n",
      "53848/53848 [==============================] - 31s 578us/step - loss: 6.0910 - accuracy: 0.0000e+00 - val_loss: 33.4494 - val_accuracy: 0.0000e+00\n",
      "Epoch 31/100\n",
      "53848/53848 [==============================] - 49s 912us/step - loss: 7.0494 - accuracy: 0.0000e+00 - val_loss: 23.5766 - val_accuracy: 0.0000e+00\n",
      "Epoch 32/100\n",
      "53848/53848 [==============================] - 50s 926us/step - loss: 6.2266 - accuracy: 0.0000e+00 - val_loss: 33.4697 - val_accuracy: 0.0000e+00\n",
      "Epoch 33/100\n",
      "53848/53848 [==============================] - 58s 1ms/step - loss: 7.2178 - accuracy: 0.0000e+00 - val_loss: 25.7386 - val_accuracy: 0.0000e+00\n",
      "Epoch 34/100\n",
      "53848/53848 [==============================] - 3834s 71ms/step - loss: 6.3154 - accuracy: 0.0000e+00 - val_loss: 19.0425 - val_accuracy: 0.0000e+00\n",
      "Epoch 35/100\n",
      "53848/53848 [==============================] - 29s 541us/step - loss: 5.7597 - accuracy: 0.0000e+00 - val_loss: 22.9936 - val_accuracy: 0.0000e+00\n",
      "Epoch 36/100\n",
      "53848/53848 [==============================] - 27s 505us/step - loss: 5.6441 - accuracy: 0.0000e+00 - val_loss: 23.3980 - val_accuracy: 0.0000e+00\n",
      "Epoch 37/100\n",
      "53848/53848 [==============================] - 27s 492us/step - loss: 6.7711 - accuracy: 0.0000e+00 - val_loss: 31.6851 - val_accuracy: 0.0000e+00\n",
      "Epoch 38/100\n",
      "53848/53848 [==============================] - 27s 498us/step - loss: 6.7314 - accuracy: 0.0000e+00 - val_loss: 27.6552 - val_accuracy: 0.0000e+00\n",
      "Epoch 39/100\n",
      "53848/53848 [==============================] - 26s 483us/step - loss: 6.4139 - accuracy: 0.0000e+00 - val_loss: 23.2992 - val_accuracy: 0.0000e+00\n",
      "Epoch 40/100\n",
      "53848/53848 [==============================] - 26s 486us/step - loss: 7.1952 - accuracy: 0.0000e+00 - val_loss: 33.4945 - val_accuracy: 0.0000e+00\n",
      "Epoch 41/100\n",
      "53848/53848 [==============================] - 27s 504us/step - loss: 6.6707 - accuracy: 0.0000e+00 - val_loss: 29.5010 - val_accuracy: 0.0000e+00\n",
      "Epoch 42/100\n",
      "53848/53848 [==============================] - 27s 498us/step - loss: 6.8728 - accuracy: 0.0000e+00 - val_loss: 22.5680 - val_accuracy: 0.0000e+00\n",
      "Epoch 43/100\n",
      "53848/53848 [==============================] - 27s 494us/step - loss: 7.1961 - accuracy: 0.0000e+00 - val_loss: 33.4936 - val_accuracy: 0.0000e+00\n",
      "Epoch 44/100\n",
      "53848/53848 [==============================] - 27s 492us/step - loss: 7.2081 - accuracy: 0.0000e+00 - val_loss: 21.5633 - val_accuracy: 0.0000e+00\n",
      "Epoch 45/100\n",
      "53848/53848 [==============================] - 27s 503us/step - loss: 5.2601 - accuracy: 0.0000e+00 - val_loss: 17.0136 - val_accuracy: 0.0000e+00\n",
      "Epoch 46/100\n",
      "53848/53848 [==============================] - 27s 504us/step - loss: 5.1828 - accuracy: 0.0000e+00 - val_loss: 15.5604 - val_accuracy: 0.0000e+00\n",
      "Epoch 47/100\n",
      "53848/53848 [==============================] - 27s 501us/step - loss: 4.5990 - accuracy: 0.0000e+00 - val_loss: 17.6462 - val_accuracy: 0.0000e+00\n",
      "Epoch 48/100\n",
      "53848/53848 [==============================] - 27s 501us/step - loss: 4.6009 - accuracy: 0.0000e+00 - val_loss: 16.4484 - val_accuracy: 0.0000e+00\n",
      "Epoch 49/100\n",
      "53848/53848 [==============================] - 27s 500us/step - loss: 4.4193 - accuracy: 0.0000e+00 - val_loss: 15.1141 - val_accuracy: 0.0000e+00\n",
      "Epoch 50/100\n",
      "53848/53848 [==============================] - 27s 495us/step - loss: 4.2926 - accuracy: 0.0000e+00 - val_loss: 17.7503 - val_accuracy: 0.0000e+00\n",
      "Epoch 51/100\n",
      "53848/53848 [==============================] - 28s 513us/step - loss: 4.1634 - accuracy: 0.0000e+00 - val_loss: 13.2364 - val_accuracy: 0.0000e+00\n",
      "Epoch 52/100\n"
     ]
    },
    {
     "name": "stdout",
     "output_type": "stream",
     "text": [
      "53848/53848 [==============================] - 27s 509us/step - loss: 5.5322 - accuracy: 0.0000e+00 - val_loss: 21.4626 - val_accuracy: 0.0000e+00\n",
      "Epoch 53/100\n",
      "53848/53848 [==============================] - 27s 495us/step - loss: 7.3340 - accuracy: 0.0000e+00 - val_loss: 33.4817 - val_accuracy: 0.0000e+00\n",
      "Epoch 54/100\n",
      "53848/53848 [==============================] - 27s 495us/step - loss: 6.5430 - accuracy: 0.0000e+00 - val_loss: 19.6660 - val_accuracy: 0.0000e+00\n",
      "Epoch 55/100\n",
      "53848/53848 [==============================] - 27s 494us/step - loss: 4.9749 - accuracy: 0.0000e+00 - val_loss: 16.8497 - val_accuracy: 0.0000e+00\n",
      "Epoch 56/100\n",
      "53848/53848 [==============================] - 27s 500us/step - loss: 4.6139 - accuracy: 0.0000e+00 - val_loss: 15.7636 - val_accuracy: 0.0000e+00\n",
      "Epoch 57/100\n",
      "53848/53848 [==============================] - 26s 492us/step - loss: 4.4315 - accuracy: 0.0000e+00 - val_loss: 14.8566 - val_accuracy: 0.0000e+00\n",
      "Epoch 58/100\n",
      "53848/53848 [==============================] - 27s 494us/step - loss: 5.9441 - accuracy: 0.0000e+00 - val_loss: 29.7986 - val_accuracy: 0.0000e+00\n",
      "Epoch 59/100\n",
      "53848/53848 [==============================] - 27s 493us/step - loss: 6.1323 - accuracy: 0.0000e+00 - val_loss: 21.0336 - val_accuracy: 0.0000e+00\n",
      "Epoch 60/100\n",
      "53848/53848 [==============================] - 27s 494us/step - loss: 5.9325 - accuracy: 0.0000e+00 - val_loss: 21.0813 - val_accuracy: 0.0000e+00\n",
      "Epoch 61/100\n",
      "53848/53848 [==============================] - 27s 498us/step - loss: 5.6467 - accuracy: 0.0000e+00 - val_loss: 21.0560 - val_accuracy: 0.0000e+00\n",
      "Epoch 62/100\n",
      "53848/53848 [==============================] - 26s 488us/step - loss: 4.9896 - accuracy: 0.0000e+00 - val_loss: 19.4893 - val_accuracy: 0.0000e+00\n",
      "Epoch 63/100\n",
      "53848/53848 [==============================] - 26s 488us/step - loss: 5.7051 - accuracy: 0.0000e+00 - val_loss: 18.9219 - val_accuracy: 0.0000e+00\n",
      "Epoch 64/100\n",
      "53848/53848 [==============================] - 26s 483us/step - loss: 4.8299 - accuracy: 0.0000e+00 - val_loss: 19.1399 - val_accuracy: 0.0000e+00\n",
      "Epoch 65/100\n",
      "53848/53848 [==============================] - 26s 484us/step - loss: 5.6175 - accuracy: 0.0000e+00 - val_loss: 22.5152 - val_accuracy: 0.0000e+00\n",
      "Epoch 66/100\n",
      "53848/53848 [==============================] - 26s 486us/step - loss: 6.2906 - accuracy: 0.0000e+00 - val_loss: 23.2721 - val_accuracy: 0.0000e+00\n",
      "Epoch 67/100\n",
      "53848/53848 [==============================] - 26s 488us/step - loss: 6.1930 - accuracy: 0.0000e+00 - val_loss: 23.1115 - val_accuracy: 0.0000e+00\n",
      "Epoch 68/100\n",
      "53848/53848 [==============================] - 26s 488us/step - loss: 6.1356 - accuracy: 0.0000e+00 - val_loss: 22.8950 - val_accuracy: 0.0000e+00\n",
      "Epoch 69/100\n",
      "53848/53848 [==============================] - 26s 488us/step - loss: 5.1504 - accuracy: 0.0000e+00 - val_loss: 17.7375 - val_accuracy: 0.0000e+00\n",
      "Epoch 70/100\n",
      "53848/53848 [==============================] - 26s 488us/step - loss: 6.4131 - accuracy: 0.0000e+00 - val_loss: 25.7601 - val_accuracy: 0.0000e+00\n",
      "Epoch 71/100\n",
      "53848/53848 [==============================] - 30s 552us/step - loss: 6.1327 - accuracy: 0.0000e+00 - val_loss: 23.3581 - val_accuracy: 0.0000e+00\n",
      "Epoch 72/100\n",
      "53848/53848 [==============================] - 27s 501us/step - loss: 5.4898 - accuracy: 0.0000e+00 - val_loss: 22.4767 - val_accuracy: 0.0000e+00\n",
      "Epoch 73/100\n",
      "53848/53848 [==============================] - 28s 512us/step - loss: 6.6463 - accuracy: 0.0000e+00 - val_loss: 31.7297 - val_accuracy: 0.0000e+00\n",
      "Epoch 74/100\n",
      "53848/53848 [==============================] - 27s 501us/step - loss: 6.2017 - accuracy: 0.0000e+00 - val_loss: 19.9030 - val_accuracy: 0.0000e+00\n",
      "Epoch 75/100\n",
      "53848/53848 [==============================] - 27s 501us/step - loss: 6.8660 - accuracy: 0.0000e+00 - val_loss: 30.1159 - val_accuracy: 0.0000e+00\n",
      "Epoch 76/100\n",
      "53848/53848 [==============================] - 27s 496us/step - loss: 6.2311 - accuracy: 0.0000e+00 - val_loss: 19.9372 - val_accuracy: 0.0000e+00\n",
      "Epoch 77/100\n",
      "53848/53848 [==============================] - 27s 495us/step - loss: 4.7111 - accuracy: 0.0000e+00 - val_loss: 16.8112 - val_accuracy: 0.0000e+00\n",
      "Epoch 78/100\n",
      "53848/53848 [==============================] - 27s 502us/step - loss: 4.4199 - accuracy: 0.0000e+00 - val_loss: 14.7587 - val_accuracy: 0.0000e+00\n",
      "Epoch 79/100\n",
      "53848/53848 [==============================] - 27s 505us/step - loss: 4.3694 - accuracy: 0.0000e+00 - val_loss: 22.8188 - val_accuracy: 0.0000e+00\n",
      "Epoch 80/100\n",
      "53848/53848 [==============================] - 27s 505us/step - loss: 4.7765 - accuracy: 0.0000e+00 - val_loss: 15.4099 - val_accuracy: 0.0000e+00\n",
      "Epoch 81/100\n",
      "53848/53848 [==============================] - 27s 500us/step - loss: 5.2050 - accuracy: 0.0000e+00 - val_loss: 21.0799 - val_accuracy: 0.0000e+00\n",
      "Epoch 82/100\n",
      "53848/53848 [==============================] - 27s 500us/step - loss: 5.1263 - accuracy: 0.0000e+00 - val_loss: 17.3659 - val_accuracy: 0.0000e+00\n",
      "Epoch 83/100\n",
      "53848/53848 [==============================] - 27s 502us/step - loss: 5.5540 - accuracy: 0.0000e+00 - val_loss: 28.0910 - val_accuracy: 0.0000e+00\n",
      "Epoch 84/100\n",
      "53848/53848 [==============================] - 27s 502us/step - loss: 6.7144 - accuracy: 0.0000e+00 - val_loss: 38.5809 - val_accuracy: 0.0000e+00\n",
      "Epoch 85/100\n",
      "53848/53848 [==============================] - 27s 503us/step - loss: 6.6042 - accuracy: 0.0000e+00 - val_loss: 38.1696 - val_accuracy: 0.0000e+00\n",
      "Epoch 86/100\n",
      "53848/53848 [==============================] - 27s 502us/step - loss: 6.8991 - accuracy: 0.0000e+00 - val_loss: 25.0633 - val_accuracy: 0.0000e+00\n",
      "Epoch 87/100\n",
      "53848/53848 [==============================] - 27s 501us/step - loss: 6.8402 - accuracy: 0.0000e+00 - val_loss: 28.4326 - val_accuracy: 0.0000e+00\n",
      "Epoch 88/100\n",
      "53848/53848 [==============================] - 27s 500us/step - loss: 6.6942 - accuracy: 0.0000e+00 - val_loss: 24.3973 - val_accuracy: 0.0000e+00\n",
      "Epoch 89/100\n",
      "53848/53848 [==============================] - 27s 501us/step - loss: 6.7113 - accuracy: 0.0000e+00 - val_loss: 30.9173 - val_accuracy: 0.0000e+00\n",
      "Epoch 90/100\n",
      "53848/53848 [==============================] - 27s 500us/step - loss: 6.7504 - accuracy: 0.0000e+00 - val_loss: 24.8248 - val_accuracy: 0.0000e+00\n",
      "Epoch 91/100\n",
      "53848/53848 [==============================] - 27s 500us/step - loss: 6.6429 - accuracy: 0.0000e+00 - val_loss: 24.2472 - val_accuracy: 0.0000e+00\n",
      "Epoch 92/100\n",
      "53848/53848 [==============================] - 27s 503us/step - loss: 6.6308 - accuracy: 0.0000e+00 - val_loss: 24.2993 - val_accuracy: 0.0000e+00\n",
      "Epoch 93/100\n",
      "53848/53848 [==============================] - 27s 501us/step - loss: 6.6037 - accuracy: 0.0000e+00 - val_loss: 24.9550 - val_accuracy: 0.0000e+00\n",
      "Epoch 94/100\n",
      "53848/53848 [==============================] - 27s 503us/step - loss: 6.5588 - accuracy: 0.0000e+00 - val_loss: 24.9849 - val_accuracy: 0.0000e+00\n",
      "Epoch 95/100\n",
      "53848/53848 [==============================] - 27s 500us/step - loss: 6.5858 - accuracy: 0.0000e+00 - val_loss: 24.4150 - val_accuracy: 0.0000e+00\n",
      "Epoch 96/100\n",
      "53848/53848 [==============================] - 27s 502us/step - loss: 6.6046 - accuracy: 0.0000e+00 - val_loss: 25.5685 - val_accuracy: 0.0000e+00\n",
      "Epoch 97/100\n",
      "53848/53848 [==============================] - 27s 499us/step - loss: 5.9447 - accuracy: 0.0000e+00 - val_loss: 17.8908 - val_accuracy: 0.0000e+00\n",
      "Epoch 98/100\n",
      "53848/53848 [==============================] - 27s 503us/step - loss: 4.8144 - accuracy: 0.0000e+00 - val_loss: 16.8986 - val_accuracy: 0.0000e+00\n",
      "Epoch 99/100\n",
      "53848/53848 [==============================] - 27s 501us/step - loss: 6.2316 - accuracy: 0.0000e+00 - val_loss: 24.3696 - val_accuracy: 0.0000e+00\n",
      "Epoch 100/100\n",
      "53848/53848 [==============================] - 27s 501us/step - loss: 6.7664 - accuracy: 0.0000e+00 - val_loss: 24.3469 - val_accuracy: 0.0000e+00\n"
     ]
    }
   ],
   "source": [
    "x_inp = numpy.asarray(x_inp).astype(numpy.float32)\n",
    "y_inp = numpy.asarray(y_inp).astype(numpy.float32)\n",
    "\n",
    "# Training\n",
    "\n",
    "classifier.compile(optimizer = 'adam', loss = 'mean_squared_error', metrics = ['accuracy'])\n",
    "\n",
    "history=classifier.fit(x_inp, y_inp, batch_size = 10, epochs = 100, validation_data=(x_test,y_test))"
   ]
  },
  {
   "cell_type": "code",
   "execution_count": 15,
   "id": "f96fcb20",
   "metadata": {},
   "outputs": [
    {
     "data": {
      "text/plain": [
       "array([ -4.3333945,  -4.7895775,  -4.9850016, ..., -11.883034 ,\n",
       "       -13.281231 , -12.17808  ], dtype=float32)"
      ]
     },
     "execution_count": 15,
     "metadata": {},
     "output_type": "execute_result"
    }
   ],
   "source": [
    "y_inp"
   ]
  },
  {
   "cell_type": "code",
   "execution_count": 16,
   "id": "1f1cab50",
   "metadata": {},
   "outputs": [
    {
     "data": {
      "image/png": "[encoded data removed]",
      "text/plain": [
       "<Figure size 432x288 with 1 Axes>"
      ]
     },
     "metadata": {
      "needs_background": "light"
     },
     "output_type": "display_data"
    },
    {
     "data": {
      "image/png": "[encoded data removed]",
      "text/plain": [
       "<Figure size 432x288 with 1 Axes>"
      ]
     },
     "metadata": {
      "needs_background": "light"
     },
     "output_type": "display_data"
    },
    {
     "data": {
      "image/png": "[encoded data removed]",
      "text/plain": [
       "<Figure size 432x288 with 1 Axes>"
      ]
     },
     "metadata": {
      "needs_background": "light"
     },
     "output_type": "display_data"
    }
   ],
   "source": [
    "# Prediction\n",
    "import matplotlib.pyplot as plt\n",
    "\n",
    "y_pred = classifier.predict(x_test)\n",
    "mean_squared_error(y_test,y_pred)\n",
    "r2_score(y_test, y_pred)\n",
    "\n",
    "plt.plot(history.history['loss'])\n",
    "plt.title('Model Loss')\n",
    "plt.ylabel('LOSS')\n",
    "plt.xlabel('EPOCH')\n",
    "plt.legend(['train'], loc='upper left')\n",
    "plt.show()\n",
    "\n",
    "plt.plot(history.history['val_loss'])\n",
    "plt.title('Model Validation Loss')\n",
    "plt.ylabel('VAL LOSS')\n",
    "plt.xlabel('EPOCH')\n",
    "plt.legend(['train'], loc='upper left')\n",
    "plt.show()\n",
    "\n",
    "def generatePredictionPlot(y_pred, y_test):\n",
    "    plt.scatter(x=y_test, y=y_pred, c='navy', alpha=0.6)\n",
    "    plt.plot(y_test, y_test,color='cyan')\n",
    "    plt.title('Predicted vs Actual values')\n",
    "    plt.xlabel('Actual values')\n",
    "    plt.ylabel('Predicted values')\n",
    "    plt.show()\n",
    "    \n",
    "generatePredictionPlot(y_pred, y_test)"
   ]
  },
  {
   "cell_type": "code",
   "execution_count": 17,
   "id": "8089312b",
   "metadata": {},
   "outputs": [
    {
     "data": {
      "text/plain": [
       "24.346902201589742"
      ]
     },
     "execution_count": 17,
     "metadata": {},
     "output_type": "execute_result"
    }
   ],
   "source": [
    "mean_squared_error(y_test,y_pred)"
   ]
  },
  {
   "cell_type": "code",
   "execution_count": 18,
   "id": "1c950c4f",
   "metadata": {},
   "outputs": [
    {
     "data": {
      "text/plain": [
       "0.27310082467964714"
      ]
     },
     "execution_count": 18,
     "metadata": {},
     "output_type": "execute_result"
    }
   ],
   "source": [
    "r2_score(y_test, y_pred)"
   ]
  },
  {
   "cell_type": "code",
   "execution_count": null,
   "id": "8c6c3a52",
   "metadata": {},
   "outputs": [],
   "source": []
  },
  {
   "cell_type": "code",
   "execution_count": null,
   "id": "650d862c",
   "metadata": {},
   "outputs": [],
   "source": []
  }
 ],
 "metadata": {
  "kernelspec": {
   "display_name": "Python 3 (ipykernel)",
   "language": "python",
   "name": "python3"
  },
  "language_info": {
   "codemirror_mode": {
    "name": "ipython",
    "version": 3
   },
   "file_extension": ".py",
   "mimetype": "text/x-python",
   "name": "python",
   "nbconvert_exporter": "python",
   "pygments_lexer": "ipython3",
   "version": "3.9.12"
  }
 },
 "nbformat": 4,
 "nbformat_minor": 5
}
