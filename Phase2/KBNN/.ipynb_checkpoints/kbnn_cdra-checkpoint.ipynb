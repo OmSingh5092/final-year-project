{
 "cells": [
  {
   "cell_type": "code",
   "execution_count": 1,
   "id": "4b05c8b8",
   "metadata": {},
   "outputs": [],
   "source": [
    "import pandas as pd\n",
    "from sklearn.model_selection import train_test_split\n",
    "import numpy\n",
    "from sklearn.metrics import mean_squared_error\n",
    "from sklearn.metrics import r2_score"
   ]
  },
  {
   "cell_type": "code",
   "execution_count": 2,
   "id": "64011305",
   "metadata": {},
   "outputs": [],
   "source": [
    "dataset = pd.read_csv('../../Phase1/DataSets/data_set.csv')\n",
    "\n",
    "x = pd.DataFrame(dataset.iloc[:, 0:3].values)\n",
    "y = dataset.iloc[:, 3].values\n",
    "\n",
    "x_train, x_test, y_train, y_test = train_test_split(x, y, test_size = 0.2, random_state = 123)\n",
    "\n",
    "x_inp = [];\n",
    "y_inp = [];\n",
    "\n",
    "\n",
    "x_inp.extend(numpy.array(x_train))\n",
    "\n",
    "y_inp.extend(numpy.array(y_train))\n",
    "\n",
    "DATA_SIZE = 400000;\n",
    "\n",
    "decision_tree_w = 10;\n",
    "random_forest_w = 10;\n",
    "knn_w = 10;\n",
    "xg_boost_w = 10;\n",
    "\n",
    "total_w = decision_tree_w + random_forest_w + knn_w + xg_boost_w;\n",
    "\n",
    "def randomSample(low, high, size):\n",
    "    rand_rad = numpy.random.uniform(low, high, size)\n",
    "    for i in range(0, rand_rad.size):\n",
    "        rand_rad[i] = round(rand_rad[i], 2)\n",
    "    return rand_rad\n",
    "\n",
    "def genDataSet (size):\n",
    "    s = int(size);\n",
    "    rand_rad = randomSample(8, 10, s)\n",
    "    rand_height = randomSample(13, 15, s)\n",
    "    rand_freq = randomSample(3, 6, s)\n",
    "\n",
    "    rand_x = []\n",
    "    for i in range(0, s):\n",
    "        rand_x.append([rand_height[i], rand_rad[i], rand_freq[i]])\n",
    "    return rand_x\n",
    "    \n",
    "    \n"
   ]
  },
  {
   "cell_type": "code",
   "execution_count": 3,
   "id": "b3db4ccc",
   "metadata": {},
   "outputs": [
    {
     "data": {
      "text/plain": [
       "0.5926129774098582"
      ]
     },
     "execution_count": 3,
     "metadata": {},
     "output_type": "execute_result"
    }
   ],
   "source": [
    "# Decision Tree\n",
    "\n",
    "from sklearn.tree import DecisionTreeRegressor\n",
    "DTReg = DecisionTreeRegressor()\n",
    "DTReg.fit(x_train,y_train)\n",
    "\n",
    "x_gen = genDataSet(DATA_SIZE * (decision_tree_w/total_w))\n",
    "\n",
    "x_inp.extend(numpy.array(x_gen))\n",
    "y_inp.extend(numpy.array(DTReg.predict(x_gen)))\n",
    "\n",
    "mean_squared_error(y_test, DTReg.predict(x_test))"
   ]
  },
  {
   "cell_type": "code",
   "execution_count": 4,
   "id": "0db15aa1",
   "metadata": {},
   "outputs": [
    {
     "data": {
      "text/plain": [
       "0.3349529390503197"
      ]
     },
     "execution_count": 4,
     "metadata": {},
     "output_type": "execute_result"
    }
   ],
   "source": [
    "# KNN\n",
    "\n",
    "from sklearn.neighbors import KNeighborsRegressor\n",
    "\n",
    "knn = KNeighborsRegressor(n_neighbors=5)\n",
    " \n",
    "knn.fit(x_train, y_train)\n",
    "\n",
    "x_gen = genDataSet(DATA_SIZE * (knn_w/total_w))\n",
    "\n",
    "x_inp.extend(numpy.array(x_gen))\n",
    "y_inp.extend(numpy.array(knn.predict(x_gen)))\n",
    "\n",
    "mean_squared_error(y_test, knn.predict(x_test))\n"
   ]
  },
  {
   "cell_type": "code",
   "execution_count": 5,
   "id": "75dc2c38",
   "metadata": {},
   "outputs": [
    {
     "data": {
      "text/plain": [
       "0.2759885741251192"
      ]
     },
     "execution_count": 5,
     "metadata": {},
     "output_type": "execute_result"
    }
   ],
   "source": [
    "# Random Forest\n",
    "\n",
    "\n",
    "from sklearn.ensemble import RandomForestRegressor\n",
    "\n",
    "RFreg = RandomForestRegressor(n_estimators = 10, random_state = 0)\n",
    "\n",
    "RFreg.fit(x_train,y_train)\n",
    "\n",
    "x_gen = genDataSet(DATA_SIZE * (random_forest_w/total_w))\n",
    "\n",
    "x_inp.extend(numpy.array(x_gen))\n",
    "y_inp.extend(numpy.array(RFreg.predict(x_gen)))\n",
    "\n",
    "mean_squared_error(y_test, RFreg.predict(x_test))\n"
   ]
  },
  {
   "cell_type": "code",
   "execution_count": 6,
   "id": "5515c89f",
   "metadata": {},
   "outputs": [
    {
     "name": "stderr",
     "output_type": "stream",
     "text": [
      "C:\\Users\\omsin\\AppData\\Local\\Programs\\Python\\Python310\\lib\\site-packages\\xgboost\\compat.py:36: FutureWarning: pandas.Int64Index is deprecated and will be removed from pandas in a future version. Use pandas.Index with the appropriate dtype instead.\n",
      "  from pandas import MultiIndex, Int64Index\n",
      "C:\\Users\\omsin\\AppData\\Local\\Programs\\Python\\Python310\\lib\\site-packages\\xgboost\\data.py:262: FutureWarning: pandas.Int64Index is deprecated and will be removed from pandas in a future version. Use pandas.Index with the appropriate dtype instead.\n",
      "  elif isinstance(data.columns, (pd.Int64Index, pd.RangeIndex)):\n"
     ]
    },
    {
     "name": "stdout",
     "output_type": "stream",
     "text": [
      "[19:02:44] WARNING: C:/Users/Administrator/workspace/xgboost-win64_release_1.5.1/src/objective/regression_obj.cu:188: reg:linear is now deprecated in favor of reg:squarederror.\n"
     ]
    },
    {
     "data": {
      "text/plain": [
       "0.4217991458679601"
      ]
     },
     "execution_count": 6,
     "metadata": {},
     "output_type": "execute_result"
    }
   ],
   "source": [
    "# XG Boost\n",
    "\n",
    "\n",
    "import xgboost as xgb\n",
    "\n",
    "xgb_reg = xgb.XGBRegressor(n_estimators=100, objective='reg:linear', seed = 123)\n",
    "\n",
    "# Train the model with train data sets\n",
    "xgb_reg.fit(x_train, y_train)\n",
    "\n",
    "x_gen = genDataSet(DATA_SIZE * (xg_boost_w/total_w))\n",
    "\n",
    "x_inp.extend(numpy.array(x_gen))\n",
    "y_inp.extend(numpy.array(xgb_reg.predict(numpy.array(x_gen))))\n",
    "\n",
    "mean_squared_error(y_test, xgb_reg.predict(x_test))\n"
   ]
  },
  {
   "cell_type": "code",
   "execution_count": 7,
   "id": "030787e8",
   "metadata": {},
   "outputs": [],
   "source": [
    "# KBNN\n",
    "\n",
    "import keras\n",
    "from keras.models import Sequential\n",
    "from keras.layers import Dense\n",
    "\n",
    "# Artificial NN\n",
    "\n",
    "classifier = Sequential()\n",
    "\n",
    "# Input Layer\n",
    "classifier.add(Dense(units = 8, activation = 'relu', input_dim = 3))\n",
    "\n",
    "# 1st Hidden Layer\n",
    "classifier.add(Dense(units = 12, activation = 'sigmoid'))\n",
    "\n",
    "# 2nd Hidden Layer\n",
    "classifier.add(Dense(units = 10, activation = 'sigmoid'))\n",
    "\n",
    "# 3rd Hidden Layer\n",
    "classifier.add(Dense(units = 8, activation = 'sigmoid'))\n",
    "\n",
    "# Output Layer\n",
    "classifier.add(Dense(units = 1, activation = 'linear'))"
   ]
  },
  {
   "cell_type": "code",
   "execution_count": 8,
   "id": "cdbdf7b0",
   "metadata": {
    "scrolled": true
   },
   "outputs": [
    {
     "name": "stdout",
     "output_type": "stream",
     "text": [
      "Epoch 1/100\n",
      "44139/44139 [==============================] - 22s 485us/step - loss: 10.8319 - accuracy: 0.0000e+00 - val_loss: 10.6875 - val_accuracy: 0.0000e+00\n",
      "Epoch 2/100\n",
      "44139/44139 [==============================] - 20s 451us/step - loss: 5.6402 - accuracy: 0.0000e+00 - val_loss: 7.9259 - val_accuracy: 0.0000e+00\n",
      "Epoch 3/100\n",
      "44139/44139 [==============================] - 20s 457us/step - loss: 2.1043 - accuracy: 0.0000e+00 - val_loss: 6.3119 - val_accuracy: 0.0000e+00\n",
      "Epoch 4/100\n",
      "44139/44139 [==============================] - 20s 450us/step - loss: 1.4541 - accuracy: 0.0000e+00 - val_loss: 5.4930 - val_accuracy: 0.0000e+00\n",
      "Epoch 5/100\n",
      "44139/44139 [==============================] - 20s 459us/step - loss: 1.4156 - accuracy: 0.0000e+00 - val_loss: 5.0460 - val_accuracy: 0.0000e+00\n",
      "Epoch 6/100\n",
      "44139/44139 [==============================] - 20s 451us/step - loss: 1.2963 - accuracy: 0.0000e+00 - val_loss: 4.5443 - val_accuracy: 0.0000e+00\n",
      "Epoch 7/100\n",
      "44139/44139 [==============================] - 20s 452us/step - loss: 1.2581 - accuracy: 0.0000e+00 - val_loss: 5.1975 - val_accuracy: 0.0000e+00\n",
      "Epoch 8/100\n",
      "44139/44139 [==============================] - 21s 467us/step - loss: 1.2707 - accuracy: 0.0000e+00 - val_loss: 4.1105 - val_accuracy: 0.0000e+00\n",
      "Epoch 9/100\n",
      "44139/44139 [==============================] - 20s 451us/step - loss: 1.1524 - accuracy: 0.0000e+00 - val_loss: 4.4793 - val_accuracy: 0.0000e+00\n",
      "Epoch 10/100\n",
      "44139/44139 [==============================] - 20s 450us/step - loss: 1.1392 - accuracy: 0.0000e+00 - val_loss: 4.5058 - val_accuracy: 0.0000e+00\n",
      "Epoch 11/100\n",
      "44139/44139 [==============================] - 20s 451us/step - loss: 1.1052 - accuracy: 0.0000e+00 - val_loss: 4.3113 - val_accuracy: 0.0000e+00\n",
      "Epoch 12/100\n",
      "44139/44139 [==============================] - 20s 450us/step - loss: 1.4093 - accuracy: 0.0000e+00 - val_loss: 3.4820 - val_accuracy: 0.0000e+00\n",
      "Epoch 13/100\n",
      "44139/44139 [==============================] - 20s 451us/step - loss: 1.1700 - accuracy: 0.0000e+00 - val_loss: 3.6684 - val_accuracy: 0.0000e+00\n",
      "Epoch 14/100\n",
      "44139/44139 [==============================] - 20s 454us/step - loss: 1.1340 - accuracy: 0.0000e+00 - val_loss: 3.2547 - val_accuracy: 0.0000e+00\n",
      "Epoch 15/100\n",
      "44139/44139 [==============================] - 20s 463us/step - loss: 1.1081 - accuracy: 0.0000e+00 - val_loss: 3.3846 - val_accuracy: 0.0000e+00\n",
      "Epoch 16/100\n",
      "44139/44139 [==============================] - 20s 450us/step - loss: 1.0473 - accuracy: 0.0000e+00 - val_loss: 3.6962 - val_accuracy: 0.0000e+00\n",
      "Epoch 17/100\n",
      "44139/44139 [==============================] - 20s 449us/step - loss: 1.0320 - accuracy: 0.0000e+00 - val_loss: 3.1282 - val_accuracy: 0.0000e+00\n",
      "Epoch 18/100\n",
      "44139/44139 [==============================] - 20s 445us/step - loss: 0.9395 - accuracy: 0.0000e+00 - val_loss: 3.3586 - val_accuracy: 0.0000e+00\n",
      "Epoch 19/100\n",
      "44139/44139 [==============================] - 20s 448us/step - loss: 0.9446 - accuracy: 0.0000e+00 - val_loss: 2.5791 - val_accuracy: 0.0000e+00\n",
      "Epoch 20/100\n",
      "44139/44139 [==============================] - 20s 450us/step - loss: 0.8556 - accuracy: 0.0000e+00 - val_loss: 2.4785 - val_accuracy: 0.0000e+00\n",
      "Epoch 21/100\n",
      "44139/44139 [==============================] - 20s 449us/step - loss: 0.8366 - accuracy: 0.0000e+00 - val_loss: 2.0026 - val_accuracy: 0.0000e+00\n",
      "Epoch 22/100\n",
      "44139/44139 [==============================] - 20s 449us/step - loss: 0.7893 - accuracy: 0.0000e+00 - val_loss: 5.7298 - val_accuracy: 0.0000e+00\n",
      "Epoch 23/100\n",
      "44139/44139 [==============================] - 20s 453us/step - loss: 0.7590 - accuracy: 0.0000e+00 - val_loss: 2.0817 - val_accuracy: 0.0000e+00\n",
      "Epoch 24/100\n",
      "44139/44139 [==============================] - 20s 451us/step - loss: 0.7436 - accuracy: 0.0000e+00 - val_loss: 1.8708 - val_accuracy: 0.0000e+00\n",
      "Epoch 25/100\n",
      "44139/44139 [==============================] - 20s 449us/step - loss: 0.7271 - accuracy: 0.0000e+00 - val_loss: 1.7744 - val_accuracy: 0.0000e+00\n",
      "Epoch 26/100\n",
      "44139/44139 [==============================] - 20s 448us/step - loss: 0.7190 - accuracy: 0.0000e+00 - val_loss: 2.0629 - val_accuracy: 0.0000e+00\n",
      "Epoch 27/100\n",
      "44139/44139 [==============================] - 20s 448us/step - loss: 1.6763 - accuracy: 0.0000e+00 - val_loss: 3.2652 - val_accuracy: 0.0000e+00\n",
      "Epoch 28/100\n",
      "44139/44139 [==============================] - 20s 449us/step - loss: 0.9467 - accuracy: 0.0000e+00 - val_loss: 3.4683 - val_accuracy: 0.0000e+00\n",
      "Epoch 29/100\n",
      "44139/44139 [==============================] - 20s 451us/step - loss: 0.9350 - accuracy: 0.0000e+00 - val_loss: 1.7995 - val_accuracy: 0.0000e+00\n",
      "Epoch 30/100\n",
      "44139/44139 [==============================] - 20s 452us/step - loss: 0.9046 - accuracy: 0.0000e+00 - val_loss: 1.7530 - val_accuracy: 0.0000e+00\n",
      "Epoch 31/100\n",
      "44139/44139 [==============================] - 20s 450us/step - loss: 0.8995 - accuracy: 0.0000e+00 - val_loss: 1.7998 - val_accuracy: 0.0000e+00\n",
      "Epoch 32/100\n",
      "44139/44139 [==============================] - 20s 446us/step - loss: 2.8616 - accuracy: 0.0000e+00 - val_loss: 7.1030 - val_accuracy: 0.0000e+00\n",
      "Epoch 33/100\n",
      "44139/44139 [==============================] - 20s 446us/step - loss: 1.7200 - accuracy: 0.0000e+00 - val_loss: 2.7572 - val_accuracy: 0.0000e+00\n",
      "Epoch 34/100\n",
      "44139/44139 [==============================] - 20s 450us/step - loss: 1.0368 - accuracy: 0.0000e+00 - val_loss: 2.0282 - val_accuracy: 0.0000e+00\n",
      "Epoch 35/100\n",
      "44139/44139 [==============================] - 20s 445us/step - loss: 0.9256 - accuracy: 0.0000e+00 - val_loss: 1.8849 - val_accuracy: 0.0000e+00\n",
      "Epoch 36/100\n",
      "44139/44139 [==============================] - 20s 450us/step - loss: 0.8930 - accuracy: 0.0000e+00 - val_loss: 2.1082 - val_accuracy: 0.0000e+00\n",
      "Epoch 37/100\n",
      "44139/44139 [==============================] - 20s 446us/step - loss: 0.8733 - accuracy: 0.0000e+00 - val_loss: 1.6425 - val_accuracy: 0.0000e+00\n",
      "Epoch 38/100\n",
      "44139/44139 [==============================] - 20s 446us/step - loss: 0.8282 - accuracy: 0.0000e+00 - val_loss: 2.8796 - val_accuracy: 0.0000e+00\n",
      "Epoch 39/100\n",
      "44139/44139 [==============================] - 20s 446us/step - loss: 0.8297 - accuracy: 0.0000e+00 - val_loss: 1.9106 - val_accuracy: 0.0000e+00\n",
      "Epoch 40/100\n",
      "44139/44139 [==============================] - 20s 446us/step - loss: 0.8381 - accuracy: 0.0000e+00 - val_loss: 1.5334 - val_accuracy: 0.0000e+00\n",
      "Epoch 41/100\n",
      "44139/44139 [==============================] - 20s 447us/step - loss: 0.8378 - accuracy: 0.0000e+00 - val_loss: 2.9379 - val_accuracy: 0.0000e+00\n",
      "Epoch 42/100\n",
      "44139/44139 [==============================] - 20s 451us/step - loss: 0.8268 - accuracy: 0.0000e+00 - val_loss: 2.2808 - val_accuracy: 0.0000e+00\n",
      "Epoch 43/100\n",
      "44139/44139 [==============================] - 20s 448us/step - loss: 0.8184 - accuracy: 0.0000e+00 - val_loss: 1.5879 - val_accuracy: 0.0000e+00\n",
      "Epoch 44/100\n",
      "44139/44139 [==============================] - 20s 446us/step - loss: 0.8127 - accuracy: 0.0000e+00 - val_loss: 2.0210 - val_accuracy: 0.0000e+00\n",
      "Epoch 45/100\n",
      "44139/44139 [==============================] - 20s 446us/step - loss: 0.8030 - accuracy: 0.0000e+00 - val_loss: 2.0675 - val_accuracy: 0.0000e+00\n",
      "Epoch 46/100\n",
      "44139/44139 [==============================] - 20s 446us/step - loss: 0.7949 - accuracy: 0.0000e+00 - val_loss: 3.4484 - val_accuracy: 0.0000e+00\n",
      "Epoch 47/100\n",
      "44139/44139 [==============================] - 20s 449us/step - loss: 0.7790 - accuracy: 0.0000e+00 - val_loss: 2.6336 - val_accuracy: 0.0000e+00\n",
      "Epoch 48/100\n",
      "44139/44139 [==============================] - 20s 450us/step - loss: 0.7889 - accuracy: 0.0000e+00 - val_loss: 2.7557 - val_accuracy: 0.0000e+00\n",
      "Epoch 49/100\n",
      "44139/44139 [==============================] - 20s 448us/step - loss: 0.7917 - accuracy: 0.0000e+00 - val_loss: 1.7644 - val_accuracy: 0.0000e+00\n",
      "Epoch 50/100\n",
      "44139/44139 [==============================] - 20s 455us/step - loss: 0.7882 - accuracy: 0.0000e+00 - val_loss: 1.6978 - val_accuracy: 0.0000e+00\n",
      "Epoch 51/100\n",
      "44139/44139 [==============================] - 20s 447us/step - loss: 0.7851 - accuracy: 0.0000e+00 - val_loss: 2.5196 - val_accuracy: 0.0000e+00\n",
      "Epoch 52/100\n"
     ]
    },
    {
     "name": "stdout",
     "output_type": "stream",
     "text": [
      "44139/44139 [==============================] - 20s 445us/step - loss: 0.7753 - accuracy: 0.0000e+00 - val_loss: 1.6277 - val_accuracy: 0.0000e+00\n",
      "Epoch 53/100\n",
      "44139/44139 [==============================] - 20s 447us/step - loss: 0.7704 - accuracy: 0.0000e+00 - val_loss: 1.5462 - val_accuracy: 0.0000e+00\n",
      "Epoch 54/100\n",
      "44139/44139 [==============================] - 20s 448us/step - loss: 0.7786 - accuracy: 0.0000e+00 - val_loss: 1.6811 - val_accuracy: 0.0000e+00\n",
      "Epoch 55/100\n",
      "44139/44139 [==============================] - 20s 444us/step - loss: 0.7722 - accuracy: 0.0000e+00 - val_loss: 1.7867 - val_accuracy: 0.0000e+00\n",
      "Epoch 56/100\n",
      "44139/44139 [==============================] - 20s 447us/step - loss: 0.7591 - accuracy: 0.0000e+00 - val_loss: 1.8101 - val_accuracy: 0.0000e+00\n",
      "Epoch 57/100\n",
      "44139/44139 [==============================] - 20s 448us/step - loss: 0.7844 - accuracy: 0.0000e+00 - val_loss: 1.8556 - val_accuracy: 0.0000e+00\n",
      "Epoch 58/100\n",
      "44139/44139 [==============================] - 20s 445us/step - loss: 0.7750 - accuracy: 0.0000e+00 - val_loss: 1.6192 - val_accuracy: 0.0000e+00\n",
      "Epoch 59/100\n",
      "44139/44139 [==============================] - 20s 443us/step - loss: 0.7447 - accuracy: 0.0000e+00 - val_loss: 1.7226 - val_accuracy: 0.0000e+00\n",
      "Epoch 60/100\n",
      "44139/44139 [==============================] - 20s 449us/step - loss: 0.7617 - accuracy: 0.0000e+00 - val_loss: 1.4761 - val_accuracy: 0.0000e+00\n",
      "Epoch 61/100\n",
      "44139/44139 [==============================] - 20s 453us/step - loss: 0.7548 - accuracy: 0.0000e+00 - val_loss: 1.5555 - val_accuracy: 0.0000e+00\n",
      "Epoch 62/100\n",
      "44139/44139 [==============================] - 21s 465us/step - loss: 0.7562 - accuracy: 0.0000e+00 - val_loss: 2.3674 - val_accuracy: 0.0000e+00\n",
      "Epoch 63/100\n",
      "44139/44139 [==============================] - 20s 449us/step - loss: 0.7567 - accuracy: 0.0000e+00 - val_loss: 1.7519 - val_accuracy: 0.0000e+00\n",
      "Epoch 64/100\n",
      "44139/44139 [==============================] - 20s 448us/step - loss: 0.7469 - accuracy: 0.0000e+00 - val_loss: 1.5106 - val_accuracy: 0.0000e+00\n",
      "Epoch 65/100\n",
      "44139/44139 [==============================] - 20s 446us/step - loss: 0.7486 - accuracy: 0.0000e+00 - val_loss: 1.4846 - val_accuracy: 0.0000e+00\n",
      "Epoch 66/100\n",
      "44139/44139 [==============================] - 20s 447us/step - loss: 0.7506 - accuracy: 0.0000e+00 - val_loss: 1.7198 - val_accuracy: 0.0000e+00\n",
      "Epoch 67/100\n",
      "44139/44139 [==============================] - 20s 451us/step - loss: 0.7452 - accuracy: 0.0000e+00 - val_loss: 1.8669 - val_accuracy: 0.0000e+00\n",
      "Epoch 68/100\n",
      "44139/44139 [==============================] - 20s 448us/step - loss: 0.7691 - accuracy: 0.0000e+00 - val_loss: 1.8392 - val_accuracy: 0.0000e+00\n",
      "Epoch 69/100\n",
      "44139/44139 [==============================] - 20s 446us/step - loss: 0.7530 - accuracy: 0.0000e+00 - val_loss: 2.7144 - val_accuracy: 0.0000e+00\n",
      "Epoch 70/100\n",
      "44139/44139 [==============================] - 20s 450us/step - loss: 0.7387 - accuracy: 0.0000e+00 - val_loss: 2.2137 - val_accuracy: 0.0000e+00\n",
      "Epoch 71/100\n",
      "44139/44139 [==============================] - 20s 450us/step - loss: 0.7397 - accuracy: 0.0000e+00 - val_loss: 1.4248 - val_accuracy: 0.0000e+00\n",
      "Epoch 72/100\n",
      "44139/44139 [==============================] - 20s 447us/step - loss: 0.7303 - accuracy: 0.0000e+00 - val_loss: 2.3900 - val_accuracy: 0.0000e+00\n",
      "Epoch 73/100\n",
      "44139/44139 [==============================] - 20s 449us/step - loss: 0.7437 - accuracy: 0.0000e+00 - val_loss: 1.6561 - val_accuracy: 0.0000e+00\n",
      "Epoch 74/100\n",
      "44139/44139 [==============================] - 20s 447us/step - loss: 0.7308 - accuracy: 0.0000e+00 - val_loss: 2.2796 - val_accuracy: 0.0000e+00\n",
      "Epoch 75/100\n",
      "44139/44139 [==============================] - 20s 448us/step - loss: 0.7285 - accuracy: 0.0000e+00 - val_loss: 1.9217 - val_accuracy: 0.0000e+00\n",
      "Epoch 76/100\n",
      "44139/44139 [==============================] - 20s 451us/step - loss: 0.7334 - accuracy: 0.0000e+00 - val_loss: 1.5698 - val_accuracy: 0.0000e+00\n",
      "Epoch 77/100\n",
      "44139/44139 [==============================] - 20s 448us/step - loss: 0.7275 - accuracy: 0.0000e+00 - val_loss: 1.4820 - val_accuracy: 0.0000e+00\n",
      "Epoch 78/100\n",
      "44139/44139 [==============================] - 20s 456us/step - loss: 0.7247 - accuracy: 0.0000e+00 - val_loss: 1.4620 - val_accuracy: 0.0000e+00\n",
      "Epoch 79/100\n",
      "44139/44139 [==============================] - 20s 451us/step - loss: 0.7130 - accuracy: 0.0000e+00 - val_loss: 5.1361 - val_accuracy: 0.0000e+00\n",
      "Epoch 80/100\n",
      "44139/44139 [==============================] - 20s 446us/step - loss: 0.7126 - accuracy: 0.0000e+00 - val_loss: 1.8719 - val_accuracy: 0.0000e+00\n",
      "Epoch 81/100\n",
      "44139/44139 [==============================] - 20s 447us/step - loss: 0.7048 - accuracy: 0.0000e+00 - val_loss: 1.7920 - val_accuracy: 0.0000e+00\n",
      "Epoch 82/100\n",
      "44139/44139 [==============================] - 20s 448us/step - loss: 0.7177 - accuracy: 0.0000e+00 - val_loss: 1.4480 - val_accuracy: 0.0000e+00\n",
      "Epoch 83/100\n",
      "44139/44139 [==============================] - 20s 445us/step - loss: 0.7052 - accuracy: 0.0000e+00 - val_loss: 1.4368 - val_accuracy: 0.0000e+00\n",
      "Epoch 84/100\n",
      "44139/44139 [==============================] - 20s 445us/step - loss: 0.7109 - accuracy: 0.0000e+00 - val_loss: 1.4310 - val_accuracy: 0.0000e+00\n",
      "Epoch 85/100\n",
      "44139/44139 [==============================] - 20s 447us/step - loss: 0.7057 - accuracy: 0.0000e+00 - val_loss: 1.5416 - val_accuracy: 0.0000e+00\n",
      "Epoch 86/100\n",
      "44139/44139 [==============================] - 20s 448us/step - loss: 0.6993 - accuracy: 0.0000e+00 - val_loss: 1.3660 - val_accuracy: 0.0000e+00\n",
      "Epoch 87/100\n",
      "44139/44139 [==============================] - 20s 446us/step - loss: 0.6906 - accuracy: 0.0000e+00 - val_loss: 1.9123 - val_accuracy: 0.0000e+00\n",
      "Epoch 88/100\n",
      "44139/44139 [==============================] - 20s 448us/step - loss: 0.6822 - accuracy: 0.0000e+00 - val_loss: 1.3475 - val_accuracy: 0.0000e+00\n",
      "Epoch 89/100\n",
      "44139/44139 [==============================] - 20s 450us/step - loss: 0.6916 - accuracy: 0.0000e+00 - val_loss: 1.4953 - val_accuracy: 0.0000e+00\n",
      "Epoch 90/100\n",
      "44139/44139 [==============================] - 20s 450us/step - loss: 0.6955 - accuracy: 0.0000e+00 - val_loss: 1.3969 - val_accuracy: 0.0000e+00\n",
      "Epoch 91/100\n",
      "44139/44139 [==============================] - 20s 451us/step - loss: 0.6983 - accuracy: 0.0000e+00 - val_loss: 3.1535 - val_accuracy: 0.0000e+00\n",
      "Epoch 92/100\n",
      "44139/44139 [==============================] - 20s 447us/step - loss: 0.6982 - accuracy: 0.0000e+00 - val_loss: 1.5803 - val_accuracy: 0.0000e+00\n",
      "Epoch 93/100\n",
      "44139/44139 [==============================] - 3615s 82ms/step - loss: 0.6820 - accuracy: 0.0000e+00 - val_loss: 1.5092 - val_accuracy: 0.0000e+00\n",
      "Epoch 94/100\n",
      "44139/44139 [==============================] - 24s 552us/step - loss: 0.6862 - accuracy: 0.0000e+00 - val_loss: 1.4409 - val_accuracy: 0.0000e+00\n",
      "Epoch 95/100\n",
      "44139/44139 [==============================] - 23s 526us/step - loss: 0.6758 - accuracy: 0.0000e+00 - val_loss: 2.5495 - val_accuracy: 0.0000e+00\n",
      "Epoch 96/100\n",
      "44139/44139 [==============================] - 21s 473us/step - loss: 0.6870 - accuracy: 0.0000e+00 - val_loss: 1.2962 - val_accuracy: 0.0000e+00\n",
      "Epoch 97/100\n",
      "44139/44139 [==============================] - 21s 474us/step - loss: 0.6737 - accuracy: 0.0000e+00 - val_loss: 2.6723 - val_accuracy: 0.0000e+00\n",
      "Epoch 98/100\n",
      "44139/44139 [==============================] - 21s 472us/step - loss: 0.6784 - accuracy: 0.0000e+00 - val_loss: 1.8054 - val_accuracy: 0.0000e+00\n",
      "Epoch 99/100\n",
      "44139/44139 [==============================] - 21s 467us/step - loss: 0.6786 - accuracy: 0.0000e+00 - val_loss: 2.4947 - val_accuracy: 0.0000e+00\n",
      "Epoch 100/100\n",
      "44139/44139 [==============================] - 22s 498us/step - loss: 0.6738 - accuracy: 0.0000e+00 - val_loss: 1.7531 - val_accuracy: 0.0000e+00\n"
     ]
    }
   ],
   "source": [
    "x_inp = numpy.asarray(x_inp).astype(numpy.float32)\n",
    "y_inp = numpy.asarray(y_inp).astype(numpy.float32)\n",
    "\n",
    "# Training\n",
    "\n",
    "classifier.compile(optimizer = 'adam', loss = 'mean_squared_error', metrics = ['accuracy'])\n",
    "\n",
    "history=classifier.fit(x_inp, y_inp, batch_size = 10, epochs = 100, validation_data=(x_test,y_test))"
   ]
  },
  {
   "cell_type": "code",
   "execution_count": 9,
   "id": "f96fcb20",
   "metadata": {},
   "outputs": [
    {
     "data": {
      "text/plain": [
       "array([ -0.9589167,  -7.9456983,  -2.705334 , ..., -14.152952 ,\n",
       "        -2.4766731,  -2.4968772], dtype=float32)"
      ]
     },
     "execution_count": 9,
     "metadata": {},
     "output_type": "execute_result"
    }
   ],
   "source": [
    "y_inp"
   ]
  },
  {
   "cell_type": "code",
   "execution_count": 10,
   "id": "1f1cab50",
   "metadata": {},
   "outputs": [
    {
     "data": {
      "image/png": "[encoded data removed]",
      "text/plain": [
       "<Figure size 432x288 with 1 Axes>"
      ]
     },
     "metadata": {
      "needs_background": "light"
     },
     "output_type": "display_data"
    },
    {
     "data": {
      "image/png": "[encoded data removed]",
      "text/plain": [
       "<Figure size 432x288 with 1 Axes>"
      ]
     },
     "metadata": {
      "needs_background": "light"
     },
     "output_type": "display_data"
    },
    {
     "data": {
      "image/png": "[encoded data removed]",
      "text/plain": [
       "<Figure size 432x288 with 1 Axes>"
      ]
     },
     "metadata": {
      "needs_background": "light"
     },
     "output_type": "display_data"
    }
   ],
   "source": [
    "# Prediction\n",
    "import matplotlib.pyplot as plt\n",
    "\n",
    "y_pred = classifier.predict(x_test)\n",
    "mean_squared_error(y_test,y_pred)\n",
    "r2_score(y_test, y_pred)\n",
    "\n",
    "plt.plot(history.history['loss'])\n",
    "plt.title('Model Loss')\n",
    "plt.ylabel('LOSS')\n",
    "plt.xlabel('EPOCH')\n",
    "plt.legend(['train'], loc='upper left')\n",
    "plt.show()\n",
    "\n",
    "plt.plot(history.history['val_loss'])\n",
    "plt.title('Model Validation Loss')\n",
    "plt.ylabel('VAL LOSS')\n",
    "plt.xlabel('EPOCH')\n",
    "plt.legend(['train'], loc='upper left')\n",
    "plt.show()\n",
    "\n",
    "def generatePredictionPlot(y_pred, y_test):\n",
    "    plt.scatter(x=y_test, y=y_pred, c='navy', alpha=0.6)\n",
    "    plt.plot(y_test, y_test,color='cyan')\n",
    "    plt.title('Predicted vs Actual values')\n",
    "    plt.xlabel('Actual values')\n",
    "    plt.ylabel('Predicted values')\n",
    "    plt.show()\n",
    "    \n",
    "generatePredictionPlot(y_pred, y_test)"
   ]
  },
  {
   "cell_type": "code",
   "execution_count": 11,
   "id": "8089312b",
   "metadata": {},
   "outputs": [
    {
     "data": {
      "text/plain": [
       "1.7531242695087494"
      ]
     },
     "execution_count": 11,
     "metadata": {},
     "output_type": "execute_result"
    }
   ],
   "source": [
    "mean_squared_error(y_test,y_pred)"
   ]
  },
  {
   "cell_type": "code",
   "execution_count": 12,
   "id": "1c950c4f",
   "metadata": {},
   "outputs": [
    {
     "data": {
      "text/plain": [
       "0.9120637907505881"
      ]
     },
     "execution_count": 12,
     "metadata": {},
     "output_type": "execute_result"
    }
   ],
   "source": [
    "r2_score(y_test, y_pred)"
   ]
  },
  {
   "cell_type": "code",
   "execution_count": null,
   "id": "8c6c3a52",
   "metadata": {},
   "outputs": [],
   "source": []
  },
  {
   "cell_type": "code",
   "execution_count": null,
   "id": "650d862c",
   "metadata": {},
   "outputs": [],
   "source": []
  }
 ],
 "metadata": {
  "kernelspec": {
   "display_name": "Python 3 (ipykernel)",
   "language": "python",
   "name": "python3"
  },
  "language_info": {
   "codemirror_mode": {
    "name": "ipython",
    "version": 3
   },
   "file_extension": ".py",
   "mimetype": "text/x-python",
   "name": "python",
   "nbconvert_exporter": "python",
   "pygments_lexer": "ipython3",
   "version": "3.10.2"
  }
 },
 "nbformat": 4,
 "nbformat_minor": 5
}
