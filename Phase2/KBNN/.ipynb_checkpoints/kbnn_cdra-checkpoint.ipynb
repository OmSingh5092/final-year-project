{
 "cells": [
  {
   "cell_type": "code",
   "execution_count": 17,
   "id": "4b05c8b8",
   "metadata": {},
   "outputs": [],
   "source": [
    "import pandas as pd\n",
    "from sklearn.model_selection import train_test_split\n",
    "import numpy\n",
    "from sklearn.metrics import mean_squared_error\n",
    "from sklearn.metrics import r2_score"
   ]
  },
  {
   "cell_type": "code",
   "execution_count": 18,
   "id": "64011305",
   "metadata": {},
   "outputs": [],
   "source": [
    "dataset = pd.read_csv('../../DataSets/data_set_dra_updated.csv')\n",
    "\n",
    "x = pd.DataFrame(dataset.iloc[:, 0:5].values)\n",
    "y = dataset.iloc[:, 5].values\n",
    "\n",
    "x_train, x_test, y_train, y_test = train_test_split(x, y, test_size = 0.2, random_state = 123)\n",
    "\n",
    "x_inp = [];\n",
    "y_inp = [];\n",
    "\n",
    "\n",
    "x_inp.extend(numpy.array(x_train))\n",
    "\n",
    "y_inp.extend(numpy.array(y_train))\n",
    "\n",
    "DATA_SIZE = 400000;\n",
    "\n",
    "decision_tree_w = 10;\n",
    "random_forest_w = 10;\n",
    "knn_w = 10;\n",
    "xg_boost_w = 10;\n",
    "\n",
    "total_w = decision_tree_w + random_forest_w + knn_w + xg_boost_w;\n",
    "\n",
    "def randomSample(low, high, size):\n",
    "    rand_rad = numpy.random.uniform(low, high, size)\n",
    "    for i in range(0, rand_rad.size):\n",
    "        rand_rad[i] = round(rand_rad[i], 2)\n",
    "    return rand_rad\n",
    "\n",
    "def genDataSet (size):\n",
    "    s = int(size);\n",
    "    rand_rad = randomSample(8, 10, s)\n",
    "    rand_height = randomSample(13, 15, s)\n",
    "    rand_freq = randomSample(3, 6, s)\n",
    "    rand_w1 = randomSample(2, 3, s)\n",
    "    rand_w2 = randomSample(2, 3, s)\n",
    "\n",
    "    rand_x = []\n",
    "    for i in range(0, s):\n",
    "        rand_x.append([rand_height[i], rand_rad[i], rand_w1[i], rand_w2[i], rand_freq[i]])\n",
    "    return rand_x\n",
    "    \n",
    "    \n"
   ]
  },
  {
   "cell_type": "code",
   "execution_count": 19,
   "id": "b3db4ccc",
   "metadata": {},
   "outputs": [
    {
     "data": {
      "text/plain": [
       "0.5341832694016518"
      ]
     },
     "execution_count": 19,
     "metadata": {},
     "output_type": "execute_result"
    }
   ],
   "source": [
    "# Decision Tree\n",
    "\n",
    "from sklearn.tree import DecisionTreeRegressor\n",
    "DTReg = DecisionTreeRegressor()\n",
    "DTReg.fit(x_train,y_train)\n",
    "\n",
    "x_gen = genDataSet(DATA_SIZE * (decision_tree_w/total_w))\n",
    "\n",
    "x_inp.extend(numpy.array(x_gen))\n",
    "y_inp.extend(numpy.array(DTReg.predict(x_gen)))\n",
    "\n",
    "mean_squared_error(y_test, DTReg.predict(x_test))"
   ]
  },
  {
   "cell_type": "code",
   "execution_count": 20,
   "id": "0db15aa1",
   "metadata": {},
   "outputs": [
    {
     "data": {
      "text/plain": [
       "0.3138785868040164"
      ]
     },
     "execution_count": 20,
     "metadata": {},
     "output_type": "execute_result"
    }
   ],
   "source": [
    "# KNN\n",
    "\n",
    "from sklearn.neighbors import KNeighborsRegressor\n",
    "\n",
    "knn = KNeighborsRegressor(n_neighbors=5)\n",
    " \n",
    "knn.fit(x_train, y_train)\n",
    "\n",
    "x_gen = genDataSet(DATA_SIZE * (knn_w/total_w))\n",
    "\n",
    "x_inp.extend(numpy.array(x_gen))\n",
    "y_inp.extend(numpy.array(knn.predict(x_gen)))\n",
    "\n",
    "mean_squared_error(y_test, knn.predict(x_test))\n"
   ]
  },
  {
   "cell_type": "code",
   "execution_count": 21,
   "id": "75dc2c38",
   "metadata": {},
   "outputs": [
    {
     "data": {
      "text/plain": [
       "0.3051686970566797"
      ]
     },
     "execution_count": 21,
     "metadata": {},
     "output_type": "execute_result"
    }
   ],
   "source": [
    "# Random Forest\n",
    "\n",
    "\n",
    "from sklearn.ensemble import RandomForestRegressor\n",
    "\n",
    "RFreg = RandomForestRegressor(n_estimators = 10, random_state = 0)\n",
    "\n",
    "RFreg.fit(x_train,y_train)\n",
    "\n",
    "x_gen = genDataSet(DATA_SIZE * (random_forest_w/total_w))\n",
    "\n",
    "x_inp.extend(numpy.array(x_gen))\n",
    "y_inp.extend(numpy.array(RFreg.predict(x_gen)))\n",
    "\n",
    "mean_squared_error(y_test, RFreg.predict(x_test))\n"
   ]
  },
  {
   "cell_type": "code",
   "execution_count": 22,
   "id": "5515c89f",
   "metadata": {},
   "outputs": [
    {
     "name": "stderr",
     "output_type": "stream",
     "text": [
      "C:\\Users\\omsin\\AppData\\Local\\Programs\\Python\\Python310\\lib\\site-packages\\xgboost\\data.py:262: FutureWarning: pandas.Int64Index is deprecated and will be removed from pandas in a future version. Use pandas.Index with the appropriate dtype instead.\n",
      "  elif isinstance(data.columns, (pd.Int64Index, pd.RangeIndex)):\n"
     ]
    },
    {
     "name": "stdout",
     "output_type": "stream",
     "text": [
      "[03:51:09] WARNING: C:/Users/Administrator/workspace/xgboost-win64_release_1.5.1/src/objective/regression_obj.cu:188: reg:linear is now deprecated in favor of reg:squarederror.\n"
     ]
    },
    {
     "data": {
      "text/plain": [
       "0.4404962933617344"
      ]
     },
     "execution_count": 22,
     "metadata": {},
     "output_type": "execute_result"
    }
   ],
   "source": [
    "# XG Boost\n",
    "\n",
    "\n",
    "import xgboost as xgb\n",
    "\n",
    "xgb_reg = xgb.XGBRegressor(n_estimators=100, objective='reg:linear', seed = 123)\n",
    "\n",
    "# Train the model with train data sets\n",
    "xgb_reg.fit(x_train, y_train)\n",
    "\n",
    "x_gen = genDataSet(DATA_SIZE * (xg_boost_w/total_w))\n",
    "\n",
    "x_inp.extend(numpy.array(x_gen))\n",
    "y_inp.extend(numpy.array(xgb_reg.predict(numpy.array(x_gen))))\n",
    "\n",
    "mean_squared_error(y_test, xgb_reg.predict(x_test))\n"
   ]
  },
  {
   "cell_type": "code",
   "execution_count": 23,
   "id": "030787e8",
   "metadata": {},
   "outputs": [],
   "source": [
    "# KBNN\n",
    "\n",
    "import keras\n",
    "from keras.models import Sequential\n",
    "from keras.layers import Dense\n",
    "\n",
    "# Artificial NN\n",
    "\n",
    "classifier = Sequential()\n",
    "\n",
    "# Input Layer\n",
    "classifier.add(Dense(units = 8, activation = 'relu', input_dim = 5))\n",
    "\n",
    "# 1st Hidden Layer\n",
    "classifier.add(Dense(units = 12, activation = 'sigmoid'))\n",
    "\n",
    "# 2nd Hidden Layer\n",
    "classifier.add(Dense(units = 10, activation = 'sigmoid'))\n",
    "\n",
    "# 3rd Hidden Layer\n",
    "classifier.add(Dense(units = 8, activation = 'sigmoid'))\n",
    "\n",
    "# Output Layer\n",
    "classifier.add(Dense(units = 1, activation = 'linear'))"
   ]
  },
  {
   "cell_type": "code",
   "execution_count": 24,
   "id": "cdbdf7b0",
   "metadata": {
    "scrolled": true
   },
   "outputs": [
    {
     "name": "stdout",
     "output_type": "stream",
     "text": [
      "Epoch 1/100\n",
      "46930/46930 [==============================] - 26s 543us/step - loss: 9.7061 - accuracy: 0.0000e+00 - val_loss: 7.2155 - val_accuracy: 0.0000e+00\n",
      "Epoch 2/100\n",
      "46930/46930 [==============================] - 23s 498us/step - loss: 5.1020 - accuracy: 0.0000e+00 - val_loss: 5.9048 - val_accuracy: 0.0000e+00\n",
      "Epoch 3/100\n",
      "46930/46930 [==============================] - 24s 511us/step - loss: 3.4395 - accuracy: 0.0000e+00 - val_loss: 4.8163 - val_accuracy: 0.0000e+00\n",
      "Epoch 4/100\n",
      "46930/46930 [==============================] - 26s 555us/step - loss: 2.2900 - accuracy: 0.0000e+00 - val_loss: 3.8041 - val_accuracy: 0.0000e+00\n",
      "Epoch 5/100\n",
      "46930/46930 [==============================] - 26s 558us/step - loss: 1.9303 - accuracy: 0.0000e+00 - val_loss: 5.3905 - val_accuracy: 0.0000e+00\n",
      "Epoch 6/100\n",
      "46930/46930 [==============================] - 24s 512us/step - loss: 1.7582 - accuracy: 0.0000e+00 - val_loss: 5.3783 - val_accuracy: 0.0000e+00\n",
      "Epoch 7/100\n",
      "46930/46930 [==============================] - 24s 510us/step - loss: 1.5897 - accuracy: 0.0000e+00 - val_loss: 3.5431 - val_accuracy: 0.0000e+00\n",
      "Epoch 8/100\n",
      "46930/46930 [==============================] - 23s 490us/step - loss: 1.4710 - accuracy: 0.0000e+00 - val_loss: 3.3628 - val_accuracy: 0.0000e+00\n",
      "Epoch 9/100\n",
      "46930/46930 [==============================] - 24s 510us/step - loss: 1.3737 - accuracy: 0.0000e+00 - val_loss: 3.4634 - val_accuracy: 0.0000e+00\n",
      "Epoch 10/100\n",
      "46930/46930 [==============================] - 24s 519us/step - loss: 1.3193 - accuracy: 0.0000e+00 - val_loss: 2.9564 - val_accuracy: 0.0000e+00\n",
      "Epoch 11/100\n",
      "46930/46930 [==============================] - 24s 507us/step - loss: 1.2712 - accuracy: 0.0000e+00 - val_loss: 3.7785 - val_accuracy: 0.0000e+00\n",
      "Epoch 12/100\n",
      "46930/46930 [==============================] - 24s 505us/step - loss: 1.1867 - accuracy: 0.0000e+00 - val_loss: 2.7382 - val_accuracy: 0.0000e+00\n",
      "Epoch 13/100\n",
      "46930/46930 [==============================] - 24s 502us/step - loss: 1.1336 - accuracy: 0.0000e+00 - val_loss: 2.5367 - val_accuracy: 0.0000e+00\n",
      "Epoch 14/100\n",
      "46930/46930 [==============================] - 23s 489us/step - loss: 1.0769 - accuracy: 0.0000e+00 - val_loss: 2.3666 - val_accuracy: 0.0000e+00\n",
      "Epoch 15/100\n",
      "46930/46930 [==============================] - 24s 510us/step - loss: 1.0403 - accuracy: 0.0000e+00 - val_loss: 2.1750 - val_accuracy: 0.0000e+00\n",
      "Epoch 16/100\n",
      "46930/46930 [==============================] - 24s 503us/step - loss: 1.0043 - accuracy: 0.0000e+00 - val_loss: 2.3972 - val_accuracy: 0.0000e+00\n",
      "Epoch 17/100\n",
      "46930/46930 [==============================] - 23s 491us/step - loss: 0.9780 - accuracy: 0.0000e+00 - val_loss: 2.1129 - val_accuracy: 0.0000e+00\n",
      "Epoch 18/100\n",
      "46930/46930 [==============================] - 24s 504us/step - loss: 0.9562 - accuracy: 0.0000e+00 - val_loss: 1.9487 - val_accuracy: 0.0000e+00\n",
      "Epoch 19/100\n",
      "46930/46930 [==============================] - 23s 499us/step - loss: 0.9298 - accuracy: 0.0000e+00 - val_loss: 2.0884 - val_accuracy: 0.0000e+00\n",
      "Epoch 20/100\n",
      "46930/46930 [==============================] - 25s 523us/step - loss: 0.9117 - accuracy: 0.0000e+00 - val_loss: 1.8870 - val_accuracy: 0.0000e+00\n",
      "Epoch 21/100\n",
      "46930/46930 [==============================] - 26s 549us/step - loss: 0.8950 - accuracy: 0.0000e+00 - val_loss: 1.6632 - val_accuracy: 0.0000e+00\n",
      "Epoch 22/100\n",
      "46930/46930 [==============================] - 28s 604us/step - loss: 0.8840 - accuracy: 0.0000e+00 - val_loss: 1.4721 - val_accuracy: 0.0000e+00\n",
      "Epoch 23/100\n",
      "46930/46930 [==============================] - 27s 567us/step - loss: 0.8703 - accuracy: 0.0000e+00 - val_loss: 1.4005 - val_accuracy: 0.0000e+00\n",
      "Epoch 24/100\n",
      "46930/46930 [==============================] - 25s 535us/step - loss: 0.8481 - accuracy: 0.0000e+00 - val_loss: 1.3940 - val_accuracy: 0.0000e+00\n",
      "Epoch 25/100\n",
      "46930/46930 [==============================] - 26s 549us/step - loss: 0.8497 - accuracy: 0.0000e+00 - val_loss: 1.6452 - val_accuracy: 0.0000e+00\n",
      "Epoch 26/100\n",
      "46930/46930 [==============================] - 26s 556us/step - loss: 0.8322 - accuracy: 0.0000e+00 - val_loss: 5.3160 - val_accuracy: 0.0000e+00\n",
      "Epoch 27/100\n",
      "46930/46930 [==============================] - 25s 534us/step - loss: 0.8284 - accuracy: 0.0000e+00 - val_loss: 1.4427 - val_accuracy: 0.0000e+00\n",
      "Epoch 28/100\n",
      "46930/46930 [==============================] - 25s 525us/step - loss: 0.8152 - accuracy: 0.0000e+00 - val_loss: 1.8473 - val_accuracy: 0.0000e+00\n",
      "Epoch 29/100\n",
      "46930/46930 [==============================] - 25s 528us/step - loss: 0.8143 - accuracy: 0.0000e+00 - val_loss: 1.4781 - val_accuracy: 0.0000e+00\n",
      "Epoch 30/100\n",
      "46930/46930 [==============================] - 25s 536us/step - loss: 0.8095 - accuracy: 0.0000e+00 - val_loss: 2.2413 - val_accuracy: 0.0000e+00\n",
      "Epoch 31/100\n",
      "46930/46930 [==============================] - 25s 537us/step - loss: 0.8060 - accuracy: 0.0000e+00 - val_loss: 1.4272 - val_accuracy: 0.0000e+00\n",
      "Epoch 32/100\n",
      "46930/46930 [==============================] - 25s 532us/step - loss: 0.7910 - accuracy: 0.0000e+00 - val_loss: 1.5661 - val_accuracy: 0.0000e+00\n",
      "Epoch 33/100\n",
      "46930/46930 [==============================] - 25s 525us/step - loss: 0.7995 - accuracy: 0.0000e+00 - val_loss: 1.3096 - val_accuracy: 0.0000e+00\n",
      "Epoch 34/100\n",
      "46930/46930 [==============================] - 25s 529us/step - loss: 0.7721 - accuracy: 0.0000e+00 - val_loss: 1.3458 - val_accuracy: 0.0000e+00\n",
      "Epoch 35/100\n",
      "46930/46930 [==============================] - 25s 534us/step - loss: 0.7641 - accuracy: 0.0000e+00 - val_loss: 1.8338 - val_accuracy: 0.0000e+00\n",
      "Epoch 36/100\n",
      "46930/46930 [==============================] - 25s 523us/step - loss: 0.7669 - accuracy: 0.0000e+00 - val_loss: 1.2796 - val_accuracy: 0.0000e+00\n",
      "Epoch 37/100\n",
      "46930/46930 [==============================] - 25s 536us/step - loss: 0.7761 - accuracy: 0.0000e+00 - val_loss: 2.1345 - val_accuracy: 0.0000e+00\n",
      "Epoch 38/100\n",
      "46930/46930 [==============================] - 25s 535us/step - loss: 0.7573 - accuracy: 0.0000e+00 - val_loss: 1.5533 - val_accuracy: 0.0000e+00\n",
      "Epoch 39/100\n",
      "46930/46930 [==============================] - 25s 542us/step - loss: 0.7527 - accuracy: 0.0000e+00 - val_loss: 1.1108 - val_accuracy: 0.0000e+00\n",
      "Epoch 40/100\n",
      "46930/46930 [==============================] - 25s 537us/step - loss: 0.7371 - accuracy: 0.0000e+00 - val_loss: 1.7003 - val_accuracy: 0.0000e+00\n",
      "Epoch 41/100\n",
      "46930/46930 [==============================] - 25s 527us/step - loss: 0.7507 - accuracy: 0.0000e+00 - val_loss: 1.5335 - val_accuracy: 0.0000e+00\n",
      "Epoch 42/100\n",
      "46930/46930 [==============================] - 25s 524us/step - loss: 0.7347 - accuracy: 0.0000e+00 - val_loss: 1.4144 - val_accuracy: 0.0000e+00\n",
      "Epoch 43/100\n",
      "46930/46930 [==============================] - 25s 529us/step - loss: 0.7265 - accuracy: 0.0000e+00 - val_loss: 1.0684 - val_accuracy: 0.0000e+00\n",
      "Epoch 44/100\n",
      "46930/46930 [==============================] - 25s 532us/step - loss: 0.7283 - accuracy: 0.0000e+00 - val_loss: 9.0005 - val_accuracy: 0.0000e+00\n",
      "Epoch 45/100\n",
      "46930/46930 [==============================] - 25s 523us/step - loss: 0.7185 - accuracy: 0.0000e+00 - val_loss: 1.1092 - val_accuracy: 0.0000e+00\n",
      "Epoch 46/100\n",
      "46930/46930 [==============================] - 25s 534us/step - loss: 0.7176 - accuracy: 0.0000e+00 - val_loss: 1.0428 - val_accuracy: 0.0000e+00\n",
      "Epoch 47/100\n",
      "46930/46930 [==============================] - 25s 532us/step - loss: 0.6958 - accuracy: 0.0000e+00 - val_loss: 1.0847 - val_accuracy: 0.0000e+00\n",
      "Epoch 48/100\n",
      "46930/46930 [==============================] - 25s 535us/step - loss: 0.7060 - accuracy: 0.0000e+00 - val_loss: 1.1913 - val_accuracy: 0.0000e+00\n",
      "Epoch 49/100\n",
      "46930/46930 [==============================] - 26s 552us/step - loss: 0.7075 - accuracy: 0.0000e+00 - val_loss: 1.1475 - val_accuracy: 0.0000e+00\n",
      "Epoch 50/100\n",
      "46930/46930 [==============================] - 29s 611us/step - loss: 0.6954 - accuracy: 0.0000e+00 - val_loss: 1.1939 - val_accuracy: 0.0000e+00\n",
      "Epoch 51/100\n",
      "46930/46930 [==============================] - 26s 559us/step - loss: 0.6971 - accuracy: 0.0000e+00 - val_loss: 1.1827 - val_accuracy: 0.0000e+00\n",
      "Epoch 52/100\n",
      "46930/46930 [==============================] - 24s 512us/step - loss: 0.6896 - accuracy: 0.0000e+00 - val_loss: 1.8509 - val_accuracy: 0.0000e+00\n",
      "Epoch 53/100\n",
      "46930/46930 [==============================] - 25s 522us/step - loss: 0.6859 - accuracy: 0.0000e+00 - val_loss: 1.4283 - val_accuracy: 0.0000e+00\n",
      "Epoch 54/100\n",
      "46930/46930 [==============================] - 25s 523us/step - loss: 0.6795 - accuracy: 0.0000e+00 - val_loss: 0.9896 - val_accuracy: 0.0000e+00\n",
      "Epoch 55/100\n",
      "46930/46930 [==============================] - 24s 517us/step - loss: 0.6940 - accuracy: 0.0000e+00 - val_loss: 1.2453 - val_accuracy: 0.0000e+00\n",
      "Epoch 56/100\n",
      "46930/46930 [==============================] - 24s 515us/step - loss: 0.6824 - accuracy: 0.0000e+00 - val_loss: 1.5230 - val_accuracy: 0.0000e+00\n",
      "Epoch 57/100\n",
      "46930/46930 [==============================] - 24s 515us/step - loss: 0.6883 - accuracy: 0.0000e+00 - val_loss: 1.0810 - val_accuracy: 0.0000e+00\n",
      "Epoch 58/100\n",
      "46930/46930 [==============================] - 24s 514us/step - loss: 0.6751 - accuracy: 0.0000e+00 - val_loss: 1.7359 - val_accuracy: 0.0000e+00\n",
      "Epoch 59/100\n",
      "46930/46930 [==============================] - 24s 513us/step - loss: 0.6740 - accuracy: 0.0000e+00 - val_loss: 1.2433 - val_accuracy: 0.0000e+00\n",
      "Epoch 60/100\n",
      "46930/46930 [==============================] - 25s 523us/step - loss: 0.6750 - accuracy: 0.0000e+00 - val_loss: 1.0909 - val_accuracy: 0.0000e+00\n",
      "Epoch 61/100\n",
      "46930/46930 [==============================] - 25s 529us/step - loss: 0.6678 - accuracy: 0.0000e+00 - val_loss: 1.4012 - val_accuracy: 0.0000e+00\n",
      "Epoch 62/100\n",
      "46930/46930 [==============================] - 24s 521us/step - loss: 0.6653 - accuracy: 0.0000e+00 - val_loss: 0.8400 - val_accuracy: 0.0000e+00\n",
      "Epoch 63/100\n",
      "46930/46930 [==============================] - 24s 511us/step - loss: 0.6585 - accuracy: 0.0000e+00 - val_loss: 1.1097 - val_accuracy: 0.0000e+00\n",
      "Epoch 64/100\n",
      "46930/46930 [==============================] - 24s 515us/step - loss: 0.6673 - accuracy: 0.0000e+00 - val_loss: 2.7655 - val_accuracy: 0.0000e+00\n",
      "Epoch 65/100\n",
      "46930/46930 [==============================] - 25s 523us/step - loss: 0.6557 - accuracy: 0.0000e+00 - val_loss: 1.1462 - val_accuracy: 0.0000e+00\n",
      "Epoch 66/100\n",
      "46930/46930 [==============================] - 24s 521us/step - loss: 0.6699 - accuracy: 0.0000e+00 - val_loss: 1.0768 - val_accuracy: 0.0000e+00\n",
      "Epoch 67/100\n",
      "46930/46930 [==============================] - 25s 523us/step - loss: 0.6596 - accuracy: 0.0000e+00 - val_loss: 2.0719 - val_accuracy: 0.0000e+00\n",
      "Epoch 68/100\n",
      "46930/46930 [==============================] - 24s 518us/step - loss: 0.6475 - accuracy: 0.0000e+00 - val_loss: 0.8573 - val_accuracy: 0.0000e+00\n",
      "Epoch 69/100\n",
      "46930/46930 [==============================] - 24s 522us/step - loss: 0.6577 - accuracy: 0.0000e+00 - val_loss: 0.7854 - val_accuracy: 0.0000e+00\n",
      "Epoch 70/100\n",
      "46930/46930 [==============================] - 24s 515us/step - loss: 0.6539 - accuracy: 0.0000e+00 - val_loss: 0.7900 - val_accuracy: 0.0000e+00\n",
      "Epoch 71/100\n",
      "46930/46930 [==============================] - 24s 510us/step - loss: 0.6425 - accuracy: 0.0000e+00 - val_loss: 0.9547 - val_accuracy: 0.0000e+00\n",
      "Epoch 72/100\n",
      "46930/46930 [==============================] - 24s 506us/step - loss: 0.6548 - accuracy: 0.0000e+00 - val_loss: 0.9010 - val_accuracy: 0.0000e+00\n",
      "Epoch 73/100\n",
      "46930/46930 [==============================] - 24s 505us/step - loss: 0.6514 - accuracy: 0.0000e+00 - val_loss: 0.8217 - val_accuracy: 0.0000e+00\n",
      "Epoch 74/100\n",
      "46930/46930 [==============================] - 24s 508us/step - loss: 0.6513 - accuracy: 0.0000e+00 - val_loss: 1.4684 - val_accuracy: 0.0000e+00\n",
      "Epoch 75/100\n",
      "46930/46930 [==============================] - 24s 513us/step - loss: 0.6425 - accuracy: 0.0000e+00 - val_loss: 0.8666 - val_accuracy: 0.0000e+00\n",
      "Epoch 76/100\n",
      "46930/46930 [==============================] - 24s 508us/step - loss: 0.6429 - accuracy: 0.0000e+00 - val_loss: 0.9109 - val_accuracy: 0.0000e+00\n",
      "Epoch 77/100\n",
      "46930/46930 [==============================] - 24s 515us/step - loss: 0.6337 - accuracy: 0.0000e+00 - val_loss: 1.8123 - val_accuracy: 0.0000e+00\n",
      "Epoch 78/100\n",
      "46930/46930 [==============================] - 24s 515us/step - loss: 0.6492 - accuracy: 0.0000e+00 - val_loss: 0.8169 - val_accuracy: 0.0000e+00\n",
      "Epoch 79/100\n",
      "46930/46930 [==============================] - 24s 515us/step - loss: 0.6449 - accuracy: 0.0000e+00 - val_loss: 2.2004 - val_accuracy: 0.0000e+00\n",
      "Epoch 80/100\n",
      "46930/46930 [==============================] - 26s 545us/step - loss: 0.6347 - accuracy: 0.0000e+00 - val_loss: 0.9520 - val_accuracy: 0.0000e+00\n",
      "Epoch 81/100\n",
      "46930/46930 [==============================] - 27s 584us/step - loss: 0.6367 - accuracy: 0.0000e+00 - val_loss: 1.0506 - val_accuracy: 0.0000e+00\n",
      "Epoch 82/100\n",
      "46930/46930 [==============================] - 28s 591us/step - loss: 0.6322 - accuracy: 0.0000e+00 - val_loss: 1.1593 - val_accuracy: 0.0000e+00\n",
      "Epoch 83/100\n",
      "46930/46930 [==============================] - 26s 554us/step - loss: 0.6296 - accuracy: 0.0000e+00 - val_loss: 1.4336 - val_accuracy: 0.0000e+00\n",
      "Epoch 84/100\n",
      "46930/46930 [==============================] - 25s 527us/step - loss: 0.6345 - accuracy: 0.0000e+00 - val_loss: 1.1103 - val_accuracy: 0.0000e+00\n",
      "Epoch 85/100\n",
      "46930/46930 [==============================] - 25s 532us/step - loss: 0.6326 - accuracy: 0.0000e+00 - val_loss: 0.8063 - val_accuracy: 0.0000e+00\n",
      "Epoch 86/100\n",
      "46930/46930 [==============================] - 26s 544us/step - loss: 0.6207 - accuracy: 0.0000e+00 - val_loss: 0.9752 - val_accuracy: 0.0000e+00\n",
      "Epoch 87/100\n",
      "46930/46930 [==============================] - 25s 529us/step - loss: 0.6369 - accuracy: 0.0000e+00 - val_loss: 0.7806 - val_accuracy: 0.0000e+00\n",
      "Epoch 88/100\n",
      "46930/46930 [==============================] - 25s 528us/step - loss: 0.6335 - accuracy: 0.0000e+00 - val_loss: 0.8150 - val_accuracy: 0.0000e+00\n",
      "Epoch 89/100\n",
      "46930/46930 [==============================] - 25s 532us/step - loss: 0.6207 - accuracy: 0.0000e+00 - val_loss: 0.8744 - val_accuracy: 0.0000e+00\n",
      "Epoch 90/100\n",
      "46930/46930 [==============================] - 26s 544us/step - loss: 0.6256 - accuracy: 0.0000e+00 - val_loss: 1.0567 - val_accuracy: 0.0000e+00\n",
      "Epoch 91/100\n",
      "46930/46930 [==============================] - 25s 533us/step - loss: 0.6334 - accuracy: 0.0000e+00 - val_loss: 0.7623 - val_accuracy: 0.0000e+00\n",
      "Epoch 92/100\n",
      "46930/46930 [==============================] - 25s 539us/step - loss: 0.6197 - accuracy: 0.0000e+00 - val_loss: 0.8652 - val_accuracy: 0.0000e+00\n",
      "Epoch 93/100\n",
      "46930/46930 [==============================] - 25s 539us/step - loss: 0.6173 - accuracy: 0.0000e+00 - val_loss: 1.3834 - val_accuracy: 0.0000e+00\n",
      "Epoch 94/100\n",
      "46930/46930 [==============================] - 25s 541us/step - loss: 0.6255 - accuracy: 0.0000e+00 - val_loss: 0.8986 - val_accuracy: 0.0000e+00\n",
      "Epoch 95/100\n",
      "46930/46930 [==============================] - 25s 537us/step - loss: 0.6205 - accuracy: 0.0000e+00 - val_loss: 0.9229 - val_accuracy: 0.0000e+00\n",
      "Epoch 96/100\n",
      "46930/46930 [==============================] - 25s 534us/step - loss: 0.6163 - accuracy: 0.0000e+00 - val_loss: 1.1128 - val_accuracy: 0.0000e+00\n",
      "Epoch 97/100\n",
      "46930/46930 [==============================] - 26s 545us/step - loss: 0.6145 - accuracy: 0.0000e+00 - val_loss: 1.0728 - val_accuracy: 0.0000e+00\n",
      "Epoch 98/100\n",
      "46930/46930 [==============================] - 26s 547us/step - loss: 0.6076 - accuracy: 0.0000e+00 - val_loss: 0.8122 - val_accuracy: 0.0000e+00\n",
      "Epoch 99/100\n",
      "46930/46930 [==============================] - 25s 540us/step - loss: 0.6265 - accuracy: 0.0000e+00 - val_loss: 0.7409 - val_accuracy: 0.0000e+00\n",
      "Epoch 100/100\n",
      "46930/46930 [==============================] - 25s 540us/step - loss: 0.6131 - accuracy: 0.0000e+00 - val_loss: 1.5175 - val_accuracy: 0.0000e+00\n"
     ]
    }
   ],
   "source": [
    "x_inp = numpy.asarray(x_inp).astype(numpy.float32)\n",
    "y_inp = numpy.asarray(y_inp).astype(numpy.float32)\n",
    "\n",
    "# Training\n",
    "\n",
    "classifier.compile(optimizer = 'adam', loss = 'mean_squared_error', metrics = ['accuracy'])\n",
    "\n",
    "history=classifier.fit(x_inp, y_inp, batch_size = 10, epochs = 100, validation_data=(x_test,y_test))"
   ]
  },
  {
   "cell_type": "code",
   "execution_count": 25,
   "id": "f96fcb20",
   "metadata": {},
   "outputs": [
    {
     "data": {
      "text/plain": [
       "array([-0.5163246, -3.2355459, -2.9801757, ..., -1.9412857, -2.7568426,\n",
       "       -7.5405083], dtype=float32)"
      ]
     },
     "execution_count": 25,
     "metadata": {},
     "output_type": "execute_result"
    }
   ],
   "source": [
    "y_inp"
   ]
  },
  {
   "cell_type": "code",
   "execution_count": 26,
   "id": "1f1cab50",
   "metadata": {},
   "outputs": [
    {
     "data": {
      "image/png": "[encoded data removed]",
      "text/plain": [
       "<Figure size 432x288 with 1 Axes>"
      ]
     },
     "metadata": {
      "needs_background": "light"
     },
     "output_type": "display_data"
    },
    {
     "data": {
      "image/png": "[encoded data removed]",
      "text/plain": [
       "<Figure size 432x288 with 1 Axes>"
      ]
     },
     "metadata": {
      "needs_background": "light"
     },
     "output_type": "display_data"
    },
    {
     "data": {
      "image/png": "[encoded data removed]",
      "text/plain": [
       "<Figure size 432x288 with 1 Axes>"
      ]
     },
     "metadata": {
      "needs_background": "light"
     },
     "output_type": "display_data"
    }
   ],
   "source": [
    "# Prediction\n",
    "import matplotlib.pyplot as plt\n",
    "\n",
    "y_pred = classifier.predict(x_test)\n",
    "mean_squared_error(y_test,y_pred)\n",
    "r2_score(y_test, y_pred)\n",
    "\n",
    "plt.plot(history.history['loss'])\n",
    "plt.title('Model Loss')\n",
    "plt.ylabel('LOSS')\n",
    "plt.xlabel('EPOCH')\n",
    "plt.legend(['train'], loc='upper left')\n",
    "plt.show()\n",
    "\n",
    "plt.plot(history.history['val_loss'])\n",
    "plt.title('Model Validation Loss')\n",
    "plt.ylabel('VAL LOSS')\n",
    "plt.xlabel('EPOCH')\n",
    "plt.legend(['train'], loc='upper left')\n",
    "plt.show()\n",
    "\n",
    "def generatePredictionPlot(y_pred, y_test):\n",
    "    plt.scatter(x=y_test, y=y_pred, c='navy', alpha=0.6)\n",
    "    plt.plot(y_test, y_test,color='cyan')\n",
    "    plt.title('Predicted vs Actual values')\n",
    "    plt.xlabel('Actual values')\n",
    "    plt.ylabel('Predicted values')\n",
    "    plt.show()\n",
    "    \n",
    "generatePredictionPlot(y_pred, y_test)"
   ]
  },
  {
   "cell_type": "code",
   "execution_count": 27,
   "id": "8089312b",
   "metadata": {},
   "outputs": [
    {
     "data": {
      "text/plain": [
       "1.5174765896869113"
      ]
     },
     "execution_count": 27,
     "metadata": {},
     "output_type": "execute_result"
    }
   ],
   "source": [
    "mean_squared_error(y_test,y_pred)"
   ]
  },
  {
   "cell_type": "code",
   "execution_count": 28,
   "id": "1c950c4f",
   "metadata": {},
   "outputs": [
    {
     "data": {
      "text/plain": [
       "0.9216278762630277"
      ]
     },
     "execution_count": 28,
     "metadata": {},
     "output_type": "execute_result"
    }
   ],
   "source": [
    "r2_score(y_test, y_pred)"
   ]
  },
  {
   "cell_type": "code",
   "execution_count": null,
   "id": "8c6c3a52",
   "metadata": {},
   "outputs": [],
   "source": []
  },
  {
   "cell_type": "code",
   "execution_count": null,
   "id": "650d862c",
   "metadata": {},
   "outputs": [],
   "source": []
  }
 ],
 "metadata": {
  "kernelspec": {
   "display_name": "Python 3 (ipykernel)",
   "language": "python",
   "name": "python3"
  },
  "language_info": {
   "codemirror_mode": {
    "name": "ipython",
    "version": 3
   },
   "file_extension": ".py",
   "mimetype": "text/x-python",
   "name": "python",
   "nbconvert_exporter": "python",
   "pygments_lexer": "ipython3",
   "version": "3.10.2"
  }
 },
 "nbformat": 4,
 "nbformat_minor": 5
}
