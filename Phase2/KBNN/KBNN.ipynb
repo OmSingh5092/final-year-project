{
 "cells": [
  {
   "cell_type": "code",
   "execution_count": 1,
   "id": "4b05c8b8",
   "metadata": {},
   "outputs": [],
   "source": [
    "import pandas as pd\n",
    "from sklearn.model_selection import train_test_split\n",
    "import numpy\n"
   ]
  },
  {
   "cell_type": "code",
   "execution_count": 2,
   "id": "64011305",
   "metadata": {},
   "outputs": [],
   "source": [
    "dataset = pd.read_csv('../../Phase1/DataSets/apdra_dataset.csv')\n",
    "\n",
    "x = pd.DataFrame(dataset.iloc[:, 0:3].values)\n",
    "y = dataset.iloc[:, 3].values\n",
    "\n",
    "x_train, x_test, y_train, y_test = train_test_split(x, y, test_size = 0.2, random_state = 123)\n",
    "\n",
    "x_inp = [];\n",
    "y_inp = [];\n",
    "\n",
    "\n",
    "x_inp.extend(numpy.array(x_train))\n",
    "\n",
    "y_inp.extend(numpy.array(y_train))\n",
    "\n",
    "DATA_SIZE = 500000;\n",
    "\n",
    "decision_tree_w = 10;\n",
    "random_forest_w = 10;\n",
    "knn_w = 10;\n",
    "xg_boost_w = 10;\n",
    "\n",
    "total_w = decision_tree_w + random_forest_w + knn_w + xg_boost_w;\n",
    "\n",
    "def randomSample(low, high, size):\n",
    "    rand_rad = numpy.random.uniform(low, high, size)\n",
    "    for i in range(0, rand_rad.size):\n",
    "        rand_rad[i] = round(rand_rad[i], 2)\n",
    "    return rand_rad\n",
    "\n",
    "def genDataSet (size):\n",
    "    s = int(size);\n",
    "    rand_rad = randomSample(8, 10, s)\n",
    "    rand_height = randomSample(13, 15, s)\n",
    "    rand_freq = randomSample(3, 6, s)\n",
    "\n",
    "    rand_x = []\n",
    "    for i in range(0, s):\n",
    "        rand_x.append([rand_height[i], rand_rad[i], rand_freq[i]])\n",
    "    return rand_x\n",
    "    \n",
    "    \n"
   ]
  },
  {
   "cell_type": "code",
   "execution_count": 3,
   "id": "741e1126",
   "metadata": {},
   "outputs": [
    {
     "data": {
      "text/plain": [
       "29136"
      ]
     },
     "execution_count": 3,
     "metadata": {},
     "output_type": "execute_result"
    }
   ],
   "source": [
    "len(x_inp)"
   ]
  },
  {
   "cell_type": "code",
   "execution_count": 4,
   "id": "b3db4ccc",
   "metadata": {},
   "outputs": [],
   "source": [
    "# Decision Tree\n",
    "\n",
    "from sklearn.tree import DecisionTreeRegressor\n",
    "DTReg = DecisionTreeRegressor()\n",
    "DTReg.fit(x_train,y_train)\n",
    "\n",
    "x_gen = genDataSet(DATA_SIZE * (decision_tree_w/total_w))\n",
    "\n",
    "x_inp.extend(numpy.array(x_gen))\n",
    "y_inp.extend(numpy.array(DTReg.predict(x_gen)))"
   ]
  },
  {
   "cell_type": "code",
   "execution_count": 5,
   "id": "a5f549d0",
   "metadata": {},
   "outputs": [
    {
     "data": {
      "text/plain": [
       "154136"
      ]
     },
     "execution_count": 5,
     "metadata": {},
     "output_type": "execute_result"
    }
   ],
   "source": [
    "len(x_inp)"
   ]
  },
  {
   "cell_type": "code",
   "execution_count": 6,
   "id": "0db15aa1",
   "metadata": {},
   "outputs": [],
   "source": [
    "# KNN\n",
    "\n",
    "from sklearn.neighbors import KNeighborsRegressor\n",
    "\n",
    "knn = KNeighborsRegressor(n_neighbors=5)\n",
    " \n",
    "knn.fit(x_train, y_train)\n",
    "\n",
    "x_gen = genDataSet(DATA_SIZE * (knn_w/total_w))\n",
    "\n",
    "x_inp.extend(numpy.array(x_gen))\n",
    "y_inp.extend(numpy.array(knn.predict(x_gen)))\n"
   ]
  },
  {
   "cell_type": "code",
   "execution_count": 7,
   "id": "74e068e4",
   "metadata": {},
   "outputs": [
    {
     "data": {
      "text/plain": [
       "279136"
      ]
     },
     "execution_count": 7,
     "metadata": {},
     "output_type": "execute_result"
    }
   ],
   "source": [
    "len(x_inp)"
   ]
  },
  {
   "cell_type": "code",
   "execution_count": 8,
   "id": "75dc2c38",
   "metadata": {},
   "outputs": [],
   "source": [
    "# Random Forest\n",
    "\n",
    "\n",
    "from sklearn.ensemble import RandomForestRegressor\n",
    "\n",
    "RFreg = RandomForestRegressor(n_estimators = 10, random_state = 0)\n",
    "\n",
    "RFreg.fit(x_train,y_train)\n",
    "\n",
    "x_gen = genDataSet(DATA_SIZE * (random_forest_w/total_w))\n",
    "\n",
    "x_inp.extend(numpy.array(x_gen))\n",
    "y_inp.extend(numpy.array(RFreg.predict(x_gen)))\n"
   ]
  },
  {
   "cell_type": "code",
   "execution_count": 9,
   "id": "5a8b20e7",
   "metadata": {},
   "outputs": [
    {
     "data": {
      "text/plain": [
       "404136"
      ]
     },
     "execution_count": 9,
     "metadata": {},
     "output_type": "execute_result"
    }
   ],
   "source": [
    "len(x_inp)"
   ]
  },
  {
   "cell_type": "code",
   "execution_count": 10,
   "id": "5515c89f",
   "metadata": {},
   "outputs": [
    {
     "name": "stderr",
     "output_type": "stream",
     "text": [
      "C:\\Users\\iayus\\AppData\\Roaming\\Python\\Python38\\site-packages\\xgboost\\compat.py:36: FutureWarning: pandas.Int64Index is deprecated and will be removed from pandas in a future version. Use pandas.Index with the appropriate dtype instead.\n",
      "  from pandas import MultiIndex, Int64Index\n",
      "C:\\Users\\iayus\\AppData\\Roaming\\Python\\Python38\\site-packages\\xgboost\\data.py:262: FutureWarning: pandas.Int64Index is deprecated and will be removed from pandas in a future version. Use pandas.Index with the appropriate dtype instead.\n",
      "  elif isinstance(data.columns, (pd.Int64Index, pd.RangeIndex)):\n"
     ]
    },
    {
     "name": "stdout",
     "output_type": "stream",
     "text": [
      "[11:28:04] WARNING: C:/Users/Administrator/workspace/xgboost-win64_release_1.5.1/src/objective/regression_obj.cu:188: reg:linear is now deprecated in favor of reg:squarederror.\n"
     ]
    }
   ],
   "source": [
    "# XG Boost\n",
    "\n",
    "\n",
    "import xgboost as xgb\n",
    "\n",
    "xgb_reg = xgb.XGBRegressor(n_estimators=100, objective='reg:linear', seed = 123)\n",
    "\n",
    "# Train the model with train data sets\n",
    "xgb_reg.fit(x_train, y_train)\n",
    "\n",
    "x_gen = genDataSet(DATA_SIZE * (xg_boost_w/total_w))\n",
    "\n",
    "x_inp.extend(numpy.array(x_gen))\n",
    "y_inp.extend(numpy.array(xgb_reg.predict(numpy.array(x_gen))))\n"
   ]
  },
  {
   "cell_type": "code",
   "execution_count": 11,
   "id": "78abd514",
   "metadata": {},
   "outputs": [
    {
     "data": {
      "text/plain": [
       "529136"
      ]
     },
     "execution_count": 11,
     "metadata": {},
     "output_type": "execute_result"
    }
   ],
   "source": [
    "len(x_inp)"
   ]
  },
  {
   "cell_type": "code",
   "execution_count": 12,
   "id": "030787e8",
   "metadata": {},
   "outputs": [],
   "source": [
    "# KBNN\n",
    "\n",
    "import keras\n",
    "from keras.models import Sequential\n",
    "from keras.layers import Dense\n",
    "\n",
    "# Artificial NN\n",
    "\n",
    "classifier = Sequential()\n",
    "\n",
    "# Input Layer\n",
    "classifier.add(Dense(units = 6, activation = 'relu', input_dim = 3))\n",
    "\n",
    "# 1st Hidden Layer\n",
    "classifier.add(Dense(units = 8, activation = 'relu'))\n",
    "\n",
    "# 2nd Hidden Layer\n",
    "classifier.add(Dense(units = 3, activation = 'relu'))\n",
    "\n",
    "# Output Layer\n",
    "classifier.add(Dense(units = 1, activation = 'linear'))"
   ]
  },
  {
   "cell_type": "code",
   "execution_count": 13,
   "id": "cdbdf7b0",
   "metadata": {
    "scrolled": true
   },
   "outputs": [
    {
     "name": "stdout",
     "output_type": "stream",
     "text": [
      "Epoch 1/100\n",
      "52914/52914 [==============================] - 68s 1ms/step - loss: 19.0565 - accuracy: 0.0000e+00 - val_loss: 16.8842 - val_accuracy: 0.0000e+00\n",
      "Epoch 2/100\n",
      "52914/52914 [==============================] - 63s 1ms/step - loss: 6.6759 - accuracy: 0.0000e+00 - val_loss: 2.7020 - val_accuracy: 0.0000e+00\n",
      "Epoch 3/100\n",
      "52914/52914 [==============================] - 63s 1ms/step - loss: 2.8621 - accuracy: 0.0000e+00 - val_loss: 2.5690 - val_accuracy: 0.0000e+00\n",
      "Epoch 4/100\n",
      "52914/52914 [==============================] - 64s 1ms/step - loss: 2.7484 - accuracy: 0.0000e+00 - val_loss: 2.4813 - val_accuracy: 0.0000e+00\n",
      "Epoch 5/100\n",
      "52914/52914 [==============================] - 63s 1ms/step - loss: 2.6946 - accuracy: 0.0000e+00 - val_loss: 2.6163 - val_accuracy: 0.0000e+00\n",
      "Epoch 6/100\n",
      "52914/52914 [==============================] - 63s 1ms/step - loss: 2.6063 - accuracy: 0.0000e+00 - val_loss: 3.2122 - val_accuracy: 0.0000e+00\n",
      "Epoch 7/100\n",
      "52914/52914 [==============================] - 62s 1ms/step - loss: 2.5888 - accuracy: 0.0000e+00 - val_loss: 5.3241 - val_accuracy: 0.0000e+00\n",
      "Epoch 8/100\n",
      "52914/52914 [==============================] - 62s 1ms/step - loss: 2.5324 - accuracy: 0.0000e+00 - val_loss: 2.3392 - val_accuracy: 0.0000e+00\n",
      "Epoch 9/100\n",
      "52914/52914 [==============================] - 62s 1ms/step - loss: 2.4938 - accuracy: 0.0000e+00 - val_loss: 2.4004 - val_accuracy: 0.0000e+00\n",
      "Epoch 10/100\n",
      "52914/52914 [==============================] - 63s 1ms/step - loss: 2.4330 - accuracy: 0.0000e+00 - val_loss: 3.0919 - val_accuracy: 0.0000e+00\n",
      "Epoch 11/100\n",
      "52914/52914 [==============================] - 63s 1ms/step - loss: 2.3349 - accuracy: 0.0000e+00 - val_loss: 2.1706 - val_accuracy: 0.0000e+00\n",
      "Epoch 12/100\n",
      "52914/52914 [==============================] - 63s 1ms/step - loss: 2.0069 - accuracy: 0.0000e+00 - val_loss: 2.1723 - val_accuracy: 0.0000e+00\n",
      "Epoch 13/100\n",
      "52914/52914 [==============================] - 63s 1ms/step - loss: 1.9191 - accuracy: 0.0000e+00 - val_loss: 1.6072 - val_accuracy: 0.0000e+00\n",
      "Epoch 14/100\n",
      "52914/52914 [==============================] - 63s 1ms/step - loss: 1.8873 - accuracy: 0.0000e+00 - val_loss: 3.1392 - val_accuracy: 0.0000e+00\n",
      "Epoch 15/100\n",
      "52914/52914 [==============================] - 63s 1ms/step - loss: 1.8656 - accuracy: 0.0000e+00 - val_loss: 1.9308 - val_accuracy: 0.0000e+00\n",
      "Epoch 16/100\n",
      "52914/52914 [==============================] - 63s 1ms/step - loss: 1.7930 - accuracy: 0.0000e+00 - val_loss: 1.6420 - val_accuracy: 0.0000e+00\n",
      "Epoch 17/100\n",
      "52914/52914 [==============================] - 60s 1ms/step - loss: 1.7902 - accuracy: 0.0000e+00 - val_loss: 1.6151 - val_accuracy: 0.0000e+00\n",
      "Epoch 18/100\n",
      "52914/52914 [==============================] - 59s 1ms/step - loss: 1.7487 - accuracy: 0.0000e+00 - val_loss: 1.9231 - val_accuracy: 0.0000e+00\n",
      "Epoch 19/100\n",
      "52914/52914 [==============================] - 60s 1ms/step - loss: 1.7237 - accuracy: 0.0000e+00 - val_loss: 1.4689 - val_accuracy: 0.0000e+00\n",
      "Epoch 20/100\n",
      "52914/52914 [==============================] - 60s 1ms/step - loss: 1.6920 - accuracy: 0.0000e+00 - val_loss: 1.9818 - val_accuracy: 0.0000e+00\n",
      "Epoch 21/100\n",
      "52914/52914 [==============================] - 59s 1ms/step - loss: 1.6926 - accuracy: 0.0000e+00 - val_loss: 1.7445 - val_accuracy: 0.0000e+00\n",
      "Epoch 22/100\n",
      "52914/52914 [==============================] - 60s 1ms/step - loss: 1.6624 - accuracy: 0.0000e+00 - val_loss: 1.4647 - val_accuracy: 0.0000e+00\n",
      "Epoch 23/100\n",
      "52914/52914 [==============================] - 67s 1ms/step - loss: 1.6642 - accuracy: 0.0000e+00 - val_loss: 1.4219 - val_accuracy: 0.0000e+00\n",
      "Epoch 24/100\n",
      "52914/52914 [==============================] - 65s 1ms/step - loss: 1.6550 - accuracy: 0.0000e+00 - val_loss: 2.0814 - val_accuracy: 0.0000e+00\n",
      "Epoch 25/100\n",
      "52914/52914 [==============================] - 64s 1ms/step - loss: 1.6307 - accuracy: 0.0000e+00 - val_loss: 1.5225 - val_accuracy: 0.0000e+00\n",
      "Epoch 26/100\n",
      "52914/52914 [==============================] - 65s 1ms/step - loss: 1.6319 - accuracy: 0.0000e+00 - val_loss: 1.4800 - val_accuracy: 0.0000e+00\n",
      "Epoch 27/100\n",
      "52914/52914 [==============================] - 65s 1ms/step - loss: 1.6231 - accuracy: 0.0000e+00 - val_loss: 1.4610 - val_accuracy: 0.0000e+00\n",
      "Epoch 28/100\n",
      "52914/52914 [==============================] - 65s 1ms/step - loss: 1.6262 - accuracy: 0.0000e+00 - val_loss: 1.4670 - val_accuracy: 0.0000e+00\n",
      "Epoch 29/100\n",
      "52914/52914 [==============================] - 64s 1ms/step - loss: 1.6119 - accuracy: 0.0000e+00 - val_loss: 2.4648 - val_accuracy: 0.0000e+00\n",
      "Epoch 30/100\n",
      "52914/52914 [==============================] - 65s 1ms/step - loss: 1.5964 - accuracy: 0.0000e+00 - val_loss: 3.2474 - val_accuracy: 0.0000e+00\n",
      "Epoch 31/100\n",
      "52914/52914 [==============================] - 68s 1ms/step - loss: 1.5973 - accuracy: 0.0000e+00 - val_loss: 1.4209 - val_accuracy: 0.0000e+00\n",
      "Epoch 32/100\n",
      "52914/52914 [==============================] - 64s 1ms/step - loss: 1.5783 - accuracy: 0.0000e+00 - val_loss: 2.1063 - val_accuracy: 0.0000e+00\n",
      "Epoch 33/100\n",
      "52914/52914 [==============================] - 65s 1ms/step - loss: 1.5955 - accuracy: 0.0000e+00 - val_loss: 1.3798 - val_accuracy: 0.0000e+00\n",
      "Epoch 34/100\n",
      "52914/52914 [==============================] - 68s 1ms/step - loss: 1.5673 - accuracy: 0.0000e+00 - val_loss: 1.4397 - val_accuracy: 0.0000e+00\n",
      "Epoch 35/100\n",
      "52914/52914 [==============================] - 73s 1ms/step - loss: 1.5830 - accuracy: 0.0000e+00 - val_loss: 1.6770 - val_accuracy: 0.0000e+00\n",
      "Epoch 36/100\n",
      "52914/52914 [==============================] - 69s 1ms/step - loss: 1.5740 - accuracy: 0.0000e+00 - val_loss: 1.6220 - val_accuracy: 0.0000e+00\n",
      "Epoch 37/100\n",
      "52914/52914 [==============================] - 66s 1ms/step - loss: 1.5617 - accuracy: 0.0000e+00 - val_loss: 1.5086 - val_accuracy: 0.0000e+00\n",
      "Epoch 38/100\n",
      "52914/52914 [==============================] - 66s 1ms/step - loss: 1.5458 - accuracy: 0.0000e+00 - val_loss: 3.3910 - val_accuracy: 0.0000e+00\n",
      "Epoch 39/100\n",
      "52914/52914 [==============================] - 66s 1ms/step - loss: 1.5462 - accuracy: 0.0000e+00 - val_loss: 1.4212 - val_accuracy: 0.0000e+00\n",
      "Epoch 40/100\n",
      "52914/52914 [==============================] - 71s 1ms/step - loss: 1.5365 - accuracy: 0.0000e+00 - val_loss: 3.6090 - val_accuracy: 0.0000e+00\n",
      "Epoch 41/100\n",
      "52914/52914 [==============================] - 72s 1ms/step - loss: 1.5414 - accuracy: 0.0000e+00 - val_loss: 1.6895 - val_accuracy: 0.0000e+00\n",
      "Epoch 42/100\n",
      "52914/52914 [==============================] - 73s 1ms/step - loss: 1.5532 - accuracy: 0.0000e+00 - val_loss: 1.8183 - val_accuracy: 0.0000e+00\n",
      "Epoch 43/100\n",
      "52914/52914 [==============================] - 74s 1ms/step - loss: 1.5262 - accuracy: 0.0000e+00 - val_loss: 1.3892 - val_accuracy: 0.0000e+00\n",
      "Epoch 44/100\n",
      "52914/52914 [==============================] - 73s 1ms/step - loss: 1.5203 - accuracy: 0.0000e+00 - val_loss: 1.8644 - val_accuracy: 0.0000e+00\n",
      "Epoch 45/100\n",
      "52914/52914 [==============================] - 74s 1ms/step - loss: 1.5306 - accuracy: 0.0000e+00 - val_loss: 1.7251 - val_accuracy: 0.0000e+00\n",
      "Epoch 46/100\n",
      "52914/52914 [==============================] - 75s 1ms/step - loss: 1.5142 - accuracy: 0.0000e+00 - val_loss: 1.6578 - val_accuracy: 0.0000e+00\n",
      "Epoch 47/100\n",
      "52914/52914 [==============================] - 85s 2ms/step - loss: 1.5029 - accuracy: 0.0000e+00 - val_loss: 2.5027 - val_accuracy: 0.0000e+00\n",
      "Epoch 48/100\n",
      "52914/52914 [==============================] - 80s 2ms/step - loss: 1.5079 - accuracy: 0.0000e+00 - val_loss: 2.0225 - val_accuracy: 0.0000e+00\n",
      "Epoch 49/100\n",
      "52914/52914 [==============================] - 79s 1ms/step - loss: 1.5015 - accuracy: 0.0000e+00 - val_loss: 1.5102 - val_accuracy: 0.0000e+00\n",
      "Epoch 50/100\n",
      "52914/52914 [==============================] - 79s 1ms/step - loss: 1.5012 - accuracy: 0.0000e+00 - val_loss: 2.0964 - val_accuracy: 0.0000e+00\n",
      "Epoch 51/100\n",
      "52914/52914 [==============================] - 79s 1ms/step - loss: 1.4993 - accuracy: 0.0000e+00 - val_loss: 3.1241 - val_accuracy: 0.0000e+00\n",
      "Epoch 52/100\n",
      "52914/52914 [==============================] - 76s 1ms/step - loss: 1.4983 - accuracy: 0.0000e+00 - val_loss: 1.7791 - val_accuracy: 0.0000e+00\n",
      "Epoch 53/100\n"
     ]
    },
    {
     "name": "stdout",
     "output_type": "stream",
     "text": [
      "52914/52914 [==============================] - 72s 1ms/step - loss: 1.5017 - accuracy: 0.0000e+00 - val_loss: 1.4772 - val_accuracy: 0.0000e+00\n",
      "Epoch 54/100\n",
      "52914/52914 [==============================] - 73s 1ms/step - loss: 1.4789 - accuracy: 0.0000e+00 - val_loss: 1.4445 - val_accuracy: 0.0000e+00\n",
      "Epoch 55/100\n",
      "52914/52914 [==============================] - 73s 1ms/step - loss: 1.4785 - accuracy: 0.0000e+00 - val_loss: 1.9350 - val_accuracy: 0.0000e+00\n",
      "Epoch 56/100\n",
      "52914/52914 [==============================] - 73s 1ms/step - loss: 1.4914 - accuracy: 0.0000e+00 - val_loss: 1.6162 - val_accuracy: 0.0000e+00\n",
      "Epoch 57/100\n",
      "52914/52914 [==============================] - 72s 1ms/step - loss: 1.4708 - accuracy: 0.0000e+00 - val_loss: 1.7402 - val_accuracy: 0.0000e+00\n",
      "Epoch 58/100\n",
      "52914/52914 [==============================] - 72s 1ms/step - loss: 1.4836 - accuracy: 0.0000e+00 - val_loss: 1.4172 - val_accuracy: 0.0000e+00\n",
      "Epoch 59/100\n",
      "52914/52914 [==============================] - 70s 1ms/step - loss: 1.4594 - accuracy: 0.0000e+00 - val_loss: 8.7876 - val_accuracy: 0.0000e+00\n",
      "Epoch 60/100\n",
      "52914/52914 [==============================] - 69s 1ms/step - loss: 1.4718 - accuracy: 0.0000e+00 - val_loss: 1.5636 - val_accuracy: 0.0000e+00\n",
      "Epoch 61/100\n",
      "52914/52914 [==============================] - 69s 1ms/step - loss: 1.4628 - accuracy: 0.0000e+00 - val_loss: 1.9245 - val_accuracy: 0.0000e+00\n",
      "Epoch 62/100\n",
      "52914/52914 [==============================] - 67s 1ms/step - loss: 1.4684 - accuracy: 0.0000e+00 - val_loss: 3.2908 - val_accuracy: 0.0000e+00\n",
      "Epoch 63/100\n",
      "52914/52914 [==============================] - 65s 1ms/step - loss: 1.4729 - accuracy: 0.0000e+00 - val_loss: 1.8380 - val_accuracy: 0.0000e+00\n",
      "Epoch 64/100\n",
      "52914/52914 [==============================] - 76s 1ms/step - loss: 1.4548 - accuracy: 0.0000e+00 - val_loss: 2.2734 - val_accuracy: 0.0000e+00\n",
      "Epoch 65/100\n",
      "52914/52914 [==============================] - 74s 1ms/step - loss: 1.4544 - accuracy: 0.0000e+00 - val_loss: 1.3694 - val_accuracy: 0.0000e+00\n",
      "Epoch 66/100\n",
      "52914/52914 [==============================] - 72s 1ms/step - loss: 1.4662 - accuracy: 0.0000e+00 - val_loss: 1.5039 - val_accuracy: 0.0000e+00\n",
      "Epoch 67/100\n",
      "52914/52914 [==============================] - 69s 1ms/step - loss: 1.4530 - accuracy: 0.0000e+00 - val_loss: 1.3899 - val_accuracy: 0.0000e+00\n",
      "Epoch 68/100\n",
      "52914/52914 [==============================] - 69s 1ms/step - loss: 1.4670 - accuracy: 0.0000e+00 - val_loss: 1.4885 - val_accuracy: 0.0000e+00\n",
      "Epoch 69/100\n",
      "52914/52914 [==============================] - 69s 1ms/step - loss: 1.4583 - accuracy: 0.0000e+00 - val_loss: 1.6056 - val_accuracy: 0.0000e+00\n",
      "Epoch 70/100\n",
      "52914/52914 [==============================] - 69s 1ms/step - loss: 1.4523 - accuracy: 0.0000e+00 - val_loss: 1.4514 - val_accuracy: 0.0000e+00\n",
      "Epoch 71/100\n",
      "52914/52914 [==============================] - 70s 1ms/step - loss: 1.4433 - accuracy: 0.0000e+00 - val_loss: 1.4178 - val_accuracy: 0.0000e+00\n",
      "Epoch 72/100\n",
      "52914/52914 [==============================] - 71s 1ms/step - loss: 1.4343 - accuracy: 0.0000e+00 - val_loss: 5.2816 - val_accuracy: 0.0000e+00\n",
      "Epoch 73/100\n",
      "52914/52914 [==============================] - 65s 1ms/step - loss: 1.4403 - accuracy: 0.0000e+00 - val_loss: 1.3618 - val_accuracy: 0.0000e+00\n",
      "Epoch 74/100\n",
      "52914/52914 [==============================] - 65s 1ms/step - loss: 1.4327 - accuracy: 0.0000e+00 - val_loss: 1.5194 - val_accuracy: 0.0000e+00\n",
      "Epoch 75/100\n",
      "52914/52914 [==============================] - 70s 1ms/step - loss: 1.4225 - accuracy: 0.0000e+00 - val_loss: 1.8290 - val_accuracy: 0.0000e+00\n",
      "Epoch 76/100\n",
      "52914/52914 [==============================] - 69s 1ms/step - loss: 1.4274 - accuracy: 0.0000e+00 - val_loss: 2.3066 - val_accuracy: 0.0000e+00\n",
      "Epoch 77/100\n",
      "52914/52914 [==============================] - 65s 1ms/step - loss: 1.4328 - accuracy: 0.0000e+00 - val_loss: 1.3765 - val_accuracy: 0.0000e+00\n",
      "Epoch 78/100\n",
      "52914/52914 [==============================] - 65s 1ms/step - loss: 1.4260 - accuracy: 0.0000e+00 - val_loss: 1.5113 - val_accuracy: 0.0000e+00\n",
      "Epoch 79/100\n",
      "52914/52914 [==============================] - 65s 1ms/step - loss: 1.4360 - accuracy: 0.0000e+00 - val_loss: 2.6431 - val_accuracy: 0.0000e+00\n",
      "Epoch 80/100\n",
      "52914/52914 [==============================] - 65s 1ms/step - loss: 1.4238 - accuracy: 0.0000e+00 - val_loss: 2.9620 - val_accuracy: 0.0000e+00\n",
      "Epoch 81/100\n",
      "52914/52914 [==============================] - 65s 1ms/step - loss: 1.4160 - accuracy: 0.0000e+00 - val_loss: 1.3669 - val_accuracy: 0.0000e+00\n",
      "Epoch 82/100\n",
      "52914/52914 [==============================] - 65s 1ms/step - loss: 1.4248 - accuracy: 0.0000e+00 - val_loss: 1.6020 - val_accuracy: 0.0000e+00\n",
      "Epoch 83/100\n",
      "52914/52914 [==============================] - 65s 1ms/step - loss: 1.4177 - accuracy: 0.0000e+00 - val_loss: 1.5660 - val_accuracy: 0.0000e+00\n",
      "Epoch 84/100\n",
      "52914/52914 [==============================] - 65s 1ms/step - loss: 1.4230 - accuracy: 0.0000e+00 - val_loss: 1.9856 - val_accuracy: 0.0000e+00\n",
      "Epoch 85/100\n",
      "52914/52914 [==============================] - 65s 1ms/step - loss: 1.4218 - accuracy: 0.0000e+00 - val_loss: 1.4340 - val_accuracy: 0.0000e+00\n",
      "Epoch 86/100\n",
      "52914/52914 [==============================] - 65s 1ms/step - loss: 1.4108 - accuracy: 0.0000e+00 - val_loss: 1.4303 - val_accuracy: 0.0000e+00\n",
      "Epoch 87/100\n",
      "52914/52914 [==============================] - 65s 1ms/step - loss: 1.4013 - accuracy: 0.0000e+00 - val_loss: 1.4190 - val_accuracy: 0.0000e+00\n",
      "Epoch 88/100\n",
      "52914/52914 [==============================] - 65s 1ms/step - loss: 1.4174 - accuracy: 0.0000e+00 - val_loss: 1.3768 - val_accuracy: 0.0000e+00\n",
      "Epoch 89/100\n",
      "52914/52914 [==============================] - 65s 1ms/step - loss: 1.4063 - accuracy: 0.0000e+00 - val_loss: 2.0506 - val_accuracy: 0.0000e+00\n",
      "Epoch 90/100\n",
      "52914/52914 [==============================] - 64s 1ms/step - loss: 1.4103 - accuracy: 0.0000e+00 - val_loss: 3.0178 - val_accuracy: 0.0000e+00\n",
      "Epoch 91/100\n",
      "52914/52914 [==============================] - 64s 1ms/step - loss: 1.4100 - accuracy: 0.0000e+00 - val_loss: 1.9012 - val_accuracy: 0.0000e+00\n",
      "Epoch 92/100\n",
      "52914/52914 [==============================] - 65s 1ms/step - loss: 1.4084 - accuracy: 0.0000e+00 - val_loss: 1.3892 - val_accuracy: 0.0000e+00\n",
      "Epoch 93/100\n",
      "52914/52914 [==============================] - 66s 1ms/step - loss: 1.4068 - accuracy: 0.0000e+00 - val_loss: 1.4623 - val_accuracy: 0.0000e+00\n",
      "Epoch 94/100\n",
      "52914/52914 [==============================] - 74s 1ms/step - loss: 1.4053 - accuracy: 0.0000e+00 - val_loss: 1.6879 - val_accuracy: 0.0000e+00\n",
      "Epoch 95/100\n",
      "52914/52914 [==============================] - 74s 1ms/step - loss: 1.4011 - accuracy: 0.0000e+00 - val_loss: 1.8363 - val_accuracy: 0.0000e+00\n",
      "Epoch 96/100\n",
      "52914/52914 [==============================] - 65s 1ms/step - loss: 1.4043 - accuracy: 0.0000e+00 - val_loss: 1.5202 - val_accuracy: 0.0000e+00\n",
      "Epoch 97/100\n",
      "52914/52914 [==============================] - 65s 1ms/step - loss: 1.4006 - accuracy: 0.0000e+00 - val_loss: 3.7866 - val_accuracy: 0.0000e+00\n",
      "Epoch 98/100\n",
      "52914/52914 [==============================] - 65s 1ms/step - loss: 1.3983 - accuracy: 0.0000e+00 - val_loss: 1.4386 - val_accuracy: 0.0000e+00\n",
      "Epoch 99/100\n",
      "52914/52914 [==============================] - 65s 1ms/step - loss: 1.3943 - accuracy: 0.0000e+00 - val_loss: 1.3913 - val_accuracy: 0.0000e+00\n",
      "Epoch 100/100\n",
      "52914/52914 [==============================] - 65s 1ms/step - loss: 1.3815 - accuracy: 0.0000e+00 - val_loss: 1.4526 - val_accuracy: 0.0000e+00\n"
     ]
    }
   ],
   "source": [
    "x_inp = numpy.asarray(x_inp).astype(numpy.float32)\n",
    "y_inp = numpy.asarray(y_inp).astype(numpy.float32)\n",
    "\n",
    "# Training\n",
    "\n",
    "classifier.compile(optimizer = 'adam', loss = 'mean_squared_error', metrics = ['accuracy'])\n",
    "\n",
    "history=classifier.fit(x_inp, y_inp, batch_size = 10, epochs = 100, validation_data=(x_test,y_test))"
   ]
  },
  {
   "cell_type": "code",
   "execution_count": 14,
   "id": "f96fcb20",
   "metadata": {},
   "outputs": [
    {
     "data": {
      "text/plain": [
       "array([ -3.711126 , -17.659098 ,  -2.8872786, ...,  -3.0222614,\n",
       "        -3.9809656,  -8.772742 ], dtype=float32)"
      ]
     },
     "execution_count": 14,
     "metadata": {},
     "output_type": "execute_result"
    }
   ],
   "source": [
    "y_inp"
   ]
  },
  {
   "cell_type": "code",
   "execution_count": 15,
   "id": "1f1cab50",
   "metadata": {},
   "outputs": [
    {
     "data": {
      "image/png": "[encoded data removed]",
      "text/plain": [
       "<Figure size 432x288 with 1 Axes>"
      ]
     },
     "metadata": {
      "needs_background": "light"
     },
     "output_type": "display_data"
    },
    {
     "data": {
      "image/png": "[encoded data removed]",
      "text/plain": [
       "<Figure size 432x288 with 1 Axes>"
      ]
     },
     "metadata": {
      "needs_background": "light"
     },
     "output_type": "display_data"
    },
    {
     "data": {
      "image/png": "[encoded data removed]",
      "text/plain": [
       "<Figure size 432x288 with 1 Axes>"
      ]
     },
     "metadata": {
      "needs_background": "light"
     },
     "output_type": "display_data"
    }
   ],
   "source": [
    "# Prediction\n",
    "\n",
    "from sklearn.metrics import mean_squared_error\n",
    "from sklearn.metrics import r2_score\n",
    "import matplotlib.pyplot as plt\n",
    "\n",
    "y_pred = classifier.predict(x_test)\n",
    "mean_squared_error(y_test,y_pred)\n",
    "r2_score(y_test, y_pred)\n",
    "\n",
    "plt.plot(history.history['loss'])\n",
    "plt.title('Model Loss')\n",
    "plt.ylabel('LOSS')\n",
    "plt.xlabel('EPOCH')\n",
    "plt.legend(['train'], loc='upper left')\n",
    "plt.show()\n",
    "\n",
    "plt.plot(history.history['val_loss'])\n",
    "plt.title('Model Validation Loss')\n",
    "plt.ylabel('VAL LOSS')\n",
    "plt.xlabel('EPOCH')\n",
    "plt.legend(['train'], loc='upper left')\n",
    "plt.show()\n",
    "\n",
    "def generatePredictionPlot(y_pred, y_test):\n",
    "    plt.scatter(x=y_test, y=y_pred, c='navy', alpha=0.6)\n",
    "    plt.plot(y_test, y_test,color='cyan')\n",
    "    plt.title('Predicted vs Actual values')\n",
    "    plt.xlabel('Actual values')\n",
    "    plt.ylabel('Predicted values')\n",
    "    plt.show()\n",
    "    \n",
    "generatePredictionPlot(y_pred, y_test)"
   ]
  },
  {
   "cell_type": "code",
   "execution_count": 16,
   "id": "8089312b",
   "metadata": {},
   "outputs": [
    {
     "data": {
      "text/plain": [
       "1.4525970738820753"
      ]
     },
     "execution_count": 16,
     "metadata": {},
     "output_type": "execute_result"
    }
   ],
   "source": [
    "mean_squared_error(y_test,y_pred)"
   ]
  },
  {
   "cell_type": "code",
   "execution_count": 17,
   "id": "1c950c4f",
   "metadata": {},
   "outputs": [
    {
     "data": {
      "text/plain": [
       "0.9619917480608782"
      ]
     },
     "execution_count": 17,
     "metadata": {},
     "output_type": "execute_result"
    }
   ],
   "source": [
    "r2_score(y_test, y_pred)"
   ]
  }
 ],
 "metadata": {
  "kernelspec": {
   "display_name": "Python 3 (ipykernel)",
   "language": "python",
   "name": "python3"
  },
  "language_info": {
   "codemirror_mode": {
    "name": "ipython",
    "version": 3
   },
   "file_extension": ".py",
   "mimetype": "text/x-python",
   "name": "python",
   "nbconvert_exporter": "python",
   "pygments_lexer": "ipython3",
   "version": "3.8.8"
  }
 },
 "nbformat": 4,
 "nbformat_minor": 5
}
