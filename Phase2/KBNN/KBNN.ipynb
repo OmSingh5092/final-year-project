{
 "cells": [
  {
   "cell_type": "code",
   "execution_count": 1,
   "id": "4b05c8b8",
   "metadata": {},
   "outputs": [],
   "source": [
    "import pandas as pd\n",
    "from sklearn.model_selection import train_test_split\n",
    "import numpy\n"
   ]
  },
  {
   "cell_type": "code",
   "execution_count": 11,
   "id": "64011305",
   "metadata": {},
   "outputs": [],
   "source": [
    "dataset = pd.read_csv('../../Phase1/DataSets/data_set.csv')\n",
    "\n",
    "x = pd.DataFrame(dataset.iloc[:, 0:3].values)\n",
    "y = dataset.iloc[:, 3].values\n",
    "\n",
    "x_train, x_test, y_train, y_test = train_test_split(x, y, test_size = 0.2, random_state = 123)\n",
    "\n",
    "x_inp = x_train;\n",
    "y_inp = y_train;\n",
    "\n",
    "DATA_SIZE = 500000;\n",
    "\n",
    "decision_tree_w = 10;\n",
    "random_forest_w = 10;\n",
    "knn_w = 10;\n",
    "xg_boost_w = 10;\n",
    "\n",
    "total_w = decision_tree_w + random_forest_w + knn_w + xg_boost_w;\n",
    "\n",
    "def randomSample(low, high, size):\n",
    "    rand_rad = numpy.random.uniform(low, high, size)\n",
    "    for i in range(0, rand_rad.size):\n",
    "        rand_rad[i] = round(rand_rad[i], 2)\n",
    "    return rand_rad\n",
    "\n",
    "def genDataSet (size):\n",
    "    s = int(size);\n",
    "    rand_rad = randomSample(13, 15, s)\n",
    "    rand_height = randomSample(13, 15, s)\n",
    "    rand_freq = randomSample(1, 5, s)\n",
    "\n",
    "    rand_x = []\n",
    "    for i in range(0, s):\n",
    "        rand_x.append([rand_height[i], rand_rad[i], rand_freq[i]])\n",
    "    return rand_x\n",
    "    \n",
    "    \n"
   ]
  },
  {
   "cell_type": "code",
   "execution_count": 15,
   "id": "b3db4ccc",
   "metadata": {},
   "outputs": [
    {
     "data": {
      "text/plain": [
       "array([-0.9589167 , -7.9456982 , -2.70533406, ..., -3.02043646,\n",
       "       -2.43725096, -0.44526092])"
      ]
     },
     "execution_count": 15,
     "metadata": {},
     "output_type": "execute_result"
    }
   ],
   "source": [
    "# Decision Tree\n",
    "\n",
    "from sklearn.tree import DecisionTreeRegressor\n",
    "DTReg = DecisionTreeRegressor()\n",
    "DTReg.fit(x_train,y_train)\n",
    "\n",
    "x_gen = genDataSet(DATA_SIZE * (decision_tree_w/total_w))\n",
    "\n",
    "numpy.append(x_inp, x_gen)\n",
    "numpy.append(y_inp, DTReg.predict(x_gen))\n"
   ]
  },
  {
   "cell_type": "code",
   "execution_count": 16,
   "id": "0db15aa1",
   "metadata": {},
   "outputs": [
    {
     "data": {
      "text/plain": [
       "array([ -0.9589167 ,  -7.9456982 ,  -2.70533406, ..., -14.23755754,\n",
       "        -4.00958121,  -0.57052387])"
      ]
     },
     "execution_count": 16,
     "metadata": {},
     "output_type": "execute_result"
    }
   ],
   "source": [
    "# KNN\n",
    "\n",
    "from sklearn.neighbors import KNeighborsRegressor\n",
    "\n",
    "knn = KNeighborsRegressor(n_neighbors=5)\n",
    " \n",
    "knn.fit(x_train, y_train)\n",
    "\n",
    "x_gen = genDataSet(DATA_SIZE * (knn_w/total_w))\n",
    "\n",
    "numpy.append(x_inp, x_gen)\n",
    "numpy.append(y_inp, knn.predict(x_gen))\n"
   ]
  },
  {
   "cell_type": "code",
   "execution_count": 18,
   "id": "39a2a2c0",
   "metadata": {},
   "outputs": [
    {
     "data": {
      "text/plain": [
       "array([ -0.9589167 ,  -7.9456982 ,  -2.70533406, ...,  -2.72740076,\n",
       "        -3.4717915 , -13.92225837])"
      ]
     },
     "execution_count": 18,
     "metadata": {},
     "output_type": "execute_result"
    }
   ],
   "source": [
    "# Random Forest\n",
    "\n",
    "\n",
    "from sklearn.ensemble import RandomForestRegressor\n",
    "\n",
    "RFreg = RandomForestRegressor(n_estimators = 10, random_state = 0)\n",
    "\n",
    "RFreg.fit(x_train,y_train)\n",
    "\n",
    "x_gen = genDataSet(DATA_SIZE * (random_forest_w/total_w))\n",
    "\n",
    "numpy.append(x_inp, x_gen)\n",
    "numpy.append(y_inp, RFreg.predict(x_gen))\n"
   ]
  },
  {
   "cell_type": "code",
   "execution_count": 20,
   "id": "b4937f20",
   "metadata": {},
   "outputs": [
    {
     "name": "stdout",
     "output_type": "stream",
     "text": [
      "[10:33:49] WARNING: C:/Users/Administrator/workspace/xgboost-win64_release_1.5.1/src/objective/regression_obj.cu:188: reg:linear is now deprecated in favor of reg:squarederror.\n"
     ]
    },
    {
     "data": {
      "text/plain": [
       "array([-0.9589167 , -7.9456982 , -2.70533406, ..., -0.39059225,\n",
       "       -2.67831111, -9.17865276])"
      ]
     },
     "execution_count": 20,
     "metadata": {},
     "output_type": "execute_result"
    }
   ],
   "source": [
    "# XG Boost\n",
    "\n",
    "\n",
    "import xgboost as xgb\n",
    "\n",
    "xgb_reg = xgb.XGBRegressor(n_estimators=100, objective='reg:linear', seed = 123)\n",
    "\n",
    "# Train the model with train data sets\n",
    "xgb_reg.fit(x_train, y_train)\n",
    "\n",
    "x_gen = genDataSet(DATA_SIZE * (xg_boost_w/total_w))\n",
    "\n",
    "numpy.append(x_inp, x_gen)\n",
    "numpy.append(y_inp, xgb_reg.predict(numpy.array(x_gen)))"
   ]
  },
  {
   "cell_type": "code",
   "execution_count": 21,
   "id": "030787e8",
   "metadata": {},
   "outputs": [],
   "source": [
    "# KBNN\n",
    "\n",
    "import keras\n",
    "from keras.models import Sequential\n",
    "from keras.layers import Dense\n",
    "\n",
    "# Artificial NN\n",
    "\n",
    "classifier = Sequential()\n",
    "\n",
    "# Input Layer\n",
    "classifier.add(Dense(units = 6, activation = 'relu', input_dim = 3))\n",
    "\n",
    "# 1st Hidden Layer\n",
    "classifier.add(Dense(units = 8, activation = 'relu'))\n",
    "\n",
    "# 2nd Hidden Layer\n",
    "classifier.add(Dense(units = 3, activation = 'relu'))\n",
    "\n",
    "# Output Layer\n",
    "classifier.add(Dense(units = 1, activation = 'linear'))"
   ]
  },
  {
   "cell_type": "code",
   "execution_count": 22,
   "id": "cdbdf7b0",
   "metadata": {},
   "outputs": [
    {
     "name": "stdout",
     "output_type": "stream",
     "text": [
      "Epoch 1/100\n",
      "4139/4139 [==============================] - 3s 605us/step - loss: 18.2215 - accuracy: 0.0000e+00 - val_loss: 15.0525 - val_accuracy: 0.0000e+00\n",
      "Epoch 2/100\n",
      "4139/4139 [==============================] - 3s 666us/step - loss: 14.9552 - accuracy: 0.0000e+00 - val_loss: 14.6309 - val_accuracy: 0.0000e+00\n",
      "Epoch 3/100\n",
      "4139/4139 [==============================] - 3s 604us/step - loss: 14.2047 - accuracy: 0.0000e+00 - val_loss: 13.6658 - val_accuracy: 0.0000e+00\n",
      "Epoch 4/100\n",
      "4139/4139 [==============================] - 2s 603us/step - loss: 12.8044 - accuracy: 0.0000e+00 - val_loss: 11.5373 - val_accuracy: 0.0000e+00\n",
      "Epoch 5/100\n",
      "4139/4139 [==============================] - 3s 619us/step - loss: 10.7793 - accuracy: 0.0000e+00 - val_loss: 10.0775 - val_accuracy: 0.0000e+00\n",
      "Epoch 6/100\n",
      "4139/4139 [==============================] - 3s 605us/step - loss: 9.7273 - accuracy: 0.0000e+00 - val_loss: 9.2976 - val_accuracy: 0.0000e+00\n",
      "Epoch 7/100\n",
      "4139/4139 [==============================] - 2s 589us/step - loss: 9.1549 - accuracy: 0.0000e+00 - val_loss: 8.8620 - val_accuracy: 0.0000e+00\n",
      "Epoch 8/100\n",
      "4139/4139 [==============================] - 2s 601us/step - loss: 8.7785 - accuracy: 0.0000e+00 - val_loss: 8.7107 - val_accuracy: 0.0000e+00\n",
      "Epoch 9/100\n",
      "4139/4139 [==============================] - 2s 576us/step - loss: 8.5103 - accuracy: 0.0000e+00 - val_loss: 8.3970 - val_accuracy: 0.0000e+00\n",
      "Epoch 10/100\n",
      "4139/4139 [==============================] - 2s 574us/step - loss: 8.2808 - accuracy: 0.0000e+00 - val_loss: 8.0672 - val_accuracy: 0.0000e+00\n",
      "Epoch 11/100\n",
      "4139/4139 [==============================] - 2s 568us/step - loss: 8.0520 - accuracy: 0.0000e+00 - val_loss: 7.9022 - val_accuracy: 0.0000e+00\n",
      "Epoch 12/100\n",
      "4139/4139 [==============================] - 2s 567us/step - loss: 7.8665 - accuracy: 0.0000e+00 - val_loss: 7.5998 - val_accuracy: 0.0000e+00\n",
      "Epoch 13/100\n",
      "4139/4139 [==============================] - 2s 566us/step - loss: 7.6755 - accuracy: 0.0000e+00 - val_loss: 7.5294 - val_accuracy: 0.0000e+00\n",
      "Epoch 14/100\n",
      "4139/4139 [==============================] - 2s 565us/step - loss: 7.4960 - accuracy: 0.0000e+00 - val_loss: 7.2267 - val_accuracy: 0.0000e+00\n",
      "Epoch 15/100\n",
      "4139/4139 [==============================] - 2s 572us/step - loss: 7.2802 - accuracy: 0.0000e+00 - val_loss: 7.2556 - val_accuracy: 0.0000e+00\n",
      "Epoch 16/100\n",
      "4139/4139 [==============================] - 2s 570us/step - loss: 7.0451 - accuracy: 0.0000e+00 - val_loss: 6.8613 - val_accuracy: 0.0000e+00\n",
      "Epoch 17/100\n",
      "4139/4139 [==============================] - 2s 569us/step - loss: 6.8356 - accuracy: 0.0000e+00 - val_loss: 6.6381 - val_accuracy: 0.0000e+00\n",
      "Epoch 18/100\n",
      "4139/4139 [==============================] - 2s 572us/step - loss: 6.5788 - accuracy: 0.0000e+00 - val_loss: 6.3692 - val_accuracy: 0.0000e+00\n",
      "Epoch 19/100\n",
      "4139/4139 [==============================] - 2s 566us/step - loss: 6.3327 - accuracy: 0.0000e+00 - val_loss: 6.4698 - val_accuracy: 0.0000e+00\n",
      "Epoch 20/100\n",
      "4139/4139 [==============================] - 2s 599us/step - loss: 6.0545 - accuracy: 0.0000e+00 - val_loss: 5.7753 - val_accuracy: 0.0000e+00\n",
      "Epoch 21/100\n",
      "4139/4139 [==============================] - 2s 568us/step - loss: 5.7962 - accuracy: 0.0000e+00 - val_loss: 5.4913 - val_accuracy: 0.0000e+00\n",
      "Epoch 22/100\n",
      "4139/4139 [==============================] - 2s 572us/step - loss: 5.5265 - accuracy: 0.0000e+00 - val_loss: 5.2428 - val_accuracy: 0.0000e+00\n",
      "Epoch 23/100\n",
      "4139/4139 [==============================] - 2s 557us/step - loss: 5.2130 - accuracy: 0.0000e+00 - val_loss: 5.1421 - val_accuracy: 0.0000e+00\n",
      "Epoch 24/100\n",
      "4139/4139 [==============================] - 2s 557us/step - loss: 4.9080 - accuracy: 0.0000e+00 - val_loss: 4.6737 - val_accuracy: 0.0000e+00\n",
      "Epoch 25/100\n",
      "4139/4139 [==============================] - 2s 561us/step - loss: 4.6372 - accuracy: 0.0000e+00 - val_loss: 5.1567 - val_accuracy: 0.0000e+00\n",
      "Epoch 26/100\n",
      "4139/4139 [==============================] - 2s 570us/step - loss: 4.3347 - accuracy: 0.0000e+00 - val_loss: 5.4138 - val_accuracy: 0.0000e+00\n",
      "Epoch 27/100\n",
      "4139/4139 [==============================] - 2s 563us/step - loss: 4.1137 - accuracy: 0.0000e+00 - val_loss: 4.0406 - val_accuracy: 0.0000e+00\n",
      "Epoch 28/100\n",
      "4139/4139 [==============================] - 2s 566us/step - loss: 3.8436 - accuracy: 0.0000e+00 - val_loss: 3.6194 - val_accuracy: 0.0000e+00\n",
      "Epoch 29/100\n",
      "4139/4139 [==============================] - 2s 589us/step - loss: 3.6236 - accuracy: 0.0000e+00 - val_loss: 3.3301 - val_accuracy: 0.0000e+00\n",
      "Epoch 30/100\n",
      "4139/4139 [==============================] - 2s 571us/step - loss: 3.4521 - accuracy: 0.0000e+00 - val_loss: 3.5507 - val_accuracy: 0.0000e+00\n",
      "Epoch 31/100\n",
      "4139/4139 [==============================] - 2s 573us/step - loss: 3.2874 - accuracy: 0.0000e+00 - val_loss: 3.5849 - val_accuracy: 0.0000e+00\n",
      "Epoch 32/100\n",
      "4139/4139 [==============================] - 2s 575us/step - loss: 3.1210 - accuracy: 0.0000e+00 - val_loss: 5.3867 - val_accuracy: 0.0000e+00\n",
      "Epoch 33/100\n",
      "4139/4139 [==============================] - 2s 592us/step - loss: 3.0441 - accuracy: 0.0000e+00 - val_loss: 2.8536 - val_accuracy: 0.0000e+00\n",
      "Epoch 34/100\n",
      "4139/4139 [==============================] - 3s 617us/step - loss: 2.9330 - accuracy: 0.0000e+00 - val_loss: 2.9939 - val_accuracy: 0.0000e+00\n",
      "Epoch 35/100\n",
      "4139/4139 [==============================] - 2s 576us/step - loss: 2.8575 - accuracy: 0.0000e+00 - val_loss: 3.5774 - val_accuracy: 0.0000e+00\n",
      "Epoch 36/100\n",
      "4139/4139 [==============================] - 3s 611us/step - loss: 2.8036 - accuracy: 0.0000e+00 - val_loss: 2.6448 - val_accuracy: 0.0000e+00\n",
      "Epoch 37/100\n",
      "4139/4139 [==============================] - 2s 573us/step - loss: 2.6949 - accuracy: 0.0000e+00 - val_loss: 2.6376 - val_accuracy: 0.0000e+00\n",
      "Epoch 38/100\n",
      "4139/4139 [==============================] - 2s 597us/step - loss: 2.6755 - accuracy: 0.0000e+00 - val_loss: 2.9860 - val_accuracy: 0.0000e+00\n",
      "Epoch 39/100\n",
      "4139/4139 [==============================] - 2s 595us/step - loss: 2.6442 - accuracy: 0.0000e+00 - val_loss: 2.4707 - val_accuracy: 0.0000e+00\n",
      "Epoch 40/100\n",
      "4139/4139 [==============================] - 2s 577us/step - loss: 2.6255 - accuracy: 0.0000e+00 - val_loss: 2.5232 - val_accuracy: 0.0000e+00\n",
      "Epoch 41/100\n",
      "4139/4139 [==============================] - 2s 595us/step - loss: 2.5610 - accuracy: 0.0000e+00 - val_loss: 2.3667 - val_accuracy: 0.0000e+00\n",
      "Epoch 42/100\n",
      "4139/4139 [==============================] - 3s 613us/step - loss: 2.5275 - accuracy: 0.0000e+00 - val_loss: 2.3401 - val_accuracy: 0.0000e+00\n",
      "Epoch 43/100\n",
      "4139/4139 [==============================] - 2s 578us/step - loss: 2.5896 - accuracy: 0.0000e+00 - val_loss: 2.4396 - val_accuracy: 0.0000e+00\n",
      "Epoch 44/100\n",
      "4139/4139 [==============================] - 3s 622us/step - loss: 2.5009 - accuracy: 0.0000e+00 - val_loss: 2.5093 - val_accuracy: 0.0000e+00\n",
      "Epoch 45/100\n",
      "4139/4139 [==============================] - 2s 591us/step - loss: 2.5242 - accuracy: 0.0000e+00 - val_loss: 2.4050 - val_accuracy: 0.0000e+00\n",
      "Epoch 46/100\n",
      "4139/4139 [==============================] - 3s 624us/step - loss: 2.5000 - accuracy: 0.0000e+00 - val_loss: 2.2967 - val_accuracy: 0.0000e+00\n",
      "Epoch 47/100\n",
      "4139/4139 [==============================] - 2s 572us/step - loss: 2.4676 - accuracy: 0.0000e+00 - val_loss: 2.4561 - val_accuracy: 0.0000e+00\n",
      "Epoch 48/100\n",
      "4139/4139 [==============================] - 2s 573us/step - loss: 2.5270 - accuracy: 0.0000e+00 - val_loss: 2.3983 - val_accuracy: 0.0000e+00\n",
      "Epoch 49/100\n",
      "4139/4139 [==============================] - 2s 570us/step - loss: 2.4988 - accuracy: 0.0000e+00 - val_loss: 2.4061 - val_accuracy: 0.0000e+00\n",
      "Epoch 50/100\n",
      "4139/4139 [==============================] - 2s 568us/step - loss: 2.4608 - accuracy: 0.0000e+00 - val_loss: 2.2980 - val_accuracy: 0.0000e+00\n",
      "Epoch 51/100\n",
      "4139/4139 [==============================] - 2s 565us/step - loss: 2.4445 - accuracy: 0.0000e+00 - val_loss: 2.2079 - val_accuracy: 0.0000e+00\n",
      "Epoch 52/100\n",
      "4139/4139 [==============================] - 2s 565us/step - loss: 2.4647 - accuracy: 0.0000e+00 - val_loss: 2.2232 - val_accuracy: 0.0000e+00\n",
      "Epoch 53/100\n"
     ]
    },
    {
     "name": "stdout",
     "output_type": "stream",
     "text": [
      "4139/4139 [==============================] - 2s 564us/step - loss: 2.4552 - accuracy: 0.0000e+00 - val_loss: 2.4575 - val_accuracy: 0.0000e+00\n",
      "Epoch 54/100\n",
      "4139/4139 [==============================] - 2s 566us/step - loss: 2.4547 - accuracy: 0.0000e+00 - val_loss: 2.2163 - val_accuracy: 0.0000e+00\n",
      "Epoch 55/100\n",
      "4139/4139 [==============================] - 2s 587us/step - loss: 2.4734 - accuracy: 0.0000e+00 - val_loss: 2.6086 - val_accuracy: 0.0000e+00\n",
      "Epoch 56/100\n",
      "4139/4139 [==============================] - 3s 606us/step - loss: 2.4312 - accuracy: 0.0000e+00 - val_loss: 2.3634 - val_accuracy: 0.0000e+00\n",
      "Epoch 57/100\n",
      "4139/4139 [==============================] - 3s 609us/step - loss: 2.4305 - accuracy: 0.0000e+00 - val_loss: 2.4546 - val_accuracy: 0.0000e+00\n",
      "Epoch 58/100\n",
      "4139/4139 [==============================] - 2s 599us/step - loss: 2.4256 - accuracy: 0.0000e+00 - val_loss: 2.6896 - val_accuracy: 0.0000e+00\n",
      "Epoch 59/100\n",
      "4139/4139 [==============================] - 3s 614us/step - loss: 2.3965 - accuracy: 0.0000e+00 - val_loss: 2.5674 - val_accuracy: 0.0000e+00\n",
      "Epoch 60/100\n",
      "4139/4139 [==============================] - 3s 605us/step - loss: 2.4110 - accuracy: 0.0000e+00 - val_loss: 2.6761 - val_accuracy: 0.0000e+00\n",
      "Epoch 61/100\n",
      "4139/4139 [==============================] - 3s 634us/step - loss: 2.4044 - accuracy: 0.0000e+00 - val_loss: 2.2640 - val_accuracy: 0.0000e+00\n",
      "Epoch 62/100\n",
      "4139/4139 [==============================] - 3s 613us/step - loss: 2.4163 - accuracy: 0.0000e+00 - val_loss: 3.0696 - val_accuracy: 0.0000e+00\n",
      "Epoch 63/100\n",
      "4139/4139 [==============================] - 2s 581us/step - loss: 2.4331 - accuracy: 0.0000e+00 - val_loss: 2.6280 - val_accuracy: 0.0000e+00\n",
      "Epoch 64/100\n",
      "4139/4139 [==============================] - 2s 568us/step - loss: 2.3797 - accuracy: 0.0000e+00 - val_loss: 2.4197 - val_accuracy: 0.0000e+00\n",
      "Epoch 65/100\n",
      "4139/4139 [==============================] - 3s 628us/step - loss: 2.3854 - accuracy: 0.0000e+00 - val_loss: 2.3931 - val_accuracy: 0.0000e+00\n",
      "Epoch 66/100\n",
      "4139/4139 [==============================] - 3s 617us/step - loss: 2.4122 - accuracy: 0.0000e+00 - val_loss: 3.0291 - val_accuracy: 0.0000e+00\n",
      "Epoch 67/100\n",
      "4139/4139 [==============================] - 3s 610us/step - loss: 2.3988 - accuracy: 0.0000e+00 - val_loss: 2.1634 - val_accuracy: 0.0000e+00\n",
      "Epoch 68/100\n",
      "4139/4139 [==============================] - 2s 589us/step - loss: 2.4030 - accuracy: 0.0000e+00 - val_loss: 2.7928 - val_accuracy: 0.0000e+00\n",
      "Epoch 69/100\n",
      "4139/4139 [==============================] - 2s 577us/step - loss: 2.4197 - accuracy: 0.0000e+00 - val_loss: 2.1975 - val_accuracy: 0.0000e+00\n",
      "Epoch 70/100\n",
      "4139/4139 [==============================] - 2s 584us/step - loss: 2.3909 - accuracy: 0.0000e+00 - val_loss: 5.1141 - val_accuracy: 0.0000e+00\n",
      "Epoch 71/100\n",
      "4139/4139 [==============================] - 2s 589us/step - loss: 2.3924 - accuracy: 0.0000e+00 - val_loss: 2.9276 - val_accuracy: 0.0000e+00\n",
      "Epoch 72/100\n",
      "4139/4139 [==============================] - 3s 649us/step - loss: 2.3768 - accuracy: 0.0000e+00 - val_loss: 2.3388 - val_accuracy: 0.0000e+00\n",
      "Epoch 73/100\n",
      "4139/4139 [==============================] - 2s 553us/step - loss: 2.4293 - accuracy: 0.0000e+00 - val_loss: 2.8418 - val_accuracy: 0.0000e+00\n",
      "Epoch 74/100\n",
      "4139/4139 [==============================] - 2s 600us/step - loss: 2.3896 - accuracy: 0.0000e+00 - val_loss: 2.7199 - val_accuracy: 0.0000e+00\n",
      "Epoch 75/100\n",
      "4139/4139 [==============================] - 3s 646us/step - loss: 2.4244 - accuracy: 0.0000e+00 - val_loss: 2.4281 - val_accuracy: 0.0000e+00\n",
      "Epoch 76/100\n",
      "4139/4139 [==============================] - 3s 604us/step - loss: 2.3968 - accuracy: 0.0000e+00 - val_loss: 2.3210 - val_accuracy: 0.0000e+00\n",
      "Epoch 77/100\n",
      "4139/4139 [==============================] - 2s 579us/step - loss: 2.3974 - accuracy: 0.0000e+00 - val_loss: 2.2893 - val_accuracy: 0.0000e+00\n",
      "Epoch 78/100\n",
      "4139/4139 [==============================] - 3s 625us/step - loss: 2.4272 - accuracy: 0.0000e+00 - val_loss: 2.9598 - val_accuracy: 0.0000e+00\n",
      "Epoch 79/100\n",
      "4139/4139 [==============================] - 2s 581us/step - loss: 2.4650 - accuracy: 0.0000e+00 - val_loss: 2.3521 - val_accuracy: 0.0000e+00\n",
      "Epoch 80/100\n",
      "4139/4139 [==============================] - 3s 611us/step - loss: 2.4136 - accuracy: 0.0000e+00 - val_loss: 2.5482 - val_accuracy: 0.0000e+00\n",
      "Epoch 81/100\n",
      "4139/4139 [==============================] - 3s 682us/step - loss: 2.4011 - accuracy: 0.0000e+00 - val_loss: 2.1607 - val_accuracy: 0.0000e+00\n",
      "Epoch 82/100\n",
      "4139/4139 [==============================] - 3s 739us/step - loss: 2.4253 - accuracy: 0.0000e+00 - val_loss: 2.1480 - val_accuracy: 0.0000e+00\n",
      "Epoch 83/100\n",
      "4139/4139 [==============================] - 3s 703us/step - loss: 2.4110 - accuracy: 0.0000e+00 - val_loss: 2.2370 - val_accuracy: 0.0000e+00\n",
      "Epoch 84/100\n",
      "4139/4139 [==============================] - 2s 566us/step - loss: 2.4008 - accuracy: 0.0000e+00 - val_loss: 2.4449 - val_accuracy: 0.0000e+00\n",
      "Epoch 85/100\n",
      "4139/4139 [==============================] - 2s 564us/step - loss: 2.3870 - accuracy: 0.0000e+00 - val_loss: 2.7313 - val_accuracy: 0.0000e+00\n",
      "Epoch 86/100\n",
      "4139/4139 [==============================] - 2s 559us/step - loss: 2.3674 - accuracy: 0.0000e+00 - val_loss: 3.2862 - val_accuracy: 0.0000e+00\n",
      "Epoch 87/100\n",
      "4139/4139 [==============================] - 2s 570us/step - loss: 2.4170 - accuracy: 0.0000e+00 - val_loss: 2.3590 - val_accuracy: 0.0000e+00\n",
      "Epoch 88/100\n",
      "4139/4139 [==============================] - 2s 556us/step - loss: 2.3583 - accuracy: 0.0000e+00 - val_loss: 2.2498 - val_accuracy: 0.0000e+00\n",
      "Epoch 89/100\n",
      "4139/4139 [==============================] - 2s 543us/step - loss: 2.3711 - accuracy: 0.0000e+00 - val_loss: 2.3314 - val_accuracy: 0.0000e+00\n",
      "Epoch 90/100\n",
      "4139/4139 [==============================] - 2s 544us/step - loss: 2.3779 - accuracy: 0.0000e+00 - val_loss: 2.1736 - val_accuracy: 0.0000e+00\n",
      "Epoch 91/100\n",
      "4139/4139 [==============================] - 2s 559us/step - loss: 2.3715 - accuracy: 0.0000e+00 - val_loss: 2.3085 - val_accuracy: 0.0000e+00\n",
      "Epoch 92/100\n",
      "4139/4139 [==============================] - 3s 670us/step - loss: 2.4009 - accuracy: 0.0000e+00 - val_loss: 2.6079 - val_accuracy: 0.0000e+00\n",
      "Epoch 93/100\n",
      "4139/4139 [==============================] - 3s 630us/step - loss: 2.4138 - accuracy: 0.0000e+00 - val_loss: 2.6927 - val_accuracy: 0.0000e+00\n",
      "Epoch 94/100\n",
      "4139/4139 [==============================] - 2s 554us/step - loss: 2.3369 - accuracy: 0.0000e+00 - val_loss: 2.6418 - val_accuracy: 0.0000e+00\n",
      "Epoch 95/100\n",
      "4139/4139 [==============================] - 2s 550us/step - loss: 2.4289 - accuracy: 0.0000e+00 - val_loss: 2.4518 - val_accuracy: 0.0000e+00\n",
      "Epoch 96/100\n",
      "4139/4139 [==============================] - 2s 562us/step - loss: 2.3633 - accuracy: 0.0000e+00 - val_loss: 2.8953 - val_accuracy: 0.0000e+00\n",
      "Epoch 97/100\n",
      "4139/4139 [==============================] - 2s 557us/step - loss: 2.3480 - accuracy: 0.0000e+00 - val_loss: 2.3248 - val_accuracy: 0.0000e+00\n",
      "Epoch 98/100\n",
      "4139/4139 [==============================] - 2s 563us/step - loss: 2.3310 - accuracy: 0.0000e+00 - val_loss: 2.3318 - val_accuracy: 0.0000e+00\n",
      "Epoch 99/100\n",
      "4139/4139 [==============================] - 2s 584us/step - loss: 2.3312 - accuracy: 0.0000e+00 - val_loss: 3.1437 - val_accuracy: 0.0000e+00\n",
      "Epoch 100/100\n",
      "4139/4139 [==============================] - 3s 618us/step - loss: 2.4247 - accuracy: 0.0000e+00 - val_loss: 3.6881 - val_accuracy: 0.0000e+00\n"
     ]
    }
   ],
   "source": [
    "# Training\n",
    "\n",
    "classifier.compile(optimizer = 'adam', loss = 'mean_squared_error', metrics = ['accuracy'])\n",
    "\n",
    "history=classifier.fit(x_inp, y_inp, batch_size = 10, epochs = 100, validation_data=(x_test,y_test))"
   ]
  },
  {
   "cell_type": "code",
   "execution_count": 23,
   "id": "1f1cab50",
   "metadata": {},
   "outputs": [
    {
     "data": {
      "image/png": "[encoded data removed]",
      "text/plain": [
       "<Figure size 432x288 with 1 Axes>"
      ]
     },
     "metadata": {
      "needs_background": "light"
     },
     "output_type": "display_data"
    },
    {
     "data": {
      "image/png": "[encoded data removed]",
      "text/plain": [
       "<Figure size 432x288 with 1 Axes>"
      ]
     },
     "metadata": {
      "needs_background": "light"
     },
     "output_type": "display_data"
    },
    {
     "data": {
      "image/png": "[encoded data removed]",
      "text/plain": [
       "<Figure size 432x288 with 1 Axes>"
      ]
     },
     "metadata": {
      "needs_background": "light"
     },
     "output_type": "display_data"
    }
   ],
   "source": [
    "# Prediction\n",
    "\n",
    "from sklearn.metrics import mean_squared_error\n",
    "from sklearn.metrics import r2_score\n",
    "import matplotlib.pyplot as plt\n",
    "\n",
    "y_pred = classifier.predict(x_test)\n",
    "mean_squared_error(y_test,y_pred)\n",
    "r2_score(y_test, y_pred)\n",
    "\n",
    "plt.plot(history.history['loss'])\n",
    "plt.title('Model Loss')\n",
    "plt.ylabel('LOSS')\n",
    "plt.xlabel('EPOCH')\n",
    "plt.legend(['train'], loc='upper left')\n",
    "plt.show()\n",
    "\n",
    "plt.plot(history.history['val_loss'])\n",
    "plt.title('Model Validation Loss')\n",
    "plt.ylabel('VAL LOSS')\n",
    "plt.xlabel('EPOCH')\n",
    "plt.legend(['train'], loc='upper left')\n",
    "plt.show()\n",
    "\n",
    "def generatePredictionPlot(y_pred, y_test):\n",
    "    plt.scatter(x=y_test, y=y_pred, c='navy', alpha=0.6)\n",
    "    plt.plot(y_test, y_test,color='cyan')\n",
    "    plt.title('Predicted vs Actual values')\n",
    "    plt.xlabel('Actual values')\n",
    "    plt.ylabel('Predicted values')\n",
    "    plt.show()\n",
    "    \n",
    "generatePredictionPlot(y_pred, y_test)"
   ]
  },
  {
   "cell_type": "code",
   "execution_count": null,
   "id": "1c950c4f",
   "metadata": {},
   "outputs": [],
   "source": []
  }
 ],
 "metadata": {
  "kernelspec": {
   "display_name": "Python 3 (ipykernel)",
   "language": "python",
   "name": "python3"
  },
  "language_info": {
   "codemirror_mode": {
    "name": "ipython",
    "version": 3
   },
   "file_extension": ".py",
   "mimetype": "text/x-python",
   "name": "python",
   "nbconvert_exporter": "python",
   "pygments_lexer": "ipython3",
   "version": "3.10.2"
  }
 },
 "nbformat": 4,
 "nbformat_minor": 5
}
