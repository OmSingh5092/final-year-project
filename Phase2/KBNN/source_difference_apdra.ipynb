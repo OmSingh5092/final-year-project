{
 "cells": [
  {
   "cell_type": "code",
   "execution_count": 1,
   "id": "daaf246e",
   "metadata": {},
   "outputs": [],
   "source": [
    "import pandas as pd\n",
    "from sklearn.model_selection import train_test_split\n",
    "import numpy"
   ]
  },
  {
   "cell_type": "code",
   "execution_count": 2,
   "id": "753ff8b0",
   "metadata": {},
   "outputs": [],
   "source": [
    "dataset = pd.read_csv('../../Phase1/DataSets/apdra_dataset.csv')\n",
    "\n",
    "x = pd.DataFrame(dataset.iloc[:, 0:3].values)\n",
    "y = dataset.iloc[:, 3].values\n",
    "\n",
    "x_train, x_test, y_train, y_test = train_test_split(x, y, test_size = 0.1, random_state = 123)\n",
    "\n",
    "# Splitting the training data, one set will be used for training the emperical models and the other set will be used for KBNN\n",
    "\n",
    "x_emp, x_kbnn, y_emp, y_kbnn = train_test_split(x_train, y_train, test_size = 0.4)   \n"
   ]
  },
  {
   "cell_type": "code",
   "execution_count": 3,
   "id": "8a647568",
   "metadata": {},
   "outputs": [
    {
     "data": {
      "text/plain": [
       "KNeighborsRegressor()"
      ]
     },
     "execution_count": 3,
     "metadata": {},
     "output_type": "execute_result"
    }
   ],
   "source": [
    "from sklearn.neighbors import KNeighborsRegressor\n",
    "\n",
    "emp = KNeighborsRegressor(n_neighbors=5)\n",
    " \n",
    "emp.fit(x_emp, y_emp)"
   ]
  },
  {
   "cell_type": "code",
   "execution_count": 4,
   "id": "c41475e4",
   "metadata": {},
   "outputs": [
    {
     "data": {
      "text/plain": [
       "0.4211149581705253"
      ]
     },
     "execution_count": 4,
     "metadata": {},
     "output_type": "execute_result"
    }
   ],
   "source": [
    "from sklearn.metrics import mean_squared_error\n",
    "from sklearn.metrics import r2_score\n",
    "\n",
    "mean_squared_error(y_kbnn,emp.predict(x_kbnn))\n"
   ]
  },
  {
   "cell_type": "code",
   "execution_count": 5,
   "id": "5548d468",
   "metadata": {},
   "outputs": [
    {
     "data": {
      "text/plain": [
       "0.9888921493158145"
      ]
     },
     "execution_count": 5,
     "metadata": {},
     "output_type": "execute_result"
    }
   ],
   "source": [
    "r2_score(y_kbnn,emp.predict(x_kbnn))"
   ]
  },
  {
   "cell_type": "code",
   "execution_count": 6,
   "id": "04d97fe3",
   "metadata": {},
   "outputs": [],
   "source": [
    "\n",
    "# KBNN\n",
    "\n",
    "import keras\n",
    "from keras.models import Sequential\n",
    "from keras.layers import Dense\n",
    "\n",
    "# Artificial NN\n",
    "\n",
    "classifier = Sequential()\n",
    "\n",
    "# Input Layer\n",
    "classifier.add(Dense(units = 6, activation = 'relu', input_dim = 3))\n",
    "\n",
    "# 1st Hidden Layer\n",
    "classifier.add(Dense(units = 8, activation = 'relu'))\n",
    "\n",
    "# 2nd Hidden Layer\n",
    "classifier.add(Dense(units = 3, activation = 'relu'))\n",
    "\n",
    "# Output Layer\n",
    "classifier.add(Dense(units = 1, activation = 'linear'))\n"
   ]
  },
  {
   "cell_type": "code",
   "execution_count": 7,
   "id": "318263bd",
   "metadata": {},
   "outputs": [
    {
     "name": "stdout",
     "output_type": "stream",
     "text": [
      "Epoch 1/100\n",
      "1312/1312 [==============================] - 4s 2ms/step - loss: 0.4505 - accuracy: 0.0000e+00 - val_loss: 0.3690 - val_accuracy: 0.0000e+00\n",
      "Epoch 2/100\n",
      "1312/1312 [==============================] - 3s 2ms/step - loss: 0.4302 - accuracy: 0.0000e+00 - val_loss: 0.3687 - val_accuracy: 0.0000e+00\n",
      "Epoch 3/100\n",
      "1312/1312 [==============================] - 3s 2ms/step - loss: 0.4282 - accuracy: 0.0000e+00 - val_loss: 0.3687 - val_accuracy: 0.0000e+00\n",
      "Epoch 4/100\n",
      "1312/1312 [==============================] - 3s 2ms/step - loss: 0.4266 - accuracy: 0.0000e+00 - val_loss: 0.3691 - val_accuracy: 0.0000e+00\n",
      "Epoch 5/100\n",
      "1312/1312 [==============================] - 3s 2ms/step - loss: 0.4264 - accuracy: 0.0000e+00 - val_loss: 0.3710 - val_accuracy: 0.0000e+00\n",
      "Epoch 6/100\n",
      "1312/1312 [==============================] - 2s 2ms/step - loss: 0.4238 - accuracy: 0.0000e+00 - val_loss: 0.3696 - val_accuracy: 0.0000e+00\n",
      "Epoch 7/100\n",
      "1312/1312 [==============================] - 2s 2ms/step - loss: 0.4230 - accuracy: 0.0000e+00 - val_loss: 0.3683 - val_accuracy: 0.0000e+00\n",
      "Epoch 8/100\n",
      "1312/1312 [==============================] - 2s 1ms/step - loss: 0.4229 - accuracy: 0.0000e+00 - val_loss: 0.3686 - val_accuracy: 0.0000e+00\n",
      "Epoch 9/100\n",
      "1312/1312 [==============================] - 2s 1ms/step - loss: 0.4219 - accuracy: 0.0000e+00 - val_loss: 0.3677 - val_accuracy: 0.0000e+00\n",
      "Epoch 10/100\n",
      "1312/1312 [==============================] - 2s 1ms/step - loss: 0.4217 - accuracy: 0.0000e+00 - val_loss: 0.3675 - val_accuracy: 0.0000e+00\n",
      "Epoch 11/100\n",
      "1312/1312 [==============================] - 2s 2ms/step - loss: 0.4213 - accuracy: 0.0000e+00 - val_loss: 0.3674 - val_accuracy: 0.0000e+00\n",
      "Epoch 12/100\n",
      "1312/1312 [==============================] - 2s 1ms/step - loss: 0.4210 - accuracy: 0.0000e+00 - val_loss: 0.3686 - val_accuracy: 0.0000e+00\n",
      "Epoch 13/100\n",
      "1312/1312 [==============================] - 2s 1ms/step - loss: 0.4213 - accuracy: 0.0000e+00 - val_loss: 0.3675 - val_accuracy: 0.0000e+00\n",
      "Epoch 14/100\n",
      "1312/1312 [==============================] - 2s 1ms/step - loss: 0.4212 - accuracy: 0.0000e+00 - val_loss: 0.3676 - val_accuracy: 0.0000e+00\n",
      "Epoch 15/100\n",
      "1312/1312 [==============================] - 2s 1ms/step - loss: 0.4212 - accuracy: 0.0000e+00 - val_loss: 0.3684 - val_accuracy: 0.0000e+00\n",
      "Epoch 16/100\n",
      "1312/1312 [==============================] - 2s 1ms/step - loss: 0.4213 - accuracy: 0.0000e+00 - val_loss: 0.3674 - val_accuracy: 0.0000e+00\n",
      "Epoch 17/100\n",
      "1312/1312 [==============================] - 2s 2ms/step - loss: 0.4212 - accuracy: 0.0000e+00 - val_loss: 0.3679 - val_accuracy: 0.0000e+00\n",
      "Epoch 18/100\n",
      "1312/1312 [==============================] - 2s 1ms/step - loss: 0.4213 - accuracy: 0.0000e+00 - val_loss: 0.3678 - val_accuracy: 0.0000e+00\n",
      "Epoch 19/100\n",
      "1312/1312 [==============================] - 2s 2ms/step - loss: 0.4212 - accuracy: 0.0000e+00 - val_loss: 0.3675 - val_accuracy: 0.0000e+00\n",
      "Epoch 20/100\n",
      "1312/1312 [==============================] - 2s 2ms/step - loss: 0.4212 - accuracy: 0.0000e+00 - val_loss: 0.3680 - val_accuracy: 0.0000e+00\n",
      "Epoch 21/100\n",
      "1312/1312 [==============================] - 2s 2ms/step - loss: 0.4213 - accuracy: 0.0000e+00 - val_loss: 0.3674 - val_accuracy: 0.0000e+00\n",
      "Epoch 22/100\n",
      "1312/1312 [==============================] - 2s 2ms/step - loss: 0.4212 - accuracy: 0.0000e+00 - val_loss: 0.3676 - val_accuracy: 0.0000e+00\n",
      "Epoch 23/100\n",
      "1312/1312 [==============================] - 2s 2ms/step - loss: 0.4212 - accuracy: 0.0000e+00 - val_loss: 0.3679 - val_accuracy: 0.0000e+00\n",
      "Epoch 24/100\n",
      "1312/1312 [==============================] - 2s 2ms/step - loss: 0.4212 - accuracy: 0.0000e+00 - val_loss: 0.3674 - val_accuracy: 0.0000e+00\n",
      "Epoch 25/100\n",
      "1312/1312 [==============================] - 2s 2ms/step - loss: 0.4213 - accuracy: 0.0000e+00 - val_loss: 0.3675 - val_accuracy: 0.0000e+00\n",
      "Epoch 26/100\n",
      "1312/1312 [==============================] - 2s 2ms/step - loss: 0.4212 - accuracy: 0.0000e+00 - val_loss: 0.3676 - val_accuracy: 0.0000e+00\n",
      "Epoch 27/100\n",
      "1312/1312 [==============================] - 2s 2ms/step - loss: 0.4212 - accuracy: 0.0000e+00 - val_loss: 0.3680 - val_accuracy: 0.0000e+00\n",
      "Epoch 28/100\n",
      "1312/1312 [==============================] - 2s 1ms/step - loss: 0.4213 - accuracy: 0.0000e+00 - val_loss: 0.3681 - val_accuracy: 0.0000e+00\n",
      "Epoch 29/100\n",
      "1312/1312 [==============================] - 2s 1ms/step - loss: 0.4213 - accuracy: 0.0000e+00 - val_loss: 0.3680 - val_accuracy: 0.0000e+00\n",
      "Epoch 30/100\n",
      "1312/1312 [==============================] - 2s 2ms/step - loss: 0.4213 - accuracy: 0.0000e+00 - val_loss: 0.3677 - val_accuracy: 0.0000e+00\n",
      "Epoch 31/100\n",
      "1312/1312 [==============================] - 2s 1ms/step - loss: 0.4212 - accuracy: 0.0000e+00 - val_loss: 0.3676 - val_accuracy: 0.0000e+00\n",
      "Epoch 32/100\n",
      "1312/1312 [==============================] - 2s 2ms/step - loss: 0.4212 - accuracy: 0.0000e+00 - val_loss: 0.3678 - val_accuracy: 0.0000e+00\n",
      "Epoch 33/100\n",
      "1312/1312 [==============================] - 2s 1ms/step - loss: 0.4212 - accuracy: 0.0000e+00 - val_loss: 0.3680 - val_accuracy: 0.0000e+00\n",
      "Epoch 34/100\n",
      "1312/1312 [==============================] - 2s 1ms/step - loss: 0.4213 - accuracy: 0.0000e+00 - val_loss: 0.3675 - val_accuracy: 0.0000e+00\n",
      "Epoch 35/100\n",
      "1312/1312 [==============================] - 2s 1ms/step - loss: 0.4212 - accuracy: 0.0000e+00 - val_loss: 0.3674 - val_accuracy: 0.0000e+00\n",
      "Epoch 36/100\n",
      "1312/1312 [==============================] - 2s 1ms/step - loss: 0.4212 - accuracy: 0.0000e+00 - val_loss: 0.3676 - val_accuracy: 0.0000e+00\n",
      "Epoch 37/100\n",
      "1312/1312 [==============================] - 2s 2ms/step - loss: 0.4212 - accuracy: 0.0000e+00 - val_loss: 0.3676 - val_accuracy: 0.0000e+00\n",
      "Epoch 38/100\n",
      "1312/1312 [==============================] - 2s 2ms/step - loss: 0.4213 - accuracy: 0.0000e+00 - val_loss: 0.3676 - val_accuracy: 0.0000e+00\n",
      "Epoch 39/100\n",
      "1312/1312 [==============================] - 2s 2ms/step - loss: 0.4212 - accuracy: 0.0000e+00 - val_loss: 0.3677 - val_accuracy: 0.0000e+00\n",
      "Epoch 40/100\n",
      "1312/1312 [==============================] - 2s 2ms/step - loss: 0.4213 - accuracy: 0.0000e+00 - val_loss: 0.3676 - val_accuracy: 0.0000e+00\n",
      "Epoch 41/100\n",
      "1312/1312 [==============================] - 2s 2ms/step - loss: 0.4212 - accuracy: 0.0000e+00 - val_loss: 0.3682 - val_accuracy: 0.0000e+00\n",
      "Epoch 42/100\n",
      "1312/1312 [==============================] - 2s 1ms/step - loss: 0.4212 - accuracy: 0.0000e+00 - val_loss: 0.3676 - val_accuracy: 0.0000e+00\n",
      "Epoch 43/100\n",
      "1312/1312 [==============================] - 2s 2ms/step - loss: 0.4213 - accuracy: 0.0000e+00 - val_loss: 0.3678 - val_accuracy: 0.0000e+00\n",
      "Epoch 44/100\n",
      "1312/1312 [==============================] - 2s 2ms/step - loss: 0.4212 - accuracy: 0.0000e+00 - val_loss: 0.3681 - val_accuracy: 0.0000e+00\n",
      "Epoch 45/100\n",
      "1312/1312 [==============================] - 2s 2ms/step - loss: 0.4212 - accuracy: 0.0000e+00 - val_loss: 0.3674 - val_accuracy: 0.0000e+00\n",
      "Epoch 46/100\n",
      "1312/1312 [==============================] - 2s 1ms/step - loss: 0.4212 - accuracy: 0.0000e+00 - val_loss: 0.3675 - val_accuracy: 0.0000e+00\n",
      "Epoch 47/100\n",
      "1312/1312 [==============================] - 2s 1ms/step - loss: 0.4213 - accuracy: 0.0000e+00 - val_loss: 0.3674 - val_accuracy: 0.0000e+00\n",
      "Epoch 48/100\n",
      "1312/1312 [==============================] - 2s 1ms/step - loss: 0.4212 - accuracy: 0.0000e+00 - val_loss: 0.3676 - val_accuracy: 0.0000e+00\n",
      "Epoch 49/100\n",
      "1312/1312 [==============================] - 2s 1ms/step - loss: 0.4212 - accuracy: 0.0000e+00 - val_loss: 0.3674 - val_accuracy: 0.0000e+00\n",
      "Epoch 50/100\n",
      "1312/1312 [==============================] - 2s 1ms/step - loss: 0.4212 - accuracy: 0.0000e+00 - val_loss: 0.3675 - val_accuracy: 0.0000e+00\n",
      "Epoch 51/100\n",
      "1312/1312 [==============================] - 2s 1ms/step - loss: 0.4212 - accuracy: 0.0000e+00 - val_loss: 0.3679 - val_accuracy: 0.0000e+00\n",
      "Epoch 52/100\n",
      "1312/1312 [==============================] - 2s 1ms/step - loss: 0.4213 - accuracy: 0.0000e+00 - val_loss: 0.3677 - val_accuracy: 0.0000e+00\n",
      "Epoch 53/100\n",
      "1312/1312 [==============================] - 2s 1ms/step - loss: 0.4212 - accuracy: 0.0000e+00 - val_loss: 0.3679 - val_accuracy: 0.0000e+00\n",
      "Epoch 54/100\n"
     ]
    },
    {
     "name": "stdout",
     "output_type": "stream",
     "text": [
      "1312/1312 [==============================] - 2s 2ms/step - loss: 0.4212 - accuracy: 0.0000e+00 - val_loss: 0.3674 - val_accuracy: 0.0000e+00\n",
      "Epoch 55/100\n",
      "1312/1312 [==============================] - 3s 2ms/step - loss: 0.4213 - accuracy: 0.0000e+00 - val_loss: 0.3675 - val_accuracy: 0.0000e+00\n",
      "Epoch 56/100\n",
      "1312/1312 [==============================] - 3s 2ms/step - loss: 0.4212 - accuracy: 0.0000e+00 - val_loss: 0.3679 - val_accuracy: 0.0000e+00\n",
      "Epoch 57/100\n",
      "1312/1312 [==============================] - 3s 2ms/step - loss: 0.4212 - accuracy: 0.0000e+00 - val_loss: 0.3677 - val_accuracy: 0.0000e+00\n",
      "Epoch 58/100\n",
      "1312/1312 [==============================] - 2s 2ms/step - loss: 0.4213 - accuracy: 0.0000e+00 - val_loss: 0.3678 - val_accuracy: 0.0000e+00\n",
      "Epoch 59/100\n",
      "1312/1312 [==============================] - 2s 2ms/step - loss: 0.4212 - accuracy: 0.0000e+00 - val_loss: 0.3676 - val_accuracy: 0.0000e+00\n",
      "Epoch 60/100\n",
      "1312/1312 [==============================] - 2s 2ms/step - loss: 0.4212 - accuracy: 0.0000e+00 - val_loss: 0.3674 - val_accuracy: 0.0000e+00\n",
      "Epoch 61/100\n",
      "1312/1312 [==============================] - 2s 2ms/step - loss: 0.4213 - accuracy: 0.0000e+00 - val_loss: 0.3675 - val_accuracy: 0.0000e+00\n",
      "Epoch 62/100\n",
      "1312/1312 [==============================] - 2s 2ms/step - loss: 0.4212 - accuracy: 0.0000e+00 - val_loss: 0.3675 - val_accuracy: 0.0000e+00\n",
      "Epoch 63/100\n",
      "1312/1312 [==============================] - 3s 2ms/step - loss: 0.4212 - accuracy: 0.0000e+00 - val_loss: 0.3675 - val_accuracy: 0.0000e+00\n",
      "Epoch 64/100\n",
      "1312/1312 [==============================] - 3s 2ms/step - loss: 0.4210 - accuracy: 0.0000e+00 - val_loss: 0.3675 - val_accuracy: 0.0000e+00\n",
      "Epoch 65/100\n",
      "1312/1312 [==============================] - 2s 2ms/step - loss: 0.4212 - accuracy: 0.0000e+00 - val_loss: 0.3675 - val_accuracy: 0.0000e+00\n",
      "Epoch 66/100\n",
      "1312/1312 [==============================] - 2s 2ms/step - loss: 0.4212 - accuracy: 0.0000e+00 - val_loss: 0.3676 - val_accuracy: 0.0000e+00\n",
      "Epoch 67/100\n",
      "1312/1312 [==============================] - 2s 2ms/step - loss: 0.4212 - accuracy: 0.0000e+00 - val_loss: 0.3675 - val_accuracy: 0.0000e+00\n",
      "Epoch 68/100\n",
      "1312/1312 [==============================] - 2s 2ms/step - loss: 0.4213 - accuracy: 0.0000e+00 - val_loss: 0.3675 - val_accuracy: 0.0000e+00\n",
      "Epoch 69/100\n",
      "1312/1312 [==============================] - 3s 2ms/step - loss: 0.4213 - accuracy: 0.0000e+00 - val_loss: 0.3675 - val_accuracy: 0.0000e+00\n",
      "Epoch 70/100\n",
      "1312/1312 [==============================] - 3s 2ms/step - loss: 0.4213 - accuracy: 0.0000e+00 - val_loss: 0.3678 - val_accuracy: 0.0000e+00\n",
      "Epoch 71/100\n",
      "1312/1312 [==============================] - 3s 2ms/step - loss: 0.4212 - accuracy: 0.0000e+00 - val_loss: 0.3674 - val_accuracy: 0.0000e+00\n",
      "Epoch 72/100\n",
      "1312/1312 [==============================] - 3s 2ms/step - loss: 0.4213 - accuracy: 0.0000e+00 - val_loss: 0.3677 - val_accuracy: 0.0000e+00\n",
      "Epoch 73/100\n",
      "1312/1312 [==============================] - 2s 2ms/step - loss: 0.4212 - accuracy: 0.0000e+00 - val_loss: 0.3681 - val_accuracy: 0.0000e+00\n",
      "Epoch 74/100\n",
      "1312/1312 [==============================] - 3s 2ms/step - loss: 0.4213 - accuracy: 0.0000e+00 - val_loss: 0.3679 - val_accuracy: 0.0000e+00\n",
      "Epoch 75/100\n",
      "1312/1312 [==============================] - 3s 2ms/step - loss: 0.4213 - accuracy: 0.0000e+00 - val_loss: 0.3674 - val_accuracy: 0.0000e+00\n",
      "Epoch 76/100\n",
      "1312/1312 [==============================] - 3s 2ms/step - loss: 0.4213 - accuracy: 0.0000e+00 - val_loss: 0.3676 - val_accuracy: 0.0000e+00\n",
      "Epoch 77/100\n",
      "1312/1312 [==============================] - 3s 2ms/step - loss: 0.4212 - accuracy: 0.0000e+00 - val_loss: 0.3677 - val_accuracy: 0.0000e+00\n",
      "Epoch 78/100\n",
      "1312/1312 [==============================] - 3s 2ms/step - loss: 0.4212 - accuracy: 0.0000e+00 - val_loss: 0.3680 - val_accuracy: 0.0000e+00\n",
      "Epoch 79/100\n",
      "1312/1312 [==============================] - 2s 2ms/step - loss: 0.4210 - accuracy: 0.0000e+00 - val_loss: 0.3674 - val_accuracy: 0.0000e+00\n",
      "Epoch 80/100\n",
      "1312/1312 [==============================] - 3s 2ms/step - loss: 0.4213 - accuracy: 0.0000e+00 - val_loss: 0.3676 - val_accuracy: 0.0000e+00\n",
      "Epoch 81/100\n",
      "1312/1312 [==============================] - 3s 2ms/step - loss: 0.4213 - accuracy: 0.0000e+00 - val_loss: 0.3675 - val_accuracy: 0.0000e+00\n",
      "Epoch 82/100\n",
      "1312/1312 [==============================] - 3s 2ms/step - loss: 0.4212 - accuracy: 0.0000e+00 - val_loss: 0.3674 - val_accuracy: 0.0000e+00\n",
      "Epoch 83/100\n",
      "1312/1312 [==============================] - 3s 2ms/step - loss: 0.4212 - accuracy: 0.0000e+00 - val_loss: 0.3685 - val_accuracy: 0.0000e+00\n",
      "Epoch 84/100\n",
      "1312/1312 [==============================] - 3s 2ms/step - loss: 0.4213 - accuracy: 0.0000e+00 - val_loss: 0.3675 - val_accuracy: 0.0000e+00\n",
      "Epoch 85/100\n",
      "1312/1312 [==============================] - 3s 2ms/step - loss: 0.4211 - accuracy: 0.0000e+00 - val_loss: 0.3680 - val_accuracy: 0.0000e+00\n",
      "Epoch 86/100\n",
      "1312/1312 [==============================] - 3s 2ms/step - loss: 0.4212 - accuracy: 0.0000e+00 - val_loss: 0.3675 - val_accuracy: 0.0000e+00\n",
      "Epoch 87/100\n",
      "1312/1312 [==============================] - 2s 2ms/step - loss: 0.4211 - accuracy: 0.0000e+00 - val_loss: 0.3675 - val_accuracy: 0.0000e+00\n",
      "Epoch 88/100\n",
      "1312/1312 [==============================] - 2s 2ms/step - loss: 0.4212 - accuracy: 0.0000e+00 - val_loss: 0.3682 - val_accuracy: 0.0000e+00\n",
      "Epoch 89/100\n",
      "1312/1312 [==============================] - 3s 2ms/step - loss: 0.4212 - accuracy: 0.0000e+00 - val_loss: 0.3675 - val_accuracy: 0.0000e+00\n",
      "Epoch 90/100\n",
      "1312/1312 [==============================] - 3s 2ms/step - loss: 0.4212 - accuracy: 0.0000e+00 - val_loss: 0.3679 - val_accuracy: 0.0000e+00\n",
      "Epoch 91/100\n",
      "1312/1312 [==============================] - 2s 2ms/step - loss: 0.4212 - accuracy: 0.0000e+00 - val_loss: 0.3680 - val_accuracy: 0.0000e+00\n",
      "Epoch 92/100\n",
      "1312/1312 [==============================] - 2s 2ms/step - loss: 0.4213 - accuracy: 0.0000e+00 - val_loss: 0.3674 - val_accuracy: 0.0000e+00\n",
      "Epoch 93/100\n",
      "1312/1312 [==============================] - 2s 2ms/step - loss: 0.4213 - accuracy: 0.0000e+00 - val_loss: 0.3675 - val_accuracy: 0.0000e+00\n",
      "Epoch 94/100\n",
      "1312/1312 [==============================] - 2s 2ms/step - loss: 0.4213 - accuracy: 0.0000e+00 - val_loss: 0.3675 - val_accuracy: 0.0000e+00\n",
      "Epoch 95/100\n",
      "1312/1312 [==============================] - 3s 2ms/step - loss: 0.4213 - accuracy: 0.0000e+00 - val_loss: 0.3675 - val_accuracy: 0.0000e+00\n",
      "Epoch 96/100\n",
      "1312/1312 [==============================] - 2s 2ms/step - loss: 0.4212 - accuracy: 0.0000e+00 - val_loss: 0.3676 - val_accuracy: 0.0000e+00\n",
      "Epoch 97/100\n",
      "1312/1312 [==============================] - 2s 2ms/step - loss: 0.4212 - accuracy: 0.0000e+00 - val_loss: 0.3675 - val_accuracy: 0.0000e+00\n",
      "Epoch 98/100\n",
      "1312/1312 [==============================] - 2s 2ms/step - loss: 0.4213 - accuracy: 0.0000e+00 - val_loss: 0.3676 - val_accuracy: 0.0000e+00\n",
      "Epoch 99/100\n",
      "1312/1312 [==============================] - 3s 2ms/step - loss: 0.4213 - accuracy: 0.0000e+00 - val_loss: 0.3674 - val_accuracy: 0.0000e+00\n",
      "Epoch 100/100\n",
      "1312/1312 [==============================] - 2s 2ms/step - loss: 0.4212 - accuracy: 0.0000e+00 - val_loss: 0.3680 - val_accuracy: 0.0000e+00\n"
     ]
    }
   ],
   "source": [
    "# Training\n",
    "\n",
    "classifier.compile(optimizer = 'adam', loss = 'mean_squared_error', metrics = ['accuracy'])\n",
    "\n",
    "history=classifier.fit(x_kbnn, y_kbnn-emp.predict(x_kbnn), batch_size = 10, epochs = 100, validation_data = (x_test, y_test-emp.predict(x_test)))"
   ]
  },
  {
   "cell_type": "code",
   "execution_count": 8,
   "id": "3d9b049d",
   "metadata": {},
   "outputs": [
    {
     "name": "stdout",
     "output_type": "stream",
     "text": [
      "0.3679779928242555\n"
     ]
    }
   ],
   "source": [
    "from sklearn.metrics import mean_squared_error\n",
    "from sklearn.metrics import r2_score\n",
    "import matplotlib.pyplot as plt\n",
    "\n",
    "y_pred = classifier.predict(x_test)[0] + emp.predict(x_test)\n",
    "\n",
    "mean_squared_error(y_test,y_pred)\n",
    "r2_score(y_test, y_pred)\n",
    "\n",
    "print(mean_squared_error(y_test,y_pred))"
   ]
  },
  {
   "cell_type": "code",
   "execution_count": 9,
   "id": "07945451",
   "metadata": {
    "scrolled": false
   },
   "outputs": [
    {
     "data": {
      "image/png": "[encoded data removed]",
      "text/plain": [
       "<Figure size 432x288 with 1 Axes>"
      ]
     },
     "metadata": {
      "needs_background": "light"
     },
     "output_type": "display_data"
    },
    {
     "data": {
      "image/png": "[encoded data removed]",
      "text/plain": [
       "<Figure size 432x288 with 1 Axes>"
      ]
     },
     "metadata": {
      "needs_background": "light"
     },
     "output_type": "display_data"
    },
    {
     "data": {
      "image/png": "[encoded data removed]",
      "text/plain": [
       "<Figure size 432x288 with 1 Axes>"
      ]
     },
     "metadata": {
      "needs_background": "light"
     },
     "output_type": "display_data"
    }
   ],
   "source": [
    "plt.plot(history.history['loss'])\n",
    "plt.title('Model Loss')\n",
    "plt.ylabel('LOSS')\n",
    "plt.xlabel('EPOCH')\n",
    "plt.legend(['train'], loc='upper left')\n",
    "plt.show()\n",
    "\n",
    "plt.plot(history.history['val_loss'])\n",
    "plt.title('Model Validation Loss')\n",
    "plt.ylabel('VAL LOSS')\n",
    "plt.xlabel('EPOCH')\n",
    "plt.legend(['train'], loc='upper left')\n",
    "plt.show()\n",
    "\n",
    "def generatePredictionPlot(y_pred, y_test):\n",
    "    plt.scatter(x=y_test, y=y_pred, c='navy', alpha=0.6)\n",
    "    plt.plot(y_test, y_test,color='cyan')\n",
    "    plt.title('Predicted vs Actual values')\n",
    "    plt.xlabel('Actual values')\n",
    "    plt.ylabel('Predicted values')\n",
    "    plt.show()\n",
    "    \n",
    "generatePredictionPlot(y_pred, y_test)"
   ]
  },
  {
   "cell_type": "code",
   "execution_count": 10,
   "id": "b34afd1b",
   "metadata": {},
   "outputs": [
    {
     "data": {
      "text/plain": [
       "0.9903202621767339"
      ]
     },
     "execution_count": 10,
     "metadata": {},
     "output_type": "execute_result"
    }
   ],
   "source": [
    "r2_score(y_test,y_pred)"
   ]
  },
  {
   "cell_type": "code",
   "execution_count": null,
   "id": "8d415838",
   "metadata": {},
   "outputs": [],
   "source": []
  }
 ],
 "metadata": {
  "kernelspec": {
   "display_name": "Python 3 (ipykernel)",
   "language": "python",
   "name": "python3"
  },
  "language_info": {
   "codemirror_mode": {
    "name": "ipython",
    "version": 3
   },
   "file_extension": ".py",
   "mimetype": "text/x-python",
   "name": "python",
   "nbconvert_exporter": "python",
   "pygments_lexer": "ipython3",
   "version": "3.8.8"
  }
 },
 "nbformat": 4,
 "nbformat_minor": 5
}
