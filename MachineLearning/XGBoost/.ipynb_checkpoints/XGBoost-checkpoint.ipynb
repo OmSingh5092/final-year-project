{
 "cells": [
  {
   "cell_type": "code",
   "execution_count": 1,
   "id": "d0f1939d-f7f4-408d-8573-50a4e4888d45",
   "metadata": {},
   "outputs": [],
   "source": [
    "import numpy as np\n",
    "import pandas as pd\n",
    "import xgboost as xgb\n",
    "from sklearn.metrics import r2_score\n",
    "from sklearn.metrics import mean_squared_error as mse\n",
    "from sklearn.datasets import load_boston\n",
    "from sklearn.model_selection import train_test_split\n",
    "from yellowbrick.regressor import residuals_plot\n",
    "from yellowbrick.regressor import prediction_error"
   ]
  },
  {
   "cell_type": "code",
   "execution_count": 4,
   "id": "c95ad6c7-67e0-4526-879b-89de372f0c6e",
   "metadata": {},
   "outputs": [
    {
     "ename": "SyntaxError",
     "evalue": "invalid syntax (Temp/ipykernel_24648/3006453558.py, line 5)",
     "output_type": "error",
     "traceback": [
      "\u001b[1;36m  File \u001b[1;32m\"C:\\Users\\OMSING~1\\AppData\\Local\\Temp/ipykernel_24648/3006453558.py\"\u001b[1;36m, line \u001b[1;32m5\u001b[0m\n\u001b[1;33m    matrix in pd.DataFrame format\u001b[0m\n\u001b[1;37m                           ^\u001b[0m\n\u001b[1;31mSyntaxError\u001b[0m\u001b[1;31m:\u001b[0m invalid syntax\n"
     ]
    }
   ],
   "source": [
    "dataset = pd.read_csv(\"../DataSets/data_set.csv\")\n",
    "#data = load_boston() # Loading the data\n",
    "X = pd.DataFrame(dataset.iloc[:, 0:3].values)\n",
    "y = dataset.iloc[:, 3].values\n",
    "#X = pd.DataFrame(data.data, columns=data.feature_names) # Feature\n",
    "matrix in pd.DataFrame format\n",
    "#y = pd.Series(data.target) # Target vector in pd.Series format\n",
    "\n",
    "# Making train and test sets for both X and y\n",
    "X_train, X_test, y_train, y_test = train_test_split(X, y, test_size = 0.1, random_state = 123)\n",
    "\n",
    "# Instantiate an XGBoost object with hyperparameters\n",
    "xgb_reg = xgb.XGBRegressor(n_estimators=100, objectvie='reg:linear', seed = 123)\n",
    "\n",
    "# Train the model with train data sets\n",
    "xgb_reg.fit(X_train, y_train)"
   ]
  },
  {
   "cell_type": "code",
   "execution_count": null,
   "id": "c19d002f-6145-444b-b8b5-d87a9372475f",
   "metadata": {},
   "outputs": [],
   "source": []
  }
 ],
 "metadata": {
  "kernelspec": {
   "display_name": "Python 3 (ipykernel)",
   "language": "python",
   "name": "python3"
  },
  "language_info": {
   "codemirror_mode": {
    "name": "ipython",
    "version": 3
   },
   "file_extension": ".py",
   "mimetype": "text/x-python",
   "name": "python",
   "nbconvert_exporter": "python",
   "pygments_lexer": "ipython3",
   "version": "3.9.1"
  }
 },
 "nbformat": 4,
 "nbformat_minor": 5
}
