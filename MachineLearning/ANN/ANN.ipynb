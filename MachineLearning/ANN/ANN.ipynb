{
 "cells": [
  {
   "cell_type": "code",
   "execution_count": 1,
   "id": "2c3201c8-a735-4497-b59e-1e01831da8ba",
   "metadata": {},
   "outputs": [],
   "source": [
    "import pandas as pd\n",
    "from sklearn.model_selection import train_test_split\n",
    "\n",
    "import keras\n",
    "from keras.models import Sequential\n",
    "from keras.layers import Dense"
   ]
  },
  {
   "cell_type": "code",
   "execution_count": 2,
   "id": "ad861d9a-1472-4503-9d90-c9fe14cf93d3",
   "metadata": {},
   "outputs": [],
   "source": [
    "# Reading data from csv file\n",
    "\n",
    "dataset = pd.read_csv('../DataSets/data_set.csv')\n",
    "\n",
    "x = pd.DataFrame(dataset.iloc[:, 0:3].values)\n",
    "y = dataset.iloc[:, 3].values"
   ]
  },
  {
   "cell_type": "code",
   "execution_count": 3,
   "id": "02eaa61f-a48c-46dd-9251-a93041462cf0",
   "metadata": {},
   "outputs": [],
   "source": [
    "# Generating training and test data sets\n",
    "\n",
    "x_train, x_test, y_train, y_test = train_test_split(x, y, test_size = 0.2, random_state = 123)"
   ]
  },
  {
   "cell_type": "code",
   "execution_count": 4,
   "id": "eecc7b2c-fa09-4b2f-a089-8166d1f100e8",
   "metadata": {},
   "outputs": [],
   "source": [
    "# Artificial NN\n",
    "\n",
    "classifier = Sequential()\n",
    "\n",
    "# Input Layer\n",
    "classifier.add(Dense(units = 6, activation = 'relu', input_dim = 3))\n",
    "\n",
    "# 1st Hidden Layer\n",
    "classifier.add(Dense(units = 8, activation = 'relu'))\n",
    "\n",
    "# 2nd Hidden Layer\n",
    "classifier.add(Dense(units = 3, activation = 'relu'))\n",
    "\n",
    "# Output Layer\n",
    "classifier.add(Dense(units = 1, activation = 'linear'))\n"
   ]
  },
  {
   "cell_type": "code",
   "execution_count": 5,
   "id": "2137ba00-034d-497b-9ffb-28e69e94f666",
   "metadata": {},
   "outputs": [
    {
     "name": "stdout",
     "output_type": "stream",
     "text": [
      "Epoch 1/100\n",
      "4139/4139 [==============================] - 6s 1ms/step - loss: 16.8085 - accuracy: 0.0000e+00 - val_loss: 15.0275 - val_accuracy: 0.0000e+00\n",
      "Epoch 2/100\n",
      "4139/4139 [==============================] - 5s 1ms/step - loss: 15.0512 - accuracy: 0.0000e+00 - val_loss: 15.0336 - val_accuracy: 0.0000e+00\n",
      "Epoch 3/100\n",
      "4139/4139 [==============================] - 5s 1ms/step - loss: 15.0299 - accuracy: 0.0000e+00 - val_loss: 15.1264 - val_accuracy: 0.0000e+00\n",
      "Epoch 4/100\n",
      "4139/4139 [==============================] - 6s 1ms/step - loss: 15.0448 - accuracy: 0.0000e+00 - val_loss: 14.9033 - val_accuracy: 0.0000e+00\n",
      "Epoch 5/100\n",
      "4139/4139 [==============================] - 6s 1ms/step - loss: 15.0246 - accuracy: 0.0000e+00 - val_loss: 14.8760 - val_accuracy: 0.0000e+00\n",
      "Epoch 6/100\n",
      "4139/4139 [==============================] - 6s 1ms/step - loss: 15.0351 - accuracy: 0.0000e+00 - val_loss: 14.8682 - val_accuracy: 0.0000e+00\n",
      "Epoch 7/100\n",
      "4139/4139 [==============================] - 6s 1ms/step - loss: 15.0314 - accuracy: 0.0000e+00 - val_loss: 14.8769 - val_accuracy: 0.0000e+00\n",
      "Epoch 8/100\n",
      "4139/4139 [==============================] - 7s 2ms/step - loss: 15.0199 - accuracy: 0.0000e+00 - val_loss: 15.0934 - val_accuracy: 0.0000e+00\n",
      "Epoch 9/100\n",
      "4139/4139 [==============================] - 6s 1ms/step - loss: 15.0121 - accuracy: 0.0000e+00 - val_loss: 14.8924 - val_accuracy: 0.0000e+00\n",
      "Epoch 10/100\n",
      "4139/4139 [==============================] - 6s 1ms/step - loss: 15.0195 - accuracy: 0.0000e+00 - val_loss: 14.8688 - val_accuracy: 0.0000e+00\n",
      "Epoch 11/100\n",
      "4139/4139 [==============================] - 6s 1ms/step - loss: 15.0102 - accuracy: 0.0000e+00 - val_loss: 14.8800 - val_accuracy: 0.0000e+00\n",
      "Epoch 12/100\n",
      "4139/4139 [==============================] - 6s 1ms/step - loss: 14.9943 - accuracy: 0.0000e+00 - val_loss: 14.8582 - val_accuracy: 0.0000e+00\n",
      "Epoch 13/100\n",
      "4139/4139 [==============================] - 6s 1ms/step - loss: 15.0135 - accuracy: 0.0000e+00 - val_loss: 14.8602 - val_accuracy: 0.0000e+00\n",
      "Epoch 14/100\n",
      "4139/4139 [==============================] - 6s 1ms/step - loss: 15.0007 - accuracy: 0.0000e+00 - val_loss: 14.9537 - val_accuracy: 0.0000e+00\n",
      "Epoch 15/100\n",
      "4139/4139 [==============================] - 6s 1ms/step - loss: 15.0127 - accuracy: 0.0000e+00 - val_loss: 14.8681 - val_accuracy: 0.0000e+00\n",
      "Epoch 16/100\n",
      "4139/4139 [==============================] - 6s 1ms/step - loss: 14.9821 - accuracy: 0.0000e+00 - val_loss: 14.8908 - val_accuracy: 0.0000e+00\n",
      "Epoch 17/100\n",
      "4139/4139 [==============================] - 6s 1ms/step - loss: 14.9983 - accuracy: 0.0000e+00 - val_loss: 14.9119 - val_accuracy: 0.0000e+00\n",
      "Epoch 18/100\n",
      "4139/4139 [==============================] - 6s 1ms/step - loss: 14.9817 - accuracy: 0.0000e+00 - val_loss: 14.8413 - val_accuracy: 0.0000e+00\n",
      "Epoch 19/100\n",
      "4139/4139 [==============================] - 6s 2ms/step - loss: 14.9783 - accuracy: 0.0000e+00 - val_loss: 14.8389 - val_accuracy: 0.0000e+00\n",
      "Epoch 20/100\n",
      "4139/4139 [==============================] - 6s 1ms/step - loss: 14.9902 - accuracy: 0.0000e+00 - val_loss: 14.9238 - val_accuracy: 0.0000e+00\n",
      "Epoch 21/100\n",
      "4139/4139 [==============================] - 6s 1ms/step - loss: 14.6150 - accuracy: 0.0000e+00 - val_loss: 13.9963 - val_accuracy: 0.0000e+00\n",
      "Epoch 22/100\n",
      "4139/4139 [==============================] - 6s 1ms/step - loss: 13.7047 - accuracy: 0.0000e+00 - val_loss: 13.1276 - val_accuracy: 0.0000e+00\n",
      "Epoch 23/100\n",
      "4139/4139 [==============================] - 6s 1ms/step - loss: 12.5555 - accuracy: 0.0000e+00 - val_loss: 11.7862 - val_accuracy: 0.0000e+00\n",
      "Epoch 24/100\n",
      "4139/4139 [==============================] - 6s 1ms/step - loss: 11.1875 - accuracy: 0.0000e+00 - val_loss: 10.5736 - val_accuracy: 0.0000e+00\n",
      "Epoch 25/100\n",
      "4139/4139 [==============================] - 6s 1ms/step - loss: 10.2864 - accuracy: 0.0000e+00 - val_loss: 9.6300 - val_accuracy: 0.0000e+00\n",
      "Epoch 26/100\n",
      "4139/4139 [==============================] - 6s 1ms/step - loss: 9.6490 - accuracy: 0.0000e+00 - val_loss: 9.4192 - val_accuracy: 0.0000e+00\n",
      "Epoch 27/100\n",
      "4139/4139 [==============================] - 6s 1ms/step - loss: 9.2851 - accuracy: 0.0000e+00 - val_loss: 8.8646 - val_accuracy: 0.0000e+00\n",
      "Epoch 28/100\n",
      "4139/4139 [==============================] - 6s 1ms/step - loss: 9.0971 - accuracy: 0.0000e+00 - val_loss: 8.7536 - val_accuracy: 0.0000e+00\n",
      "Epoch 29/100\n",
      "4139/4139 [==============================] - 6s 1ms/step - loss: 8.9311 - accuracy: 0.0000e+00 - val_loss: 8.9265 - val_accuracy: 0.0000e+00\n",
      "Epoch 30/100\n",
      "4139/4139 [==============================] - 6s 1ms/step - loss: 8.7741 - accuracy: 0.0000e+00 - val_loss: 8.4953 - val_accuracy: 0.0000e+00\n",
      "Epoch 31/100\n",
      "4139/4139 [==============================] - 6s 1ms/step - loss: 8.6236 - accuracy: 0.0000e+00 - val_loss: 8.6204 - val_accuracy: 0.0000e+00\n",
      "Epoch 32/100\n",
      "4139/4139 [==============================] - 6s 1ms/step - loss: 8.4842 - accuracy: 0.0000e+00 - val_loss: 9.1626 - val_accuracy: 0.0000e+00\n",
      "Epoch 33/100\n",
      "4139/4139 [==============================] - 6s 1ms/step - loss: 8.3641 - accuracy: 0.0000e+00 - val_loss: 8.7305 - val_accuracy: 0.0000e+00\n",
      "Epoch 34/100\n",
      "4139/4139 [==============================] - 6s 1ms/step - loss: 8.1475 - accuracy: 0.0000e+00 - val_loss: 7.8188 - val_accuracy: 0.0000e+00\n",
      "Epoch 35/100\n",
      "4139/4139 [==============================] - 6s 1ms/step - loss: 7.9925 - accuracy: 0.0000e+00 - val_loss: 7.6461 - val_accuracy: 0.0000e+00\n",
      "Epoch 36/100\n",
      "4139/4139 [==============================] - 6s 1ms/step - loss: 7.8895 - accuracy: 0.0000e+00 - val_loss: 7.5063 - val_accuracy: 0.0000e+00\n",
      "Epoch 37/100\n",
      "4139/4139 [==============================] - 6s 1ms/step - loss: 7.7546 - accuracy: 0.0000e+00 - val_loss: 7.3315 - val_accuracy: 0.0000e+00\n",
      "Epoch 38/100\n",
      "4139/4139 [==============================] - 6s 1ms/step - loss: 7.5728 - accuracy: 0.0000e+00 - val_loss: 7.1986 - val_accuracy: 0.0000e+00\n",
      "Epoch 39/100\n",
      "4139/4139 [==============================] - 6s 1ms/step - loss: 7.4227 - accuracy: 0.0000e+00 - val_loss: 7.7117 - val_accuracy: 0.0000e+00\n",
      "Epoch 40/100\n",
      "4139/4139 [==============================] - 6s 1ms/step - loss: 7.2419 - accuracy: 0.0000e+00 - val_loss: 7.0691 - val_accuracy: 0.0000e+00\n",
      "Epoch 41/100\n",
      "4139/4139 [==============================] - 6s 1ms/step - loss: 7.0326 - accuracy: 0.0000e+00 - val_loss: 6.7926 - val_accuracy: 0.0000e+00\n",
      "Epoch 42/100\n",
      "4139/4139 [==============================] - 6s 1ms/step - loss: 6.9034 - accuracy: 0.0000e+00 - val_loss: 7.4143 - val_accuracy: 0.0000e+00\n",
      "Epoch 43/100\n",
      "4139/4139 [==============================] - 6s 1ms/step - loss: 6.7337 - accuracy: 0.0000e+00 - val_loss: 6.2359 - val_accuracy: 0.0000e+00\n",
      "Epoch 44/100\n",
      "4139/4139 [==============================] - 6s 1ms/step - loss: 6.5103 - accuracy: 0.0000e+00 - val_loss: 6.2435 - val_accuracy: 0.0000e+00\n",
      "Epoch 45/100\n",
      "4139/4139 [==============================] - 6s 1ms/step - loss: 6.3359 - accuracy: 0.0000e+00 - val_loss: 5.7932 - val_accuracy: 0.0000e+00\n",
      "Epoch 46/100\n",
      "4139/4139 [==============================] - 6s 1ms/step - loss: 6.1533 - accuracy: 0.0000e+00 - val_loss: 5.7375 - val_accuracy: 0.0000e+00\n",
      "Epoch 47/100\n",
      "4139/4139 [==============================] - 6s 1ms/step - loss: 5.9476 - accuracy: 0.0000e+00 - val_loss: 5.7600 - val_accuracy: 0.0000e+00\n",
      "Epoch 48/100\n",
      "4139/4139 [==============================] - 6s 1ms/step - loss: 5.8184 - accuracy: 0.0000e+00 - val_loss: 5.5773 - val_accuracy: 0.0000e+00\n",
      "Epoch 49/100\n",
      "4139/4139 [==============================] - 6s 1ms/step - loss: 5.5371 - accuracy: 0.0000e+00 - val_loss: 5.2557 - val_accuracy: 0.0000e+00\n",
      "Epoch 50/100\n",
      "4139/4139 [==============================] - 6s 1ms/step - loss: 4.8616 - accuracy: 0.0000e+00 - val_loss: 4.7837 - val_accuracy: 0.0000e+00\n",
      "Epoch 51/100\n",
      "4139/4139 [==============================] - 6s 1ms/step - loss: 4.2119 - accuracy: 0.0000e+00 - val_loss: 3.7979 - val_accuracy: 0.0000e+00\n",
      "Epoch 52/100\n",
      "4139/4139 [==============================] - 6s 1ms/step - loss: 3.6171 - accuracy: 0.0000e+00 - val_loss: 3.2554 - val_accuracy: 0.0000e+00\n",
      "Epoch 53/100\n",
      "4139/4139 [==============================] - 6s 1ms/step - loss: 3.0514 - accuracy: 0.0000e+00 - val_loss: 2.6199 - val_accuracy: 0.0000e+00\n"
     ]
    },
    {
     "name": "stdout",
     "output_type": "stream",
     "text": [
      "Epoch 54/100\n",
      "4139/4139 [==============================] - 6s 1ms/step - loss: 2.7046 - accuracy: 0.0000e+00 - val_loss: 2.4201 - val_accuracy: 0.0000e+00\n",
      "Epoch 55/100\n",
      "4139/4139 [==============================] - 6s 1ms/step - loss: 2.5678 - accuracy: 0.0000e+00 - val_loss: 2.7548 - val_accuracy: 0.0000e+00\n",
      "Epoch 56/100\n",
      "4139/4139 [==============================] - 6s 1ms/step - loss: 2.3673 - accuracy: 0.0000e+00 - val_loss: 1.9161 - val_accuracy: 0.0000e+00\n",
      "Epoch 57/100\n",
      "4139/4139 [==============================] - 6s 1ms/step - loss: 2.5036 - accuracy: 0.0000e+00 - val_loss: 1.8612 - val_accuracy: 0.0000e+00\n",
      "Epoch 58/100\n",
      "4139/4139 [==============================] - 7s 2ms/step - loss: 2.4294 - accuracy: 0.0000e+00 - val_loss: 2.9734 - val_accuracy: 0.0000e+00\n",
      "Epoch 59/100\n",
      "4139/4139 [==============================] - 6s 2ms/step - loss: 2.3546 - accuracy: 0.0000e+00 - val_loss: 2.0195 - val_accuracy: 0.0000e+00\n",
      "Epoch 60/100\n",
      "4139/4139 [==============================] - 6s 1ms/step - loss: 2.3168 - accuracy: 0.0000e+00 - val_loss: 2.0647 - val_accuracy: 0.0000e+00\n",
      "Epoch 61/100\n",
      "4139/4139 [==============================] - 6s 1ms/step - loss: 2.3403 - accuracy: 0.0000e+00 - val_loss: 4.5286 - val_accuracy: 0.0000e+00\n",
      "Epoch 62/100\n",
      "4139/4139 [==============================] - 6s 1ms/step - loss: 2.5585 - accuracy: 0.0000e+00 - val_loss: 2.8671 - val_accuracy: 0.0000e+00\n",
      "Epoch 63/100\n",
      "4139/4139 [==============================] - 6s 1ms/step - loss: 2.6515 - accuracy: 0.0000e+00 - val_loss: 6.8728 - val_accuracy: 0.0000e+00\n",
      "Epoch 64/100\n",
      "4139/4139 [==============================] - 6s 1ms/step - loss: 2.4369 - accuracy: 0.0000e+00 - val_loss: 4.4716 - val_accuracy: 0.0000e+00\n",
      "Epoch 65/100\n",
      "4139/4139 [==============================] - 6s 1ms/step - loss: 2.3857 - accuracy: 0.0000e+00 - val_loss: 3.0316 - val_accuracy: 0.0000e+00\n",
      "Epoch 66/100\n",
      "4139/4139 [==============================] - 6s 2ms/step - loss: 2.3355 - accuracy: 0.0000e+00 - val_loss: 1.8823 - val_accuracy: 0.0000e+00\n",
      "Epoch 67/100\n",
      "4139/4139 [==============================] - 6s 1ms/step - loss: 2.3108 - accuracy: 0.0000e+00 - val_loss: 2.0235 - val_accuracy: 0.0000e+00\n",
      "Epoch 68/100\n",
      "4139/4139 [==============================] - 6s 1ms/step - loss: 2.3151 - accuracy: 0.0000e+00 - val_loss: 2.6782 - val_accuracy: 0.0000e+00\n",
      "Epoch 69/100\n",
      "4139/4139 [==============================] - 6s 1ms/step - loss: 2.2241 - accuracy: 0.0000e+00 - val_loss: 5.4775 - val_accuracy: 0.0000e+00\n",
      "Epoch 70/100\n",
      "4139/4139 [==============================] - 6s 1ms/step - loss: 2.1582 - accuracy: 0.0000e+00 - val_loss: 1.6237 - val_accuracy: 0.0000e+00\n",
      "Epoch 71/100\n",
      "4139/4139 [==============================] - 6s 1ms/step - loss: 2.0629 - accuracy: 0.0000e+00 - val_loss: 2.1178 - val_accuracy: 0.0000e+00\n",
      "Epoch 72/100\n",
      "4139/4139 [==============================] - 6s 1ms/step - loss: 2.0885 - accuracy: 0.0000e+00 - val_loss: 2.3159 - val_accuracy: 0.0000e+00\n",
      "Epoch 73/100\n",
      "4139/4139 [==============================] - 6s 1ms/step - loss: 2.0893 - accuracy: 0.0000e+00 - val_loss: 3.9536 - val_accuracy: 0.0000e+00\n",
      "Epoch 74/100\n",
      "4139/4139 [==============================] - 6s 1ms/step - loss: 2.2409 - accuracy: 0.0000e+00 - val_loss: 1.5620 - val_accuracy: 0.0000e+00\n",
      "Epoch 75/100\n",
      "4139/4139 [==============================] - 6s 1ms/step - loss: 2.0082 - accuracy: 0.0000e+00 - val_loss: 1.5169 - val_accuracy: 0.0000e+00\n",
      "Epoch 76/100\n",
      "4139/4139 [==============================] - 6s 1ms/step - loss: 2.1372 - accuracy: 0.0000e+00 - val_loss: 2.1133 - val_accuracy: 0.0000e+00\n",
      "Epoch 77/100\n",
      "4139/4139 [==============================] - 6s 1ms/step - loss: 2.1647 - accuracy: 0.0000e+00 - val_loss: 1.5917 - val_accuracy: 0.0000e+00\n",
      "Epoch 78/100\n",
      "4139/4139 [==============================] - 6s 1ms/step - loss: 2.2410 - accuracy: 0.0000e+00 - val_loss: 4.2283 - val_accuracy: 0.0000e+00\n",
      "Epoch 79/100\n",
      "4139/4139 [==============================] - 6s 1ms/step - loss: 2.0028 - accuracy: 0.0000e+00 - val_loss: 2.4202 - val_accuracy: 0.0000e+00\n",
      "Epoch 80/100\n",
      "4139/4139 [==============================] - 6s 1ms/step - loss: 2.2210 - accuracy: 0.0000e+00 - val_loss: 1.6853 - val_accuracy: 0.0000e+00\n",
      "Epoch 81/100\n",
      "4139/4139 [==============================] - 6s 1ms/step - loss: 1.9907 - accuracy: 0.0000e+00 - val_loss: 3.7885 - val_accuracy: 0.0000e+00\n",
      "Epoch 82/100\n",
      "4139/4139 [==============================] - 6s 1ms/step - loss: 1.9551 - accuracy: 0.0000e+00 - val_loss: 3.8098 - val_accuracy: 0.0000e+00\n",
      "Epoch 83/100\n",
      "4139/4139 [==============================] - 6s 1ms/step - loss: 1.9006 - accuracy: 0.0000e+00 - val_loss: 6.9076 - val_accuracy: 0.0000e+00\n",
      "Epoch 84/100\n",
      "4139/4139 [==============================] - 6s 1ms/step - loss: 2.2600 - accuracy: 0.0000e+00 - val_loss: 1.5523 - val_accuracy: 0.0000e+00\n",
      "Epoch 85/100\n",
      "4139/4139 [==============================] - 6s 1ms/step - loss: 1.8537 - accuracy: 0.0000e+00 - val_loss: 2.7898 - val_accuracy: 0.0000e+00\n",
      "Epoch 86/100\n",
      "4139/4139 [==============================] - 6s 1ms/step - loss: 1.9908 - accuracy: 0.0000e+00 - val_loss: 1.6391 - val_accuracy: 0.0000e+00\n",
      "Epoch 87/100\n",
      "4139/4139 [==============================] - 6s 1ms/step - loss: 1.9984 - accuracy: 0.0000e+00 - val_loss: 2.4353 - val_accuracy: 0.0000e+00\n",
      "Epoch 88/100\n",
      "4139/4139 [==============================] - 6s 1ms/step - loss: 1.8463 - accuracy: 0.0000e+00 - val_loss: 3.1561 - val_accuracy: 0.0000e+00\n",
      "Epoch 89/100\n",
      "4139/4139 [==============================] - 6s 1ms/step - loss: 2.1840 - accuracy: 0.0000e+00 - val_loss: 1.4379 - val_accuracy: 0.0000e+00\n",
      "Epoch 90/100\n",
      "4139/4139 [==============================] - 6s 1ms/step - loss: 1.7475 - accuracy: 0.0000e+00 - val_loss: 1.4288 - val_accuracy: 0.0000e+00\n",
      "Epoch 91/100\n",
      "4139/4139 [==============================] - 6s 1ms/step - loss: 1.7567 - accuracy: 0.0000e+00 - val_loss: 1.6214 - val_accuracy: 0.0000e+00\n",
      "Epoch 92/100\n",
      "4139/4139 [==============================] - 6s 1ms/step - loss: 1.8815 - accuracy: 0.0000e+00 - val_loss: 1.7827 - val_accuracy: 0.0000e+00\n",
      "Epoch 93/100\n",
      "4139/4139 [==============================] - 6s 1ms/step - loss: 1.8868 - accuracy: 0.0000e+00 - val_loss: 1.7475 - val_accuracy: 0.0000e+00\n",
      "Epoch 94/100\n",
      "4139/4139 [==============================] - 6s 1ms/step - loss: 1.8525 - accuracy: 0.0000e+00 - val_loss: 6.2980 - val_accuracy: 0.0000e+00\n",
      "Epoch 95/100\n",
      "4139/4139 [==============================] - 6s 1ms/step - loss: 1.7183 - accuracy: 0.0000e+00 - val_loss: 2.4113 - val_accuracy: 0.0000e+00\n",
      "Epoch 96/100\n",
      "4139/4139 [==============================] - 6s 1ms/step - loss: 1.6244 - accuracy: 0.0000e+00 - val_loss: 1.2563 - val_accuracy: 0.0000e+00\n",
      "Epoch 97/100\n",
      "4139/4139 [==============================] - 6s 1ms/step - loss: 1.8942 - accuracy: 0.0000e+00 - val_loss: 2.1920 - val_accuracy: 0.0000e+00\n",
      "Epoch 98/100\n",
      "4139/4139 [==============================] - 6s 1ms/step - loss: 1.8524 - accuracy: 0.0000e+00 - val_loss: 1.5015 - val_accuracy: 0.0000e+00\n",
      "Epoch 99/100\n",
      "4139/4139 [==============================] - 6s 1ms/step - loss: 1.7576 - accuracy: 0.0000e+00 - val_loss: 1.2020 - val_accuracy: 0.0000e+00\n",
      "Epoch 100/100\n",
      "4139/4139 [==============================] - 6s 1ms/step - loss: 1.7049 - accuracy: 0.0000e+00 - val_loss: 3.7897 - val_accuracy: 0.0000e+00\n"
     ]
    }
   ],
   "source": [
    "# Training\n",
    "\n",
    "classifier.compile(optimizer = 'adam', loss = 'mean_squared_error', metrics = ['accuracy'])\n",
    "\n",
    "history=classifier.fit(x_train, y_train, batch_size = 10, epochs = 100, validation_data=(x_test,y_test))"
   ]
  },
  {
   "cell_type": "code",
   "execution_count": 6,
   "id": "858f1d1f-6d17-45c9-9ddb-76a2318922e9",
   "metadata": {},
   "outputs": [],
   "source": [
    "# Prediction\n",
    "\n",
    "y_pred = classifier.predict(x_test)"
   ]
  },
  {
   "cell_type": "code",
   "execution_count": 7,
   "id": "7be6b65f-1e8b-4700-91af-5886212f6770",
   "metadata": {},
   "outputs": [
    {
     "data": {
      "text/plain": [
       "3.789683473205236"
      ]
     },
     "execution_count": 7,
     "metadata": {},
     "output_type": "execute_result"
    }
   ],
   "source": [
    "# Mean squared error\n",
    "\n",
    "from sklearn.metrics import mean_squared_error\n",
    "\n",
    "mean_squared_error(y_test,y_pred)"
   ]
  },
  {
   "cell_type": "code",
   "execution_count": 8,
   "id": "98101f22-2a70-494f-9520-1993a1fe95d5",
   "metadata": {},
   "outputs": [
    {
     "data": {
      "text/plain": [
       "0.8099105667037538"
      ]
     },
     "execution_count": 8,
     "metadata": {},
     "output_type": "execute_result"
    }
   ],
   "source": [
    "# R2 Score\n",
    "\n",
    "from sklearn.metrics import r2_score\n",
    "\n",
    "r2_score(y_test, y_pred)"
   ]
  },
  {
   "cell_type": "code",
   "execution_count": 9,
   "id": "d30825f7-27a1-4ef4-a3b7-4115a94d5461",
   "metadata": {},
   "outputs": [
    {
     "data": {
      "image/png": "[encoded data removed]",
      "text/plain": [
       "<Figure size 432x288 with 1 Axes>"
      ]
     },
     "metadata": {
      "needs_background": "light"
     },
     "output_type": "display_data"
    }
   ],
   "source": [
    "import matplotlib.pyplot as plt\n",
    "\n",
    "plt.plot(history.history['loss'])\n",
    "plt.title('Model Loss')\n",
    "plt.ylabel('LOSS')\n",
    "plt.xlabel('EPOCH')\n",
    "plt.legend(['train'], loc='upper left')\n",
    "plt.show()"
   ]
  },
  {
   "cell_type": "code",
   "execution_count": 10,
   "id": "3b2db7cc",
   "metadata": {},
   "outputs": [
    {
     "data": {
      "image/png": "[encoded data removed]",
      "text/plain": [
       "<Figure size 432x288 with 1 Axes>"
      ]
     },
     "metadata": {
      "needs_background": "light"
     },
     "output_type": "display_data"
    }
   ],
   "source": [
    "plt.plot(history.history['val_loss'])\n",
    "plt.title('Model Validation Loss')\n",
    "plt.ylabel('VAL LOSS')\n",
    "plt.xlabel('EPOCH')\n",
    "plt.legend(['train'], loc='upper left')\n",
    "plt.show()"
   ]
  },
  {
   "cell_type": "code",
   "execution_count": 11,
   "id": "eff72629",
   "metadata": {},
   "outputs": [
    {
     "data": {
      "image/png": "[encoded data removed]",
      "text/plain": [
       "<Figure size 432x288 with 1 Axes>"
      ]
     },
     "metadata": {
      "needs_background": "light"
     },
     "output_type": "display_data"
    }
   ],
   "source": [
    "plt.scatter(x=y_test, y=y_pred, c='navy', alpha=0.6)\n",
    "plt.plot(y_test, y_test,color='cyan')\n",
    "plt.xlabel('Actual values')\n",
    "plt.ylabel('Predicted values')\n",
    "plt.show()"
   ]
  },
  {
   "cell_type": "code",
   "execution_count": null,
   "id": "54f523a2",
   "metadata": {},
   "outputs": [],
   "source": []
  }
 ],
 "metadata": {
  "kernelspec": {
   "display_name": "Python 3 (ipykernel)",
   "language": "python",
   "name": "python3"
  },
  "language_info": {
   "codemirror_mode": {
    "name": "ipython",
    "version": 3
   },
   "file_extension": ".py",
   "mimetype": "text/x-python",
   "name": "python",
   "nbconvert_exporter": "python",
   "pygments_lexer": "ipython3",
   "version": "3.9.6"
  }
 },
 "nbformat": 4,
 "nbformat_minor": 5
}
